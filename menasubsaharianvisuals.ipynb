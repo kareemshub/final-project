{
 "cells": [
  {
   "cell_type": "markdown",
   "id": "972d1bfd-bf65-45a2-93a0-112595fd3e99",
   "metadata": {},
   "source": [
    "MENA\n",
    "West africa/East africa Regions Visualizations\n",
    "\n",
    "## 1. First Visualization"
   ]
  },
  {
   "cell_type": "markdown",
   "id": "344673ab-dc35-445d-8b85-1d3fd739790d",
   "metadata": {},
   "source": [
    "Middle East and North Africa & Sub-Saharan Africa"
   ]
  },
  {
   "cell_type": "code",
   "execution_count": 22,
   "id": "debdf6f5-19ab-4c75-9e5b-0d009846565b",
   "metadata": {},
   "outputs": [
    {
     "data": {
      "text/plain": [
       "<bound method NDFrame.head of       Country Code Country Name  Region ID         Region Name  \\\n",
       "0              ABW        Aruba          6  Western Hemisphere   \n",
       "1              ABW        Aruba          6  Western Hemisphere   \n",
       "2              ABW        Aruba          6  Western Hemisphere   \n",
       "3              ABW        Aruba          6  Western Hemisphere   \n",
       "4              ABW        Aruba          6  Western Hemisphere   \n",
       "...            ...          ...        ...                 ...   \n",
       "22351          ZWE     Zimbabwe          5  Sub-Saharan Africa   \n",
       "22352          ZWE     Zimbabwe          5  Sub-Saharan Africa   \n",
       "22353          ZWE     Zimbabwe          5  Sub-Saharan Africa   \n",
       "22354          ZWE     Zimbabwe          5  Sub-Saharan Africa   \n",
       "22355          ZWE     Zimbabwe          5  Sub-Saharan Africa   \n",
       "\n",
       "      Income Group Acronym            Income Group Name  Transaction Type ID  \\\n",
       "0                      HIC          High Income Country                    2   \n",
       "1                      HIC          High Income Country                    2   \n",
       "2                      HIC          High Income Country                    2   \n",
       "3                      HIC          High Income Country                    2   \n",
       "4                      HIC          High Income Country                    2   \n",
       "...                    ...                          ...                  ...   \n",
       "22351                 LMIC  Lower Middle Income Country                   18   \n",
       "22352                 LMIC  Lower Middle Income Country                   18   \n",
       "22353                 LMIC  Lower Middle Income Country                   18   \n",
       "22354                 LMIC  Lower Middle Income Country                   18   \n",
       "22355                 LMIC  Lower Middle Income Country                   18   \n",
       "\n",
       "             Transaction Type Name Fiscal Year  current_amount  \\\n",
       "0                      Obligations        1999           19000   \n",
       "1                      Obligations        2000           50000   \n",
       "2                      Obligations        2004            1000   \n",
       "3                      Obligations        2005           29270   \n",
       "4                      Obligations        2006            1000   \n",
       "...                            ...         ...             ...   \n",
       "22351  President's Budget Requests        2020       174512000   \n",
       "22352  President's Budget Requests        2021       139500000   \n",
       "22353  President's Budget Requests        2022       218500000   \n",
       "22354  President's Budget Requests        2023       221844709   \n",
       "22355  President's Budget Requests        2024       223300850   \n",
       "\n",
       "       constant_amount  \n",
       "0                32607  \n",
       "1                84059  \n",
       "2                 1548  \n",
       "3                43963  \n",
       "4                 1455  \n",
       "...                ...  \n",
       "22351        192876043  \n",
       "22352        149165618  \n",
       "22353        218500000  \n",
       "22354        211595124  \n",
       "22355        208067157  \n",
       "\n",
       "[22356 rows x 11 columns]>"
      ]
     },
     "execution_count": 22,
     "metadata": {},
     "output_type": "execute_result"
    }
   ],
   "source": [
    "import pandas as pd\n",
    "import altair as alt\n",
    "import numpy as np\n",
    "\n",
    "# \n",
    "foreignaid = pd.read_csv('/Users/fantaakebe/Documents/courses/DS4200/Project/us_foreign_aid_country.csv')\n",
    "foreignsectoraid = pd.read_csv('/Users/fantaakebe/Documents/courses/DS4200/Project/us_foreign_aid_usg_sector.csv')\n",
    "foreignaid.head"
   ]
  },
  {
   "cell_type": "code",
   "execution_count": 67,
   "id": "ab1815bb-ad60-4f73-95a0-72e90cc5e73c",
   "metadata": {},
   "outputs": [
    {
     "name": "stderr",
     "output_type": "stream",
     "text": [
      "/var/folders/4q/pcgfjxgd6hd96zgvtvth95z00000gn/T/ipykernel_57570/3055437062.py:32: AltairDeprecationWarning: Deprecated in `altair=5.0.0`. Use selection_point instead.\n",
      "  selection = alt.selection_single(fields=['Region Name'], bind=dropdown, empty='none')\n"
     ]
    },
    {
     "data": {
      "text/html": [
       "\n",
       "<style>\n",
       "  #altair-viz-67107aa3c155433ea646954a2d2af272.vega-embed {\n",
       "    width: 100%;\n",
       "    display: flex;\n",
       "  }\n",
       "\n",
       "  #altair-viz-67107aa3c155433ea646954a2d2af272.vega-embed details,\n",
       "  #altair-viz-67107aa3c155433ea646954a2d2af272.vega-embed details summary {\n",
       "    position: relative;\n",
       "  }\n",
       "</style>\n",
       "<div id=\"altair-viz-67107aa3c155433ea646954a2d2af272\"></div>\n",
       "<script type=\"text/javascript\">\n",
       "  var VEGA_DEBUG = (typeof VEGA_DEBUG == \"undefined\") ? {} : VEGA_DEBUG;\n",
       "  (function(spec, embedOpt){\n",
       "    let outputDiv = document.currentScript.previousElementSibling;\n",
       "    if (outputDiv.id !== \"altair-viz-67107aa3c155433ea646954a2d2af272\") {\n",
       "      outputDiv = document.getElementById(\"altair-viz-67107aa3c155433ea646954a2d2af272\");\n",
       "    }\n",
       "    const paths = {\n",
       "      \"vega\": \"https://cdn.jsdelivr.net/npm/vega@5?noext\",\n",
       "      \"vega-lib\": \"https://cdn.jsdelivr.net/npm/vega-lib?noext\",\n",
       "      \"vega-lite\": \"https://cdn.jsdelivr.net/npm/vega-lite@5.20.1?noext\",\n",
       "      \"vega-embed\": \"https://cdn.jsdelivr.net/npm/vega-embed@6?noext\",\n",
       "    };\n",
       "\n",
       "    function maybeLoadScript(lib, version) {\n",
       "      var key = `${lib.replace(\"-\", \"\")}_version`;\n",
       "      return (VEGA_DEBUG[key] == version) ?\n",
       "        Promise.resolve(paths[lib]) :\n",
       "        new Promise(function(resolve, reject) {\n",
       "          var s = document.createElement('script');\n",
       "          document.getElementsByTagName(\"head\")[0].appendChild(s);\n",
       "          s.async = true;\n",
       "          s.onload = () => {\n",
       "            VEGA_DEBUG[key] = version;\n",
       "            return resolve(paths[lib]);\n",
       "          };\n",
       "          s.onerror = () => reject(`Error loading script: ${paths[lib]}`);\n",
       "          s.src = paths[lib];\n",
       "        });\n",
       "    }\n",
       "\n",
       "    function showError(err) {\n",
       "      outputDiv.innerHTML = `<div class=\"error\" style=\"color:red;\">${err}</div>`;\n",
       "      throw err;\n",
       "    }\n",
       "\n",
       "    function displayChart(vegaEmbed) {\n",
       "      vegaEmbed(outputDiv, spec, embedOpt)\n",
       "        .catch(err => showError(`Javascript Error: ${err.message}<br>This usually means there's a typo in your chart specification. See the javascript console for the full traceback.`));\n",
       "    }\n",
       "\n",
       "    if(typeof define === \"function\" && define.amd) {\n",
       "      requirejs.config({paths});\n",
       "      require([\"vega-embed\"], displayChart, err => showError(`Error loading script: ${err.message}`));\n",
       "    } else {\n",
       "      maybeLoadScript(\"vega\", \"5\")\n",
       "        .then(() => maybeLoadScript(\"vega-lite\", \"5.20.1\"))\n",
       "        .then(() => maybeLoadScript(\"vega-embed\", \"6\"))\n",
       "        .catch(showError)\n",
       "        .then(() => displayChart(vegaEmbed));\n",
       "    }\n",
       "  })({\"config\": {\"view\": {\"continuousWidth\": 300, \"continuousHeight\": 300}}, \"data\": {\"name\": \"data-65ef3f0f8b7b91acb9372057d2380186\"}, \"mark\": {\"type\": \"point\", \"size\": 60}, \"encoding\": {\"color\": {\"condition\": {\"param\": \"param_15\", \"empty\": false, \"field\": \"Region Name\", \"legend\": null, \"type\": \"nominal\"}, \"value\": \"lightgray\"}, \"opacity\": {\"condition\": {\"param\": \"param_15\", \"value\": 1, \"empty\": false}, \"value\": 0.1}, \"tooltip\": [{\"field\": \"Region Name\", \"type\": \"nominal\"}, {\"field\": \"Fiscal Year\", \"type\": \"quantitative\"}, {\"field\": \"current_amount\", \"type\": \"quantitative\"}], \"x\": {\"axis\": {\"values\": [1946, 1956, 1966, 1976, 1986, 1996, 2006, 2016]}, \"field\": \"Fiscal Year\", \"title\": \"Year\", \"type\": \"ordinal\"}, \"y\": {\"field\": \"current_amount\", \"scale\": {\"type\": \"log\"}, \"title\": \"Aid Amount (USD)\", \"type\": \"quantitative\"}}, \"height\": 400, \"params\": [{\"name\": \"param_15\", \"select\": {\"type\": \"point\", \"fields\": [\"Region Name\"]}, \"bind\": {\"input\": \"select\", \"options\": [\"Middle East and North Africa\", \"Sub-Saharan Africa\"], \"name\": \"Select Region: \"}}], \"title\": \"US Foreign Aid Over Time by Region (Select Region Below)\", \"width\": 800, \"$schema\": \"https://vega.github.io/schema/vega-lite/v5.20.1.json\", \"datasets\": {\"data-65ef3f0f8b7b91acb9372057d2380186\": [{\"Region Name\": \"Middle East and North Africa\", \"Fiscal Year\": 1946, \"current_amount\": 18800000}, {\"Region Name\": \"Middle East and North Africa\", \"Fiscal Year\": 1947, \"current_amount\": 23400000}, {\"Region Name\": \"Middle East and North Africa\", \"Fiscal Year\": 1948, \"current_amount\": 1400000}, {\"Region Name\": \"Middle East and North Africa\", \"Fiscal Year\": 1950, \"current_amount\": 11800000}, {\"Region Name\": \"Middle East and North Africa\", \"Fiscal Year\": 1951, \"current_amount\": 28498000}, {\"Region Name\": \"Middle East and North Africa\", \"Fiscal Year\": 1952, \"current_amount\": 144499000}, {\"Region Name\": \"Middle East and North Africa\", \"Fiscal Year\": 1953, \"current_amount\": 151596000}, {\"Region Name\": \"Middle East and North Africa\", \"Fiscal Year\": 1954, \"current_amount\": 219896000}, {\"Region Name\": \"Middle East and North Africa\", \"Fiscal Year\": 1955, \"current_amount\": 255494000}, {\"Region Name\": \"Middle East and North Africa\", \"Fiscal Year\": 1956, \"current_amount\": 224690000}, {\"Region Name\": \"Middle East and North Africa\", \"Fiscal Year\": 1957, \"current_amount\": 347149000}, {\"Region Name\": \"Middle East and North Africa\", \"Fiscal Year\": 1958, \"current_amount\": 505704000}, {\"Region Name\": \"Middle East and North Africa\", \"Fiscal Year\": 1959, \"current_amount\": 455256000}, {\"Region Name\": \"Middle East and North Africa\", \"Fiscal Year\": 1960, \"current_amount\": 516505000}, {\"Region Name\": \"Middle East and North Africa\", \"Fiscal Year\": 1961, \"current_amount\": 652119000}, {\"Region Name\": \"Middle East and North Africa\", \"Fiscal Year\": 1962, \"current_amount\": 661766000}, {\"Region Name\": \"Middle East and North Africa\", \"Fiscal Year\": 1963, \"current_amount\": 661429000}, {\"Region Name\": \"Middle East and North Africa\", \"Fiscal Year\": 1964, \"current_amount\": 430074000}, {\"Region Name\": \"Middle East and North Africa\", \"Fiscal Year\": 1965, \"current_amount\": 470001000}, {\"Region Name\": \"Middle East and North Africa\", \"Fiscal Year\": 1966, \"current_amount\": 597908000}, {\"Region Name\": \"Middle East and North Africa\", \"Fiscal Year\": 1967, \"current_amount\": 522852000}, {\"Region Name\": \"Middle East and North Africa\", \"Fiscal Year\": 1968, \"current_amount\": 419533000}, {\"Region Name\": \"Middle East and North Africa\", \"Fiscal Year\": 1969, \"current_amount\": 388294000}, {\"Region Name\": \"Middle East and North Africa\", \"Fiscal Year\": 1970, \"current_amount\": 189704000}, {\"Region Name\": \"Middle East and North Africa\", \"Fiscal Year\": 1971, \"current_amount\": 854302000}, {\"Region Name\": \"Middle East and North Africa\", \"Fiscal Year\": 1972, \"current_amount\": 698848000}, {\"Region Name\": \"Middle East and North Africa\", \"Fiscal Year\": 1973, \"current_amount\": 656801000}, {\"Region Name\": \"Middle East and North Africa\", \"Fiscal Year\": 1974, \"current_amount\": 2753896000}, {\"Region Name\": \"Middle East and North Africa\", \"Fiscal Year\": 1975, \"current_amount\": 1422146000}, {\"Region Name\": \"Middle East and North Africa\", \"Fiscal Year\": 1976, \"current_amount\": 4262061000}, {\"Region Name\": \"Middle East and North Africa\", \"Fiscal Year\": 1977, \"current_amount\": 3168970000}, {\"Region Name\": \"Middle East and North Africa\", \"Fiscal Year\": 1978, \"current_amount\": 3283936000}, {\"Region Name\": \"Middle East and North Africa\", \"Fiscal Year\": 1979, \"current_amount\": 3136455000}, {\"Region Name\": \"Middle East and North Africa\", \"Fiscal Year\": 1980, \"current_amount\": 3295201000}, {\"Region Name\": \"Middle East and North Africa\", \"Fiscal Year\": 1981, \"current_amount\": 4134033000}, {\"Region Name\": \"Middle East and North Africa\", \"Fiscal Year\": 1982, \"current_amount\": 4574614000}, {\"Region Name\": \"Middle East and North Africa\", \"Fiscal Year\": 1983, \"current_amount\": 5377018000}, {\"Region Name\": \"Middle East and North Africa\", \"Fiscal Year\": 1984, \"current_amount\": 5605012000}, {\"Region Name\": \"Middle East and North Africa\", \"Fiscal Year\": 1985, \"current_amount\": 3065146000}, {\"Region Name\": \"Middle East and North Africa\", \"Fiscal Year\": 1986, \"current_amount\": 2940849000}, {\"Region Name\": \"Middle East and North Africa\", \"Fiscal Year\": 1987, \"current_amount\": 2682808000}, {\"Region Name\": \"Middle East and North Africa\", \"Fiscal Year\": 1988, \"current_amount\": 2500668000}, {\"Region Name\": \"Middle East and North Africa\", \"Fiscal Year\": 1989, \"current_amount\": 2580582000}, {\"Region Name\": \"Middle East and North Africa\", \"Fiscal Year\": 1990, \"current_amount\": 2796029000}, {\"Region Name\": \"Middle East and North Africa\", \"Fiscal Year\": 1991, \"current_amount\": 2609368000}, {\"Region Name\": \"Middle East and North Africa\", \"Fiscal Year\": 1992, \"current_amount\": 2533413580}, {\"Region Name\": \"Middle East and North Africa\", \"Fiscal Year\": 1993, \"current_amount\": 2394919246}, {\"Region Name\": \"Middle East and North Africa\", \"Fiscal Year\": 1994, \"current_amount\": 2161722820}, {\"Region Name\": \"Middle East and North Africa\", \"Fiscal Year\": 1995, \"current_amount\": 2529094715}, {\"Region Name\": \"Middle East and North Africa\", \"Fiscal Year\": 1996, \"current_amount\": 2722526608}, {\"Region Name\": \"Middle East and North Africa\", \"Fiscal Year\": 1997, \"current_amount\": 2544064572}, {\"Region Name\": \"Middle East and North Africa\", \"Fiscal Year\": 1998, \"current_amount\": 2623803389}, {\"Region Name\": \"Middle East and North Africa\", \"Fiscal Year\": 1999, \"current_amount\": 2861002256}, {\"Region Name\": \"Middle East and North Africa\", \"Fiscal Year\": 2000, \"current_amount\": 2936150402}, {\"Region Name\": \"Middle East and North Africa\", \"Fiscal Year\": 2001, \"current_amount\": 10791443346}, {\"Region Name\": \"Middle East and North Africa\", \"Fiscal Year\": 2002, \"current_amount\": 11921450238}, {\"Region Name\": \"Middle East and North Africa\", \"Fiscal Year\": 2003, \"current_amount\": 9434506610}, {\"Region Name\": \"Middle East and North Africa\", \"Fiscal Year\": 2004, \"current_amount\": 11850469389}, {\"Region Name\": \"Middle East and North Africa\", \"Fiscal Year\": 2005, \"current_amount\": 11652926992}, {\"Region Name\": \"Middle East and North Africa\", \"Fiscal Year\": 2006, \"current_amount\": 17144162185}, {\"Region Name\": \"Middle East and North Africa\", \"Fiscal Year\": 2007, \"current_amount\": 18929692987}, {\"Region Name\": \"Middle East and North Africa\", \"Fiscal Year\": 2008, \"current_amount\": 22906480900}, {\"Region Name\": \"Middle East and North Africa\", \"Fiscal Year\": 2009, \"current_amount\": 27366602957}, {\"Region Name\": \"Middle East and North Africa\", \"Fiscal Year\": 2010, \"current_amount\": 29255137758}, {\"Region Name\": \"Middle East and North Africa\", \"Fiscal Year\": 2011, \"current_amount\": 23476025024}, {\"Region Name\": \"Middle East and North Africa\", \"Fiscal Year\": 2012, \"current_amount\": 22767445431}, {\"Region Name\": \"Middle East and North Africa\", \"Fiscal Year\": 2013, \"current_amount\": 24852328674}, {\"Region Name\": \"Middle East and North Africa\", \"Fiscal Year\": 2014, \"current_amount\": 16913414251}, {\"Region Name\": \"Middle East and North Africa\", \"Fiscal Year\": 2015, \"current_amount\": 22716829650}, {\"Region Name\": \"Middle East and North Africa\", \"Fiscal Year\": 2016, \"current_amount\": 19115811692}, {\"Region Name\": \"Middle East and North Africa\", \"Fiscal Year\": 2017, \"current_amount\": 25906620658}, {\"Region Name\": \"Middle East and North Africa\", \"Fiscal Year\": 2018, \"current_amount\": 25601493008}, {\"Region Name\": \"Middle East and North Africa\", \"Fiscal Year\": 2019, \"current_amount\": 24671127215}, {\"Region Name\": \"Middle East and North Africa\", \"Fiscal Year\": 2020, \"current_amount\": 24764710760}, {\"Region Name\": \"Middle East and North Africa\", \"Fiscal Year\": 2021, \"current_amount\": 24341906690}, {\"Region Name\": \"Middle East and North Africa\", \"Fiscal Year\": 2022, \"current_amount\": 26653782665}, {\"Region Name\": \"Middle East and North Africa\", \"Fiscal Year\": 2023, \"current_amount\": 26109148913}, {\"Region Name\": \"Middle East and North Africa\", \"Fiscal Year\": 2024, \"current_amount\": 15975141815}, {\"Region Name\": \"Middle East and North Africa\", \"Fiscal Year\": 2025, \"current_amount\": 2721127377}, {\"Region Name\": \"Sub-Saharan Africa\", \"Fiscal Year\": 1946, \"current_amount\": 7200000}, {\"Region Name\": \"Sub-Saharan Africa\", \"Fiscal Year\": 1947, \"current_amount\": 1700000}, {\"Region Name\": \"Sub-Saharan Africa\", \"Fiscal Year\": 1948, \"current_amount\": 700000}, {\"Region Name\": \"Sub-Saharan Africa\", \"Fiscal Year\": 1949, \"current_amount\": 200000}, {\"Region Name\": \"Sub-Saharan Africa\", \"Fiscal Year\": 1950, \"current_amount\": 100000}, {\"Region Name\": \"Sub-Saharan Africa\", \"Fiscal Year\": 1951, \"current_amount\": 900000}, {\"Region Name\": \"Sub-Saharan Africa\", \"Fiscal Year\": 1952, \"current_amount\": 2401000}, {\"Region Name\": \"Sub-Saharan Africa\", \"Fiscal Year\": 1953, \"current_amount\": 25800000}, {\"Region Name\": \"Sub-Saharan Africa\", \"Fiscal Year\": 1954, \"current_amount\": 30096000}, {\"Region Name\": \"Sub-Saharan Africa\", \"Fiscal Year\": 1955, \"current_amount\": 9700000}, {\"Region Name\": \"Sub-Saharan Africa\", \"Fiscal Year\": 1956, \"current_amount\": 12202000}, {\"Region Name\": \"Sub-Saharan Africa\", \"Fiscal Year\": 1957, \"current_amount\": 25844000}, {\"Region Name\": \"Sub-Saharan Africa\", \"Fiscal Year\": 1958, \"current_amount\": 16606000}, {\"Region Name\": \"Sub-Saharan Africa\", \"Fiscal Year\": 1959, \"current_amount\": 75408000}, {\"Region Name\": \"Sub-Saharan Africa\", \"Fiscal Year\": 1960, \"current_amount\": 44737000}, {\"Region Name\": \"Sub-Saharan Africa\", \"Fiscal Year\": 1961, \"current_amount\": 221569000}, {\"Region Name\": \"Sub-Saharan Africa\", \"Fiscal Year\": 1962, \"current_amount\": 328820000}, {\"Region Name\": \"Sub-Saharan Africa\", \"Fiscal Year\": 1963, \"current_amount\": 273676000}, {\"Region Name\": \"Sub-Saharan Africa\", \"Fiscal Year\": 1964, \"current_amount\": 234829000}, {\"Region Name\": \"Sub-Saharan Africa\", \"Fiscal Year\": 1965, \"current_amount\": 219277000}, {\"Region Name\": \"Sub-Saharan Africa\", \"Fiscal Year\": 1966, \"current_amount\": 277092000}, {\"Region Name\": \"Sub-Saharan Africa\", \"Fiscal Year\": 1967, \"current_amount\": 289956000}, {\"Region Name\": \"Sub-Saharan Africa\", \"Fiscal Year\": 1968, \"current_amount\": 209466000}, {\"Region Name\": \"Sub-Saharan Africa\", \"Fiscal Year\": 1969, \"current_amount\": 260345000}, {\"Region Name\": \"Sub-Saharan Africa\", \"Fiscal Year\": 1970, \"current_amount\": 214306000}, {\"Region Name\": \"Sub-Saharan Africa\", \"Fiscal Year\": 1971, \"current_amount\": 254400000}, {\"Region Name\": \"Sub-Saharan Africa\", \"Fiscal Year\": 1972, \"current_amount\": 236730000}, {\"Region Name\": \"Sub-Saharan Africa\", \"Fiscal Year\": 1973, \"current_amount\": 229191000}, {\"Region Name\": \"Sub-Saharan Africa\", \"Fiscal Year\": 1974, \"current_amount\": 296283000}, {\"Region Name\": \"Sub-Saharan Africa\", \"Fiscal Year\": 1975, \"current_amount\": 331387000}, {\"Region Name\": \"Sub-Saharan Africa\", \"Fiscal Year\": 1976, \"current_amount\": 410337000}, {\"Region Name\": \"Sub-Saharan Africa\", \"Fiscal Year\": 1977, \"current_amount\": 418076000}, {\"Region Name\": \"Sub-Saharan Africa\", \"Fiscal Year\": 1978, \"current_amount\": 578393000}, {\"Region Name\": \"Sub-Saharan Africa\", \"Fiscal Year\": 1979, \"current_amount\": 569859000}, {\"Region Name\": \"Sub-Saharan Africa\", \"Fiscal Year\": 1980, \"current_amount\": 820710000}, {\"Region Name\": \"Sub-Saharan Africa\", \"Fiscal Year\": 1981, \"current_amount\": 899756000}, {\"Region Name\": \"Sub-Saharan Africa\", \"Fiscal Year\": 1982, \"current_amount\": 1012893000}, {\"Region Name\": \"Sub-Saharan Africa\", \"Fiscal Year\": 1983, \"current_amount\": 959729000}, {\"Region Name\": \"Sub-Saharan Africa\", \"Fiscal Year\": 1984, \"current_amount\": 1097494000}, {\"Region Name\": \"Sub-Saharan Africa\", \"Fiscal Year\": 1985, \"current_amount\": 1618168000}, {\"Region Name\": \"Sub-Saharan Africa\", \"Fiscal Year\": 1986, \"current_amount\": 1110781000}, {\"Region Name\": \"Sub-Saharan Africa\", \"Fiscal Year\": 1987, \"current_amount\": 976073000}, {\"Region Name\": \"Sub-Saharan Africa\", \"Fiscal Year\": 1988, \"current_amount\": 989460000}, {\"Region Name\": \"Sub-Saharan Africa\", \"Fiscal Year\": 1989, \"current_amount\": 1061403000}, {\"Region Name\": \"Sub-Saharan Africa\", \"Fiscal Year\": 1990, \"current_amount\": 961709257}, {\"Region Name\": \"Sub-Saharan Africa\", \"Fiscal Year\": 1991, \"current_amount\": 1305576141}, {\"Region Name\": \"Sub-Saharan Africa\", \"Fiscal Year\": 1992, \"current_amount\": 1519659428}, {\"Region Name\": \"Sub-Saharan Africa\", \"Fiscal Year\": 1993, \"current_amount\": 1472723518}, {\"Region Name\": \"Sub-Saharan Africa\", \"Fiscal Year\": 1994, \"current_amount\": 1373766063}, {\"Region Name\": \"Sub-Saharan Africa\", \"Fiscal Year\": 1995, \"current_amount\": 1260358954}, {\"Region Name\": \"Sub-Saharan Africa\", \"Fiscal Year\": 1996, \"current_amount\": 1226539510}, {\"Region Name\": \"Sub-Saharan Africa\", \"Fiscal Year\": 1997, \"current_amount\": 1337382811}, {\"Region Name\": \"Sub-Saharan Africa\", \"Fiscal Year\": 1998, \"current_amount\": 1544799044}, {\"Region Name\": \"Sub-Saharan Africa\", \"Fiscal Year\": 1999, \"current_amount\": 1709310273}, {\"Region Name\": \"Sub-Saharan Africa\", \"Fiscal Year\": 2000, \"current_amount\": 2024948171}, {\"Region Name\": \"Sub-Saharan Africa\", \"Fiscal Year\": 2001, \"current_amount\": 4219847612}, {\"Region Name\": \"Sub-Saharan Africa\", \"Fiscal Year\": 2002, \"current_amount\": 4553575869}, {\"Region Name\": \"Sub-Saharan Africa\", \"Fiscal Year\": 2003, \"current_amount\": 6243302323}, {\"Region Name\": \"Sub-Saharan Africa\", \"Fiscal Year\": 2004, \"current_amount\": 6847113252}, {\"Region Name\": \"Sub-Saharan Africa\", \"Fiscal Year\": 2005, \"current_amount\": 9510570623}, {\"Region Name\": \"Sub-Saharan Africa\", \"Fiscal Year\": 2006, \"current_amount\": 12879146001}, {\"Region Name\": \"Sub-Saharan Africa\", \"Fiscal Year\": 2007, \"current_amount\": 17328012607}, {\"Region Name\": \"Sub-Saharan Africa\", \"Fiscal Year\": 2008, \"current_amount\": 26247948391}, {\"Region Name\": \"Sub-Saharan Africa\", \"Fiscal Year\": 2009, \"current_amount\": 29947786208}, {\"Region Name\": \"Sub-Saharan Africa\", \"Fiscal Year\": 2010, \"current_amount\": 30302113122}, {\"Region Name\": \"Sub-Saharan Africa\", \"Fiscal Year\": 2011, \"current_amount\": 30971983464}, {\"Region Name\": \"Sub-Saharan Africa\", \"Fiscal Year\": 2012, \"current_amount\": 33889993216}, {\"Region Name\": \"Sub-Saharan Africa\", \"Fiscal Year\": 2013, \"current_amount\": 32834353368}, {\"Region Name\": \"Sub-Saharan Africa\", \"Fiscal Year\": 2014, \"current_amount\": 33752039458}, {\"Region Name\": \"Sub-Saharan Africa\", \"Fiscal Year\": 2015, \"current_amount\": 36288591892}, {\"Region Name\": \"Sub-Saharan Africa\", \"Fiscal Year\": 2016, \"current_amount\": 37123381930}, {\"Region Name\": \"Sub-Saharan Africa\", \"Fiscal Year\": 2017, \"current_amount\": 39057862802}, {\"Region Name\": \"Sub-Saharan Africa\", \"Fiscal Year\": 2018, \"current_amount\": 37159962971}, {\"Region Name\": \"Sub-Saharan Africa\", \"Fiscal Year\": 2019, \"current_amount\": 38880388268}, {\"Region Name\": \"Sub-Saharan Africa\", \"Fiscal Year\": 2020, \"current_amount\": 37945811613}, {\"Region Name\": \"Sub-Saharan Africa\", \"Fiscal Year\": 2021, \"current_amount\": 41731503505}, {\"Region Name\": \"Sub-Saharan Africa\", \"Fiscal Year\": 2022, \"current_amount\": 50942549094}, {\"Region Name\": \"Sub-Saharan Africa\", \"Fiscal Year\": 2023, \"current_amount\": 50054517866}, {\"Region Name\": \"Sub-Saharan Africa\", \"Fiscal Year\": 2024, \"current_amount\": 36089975593}, {\"Region Name\": \"Sub-Saharan Africa\", \"Fiscal Year\": 2025, \"current_amount\": 4787160750}]}}, {\"mode\": \"vega-lite\"});\n",
       "</script>"
      ],
      "text/plain": [
       "alt.Chart(...)"
      ]
     },
     "execution_count": 67,
     "metadata": {},
     "output_type": "execute_result"
    }
   ],
   "source": [
    "\n",
    "# Filter for MENA and Sub-Saharan Africa regions\n",
    "mena_subsaharan = foreignaid[foreignaid['Region Name'].isin(['Middle East and North Africa', 'Sub-Saharan Africa'])]\n",
    "\n",
    "# Clean the Fiscal Year column by extracting the first 4 digits and removing invalid rows\n",
    "def clean_year(year_str):\n",
    "    try:\n",
    "        # Extract first 4 digits (removes any suffixes like 'tq')\n",
    "        return int(str(year_str)[:4])\n",
    "    except:\n",
    "        return np.nan\n",
    "\n",
    "# Apply the cleaning function to the Fiscal Year column\n",
    "mena_subsaharan.loc[:, 'Fiscal Year'] = mena_subsaharan['Fiscal Year'].apply(clean_year)\n",
    "\n",
    "# Remove rows where 'Fiscal Year' is NaN, 'current_amount' is NaN, negative, or zero\n",
    "mena_subsaharan_clean = mena_subsaharan.dropna(subset=['Fiscal Year', 'current_amount'])\n",
    "mena_subsaharan_clean = mena_subsaharan_clean[mena_subsaharan_clean['current_amount'] > 0]\n",
    "\n",
    "# Apply quantile-based filtering to remove outliers\n",
    "lower_bound = mena_subsaharan_clean['current_amount'].quantile(0.01)  # 1st percentile\n",
    "upper_bound = mena_subsaharan_clean['current_amount'].quantile(0.99)  # 99th percentile\n",
    "\n",
    "# Filter the data to remove outliers\n",
    "mena_subsaharan_clean = mena_subsaharan_clean[(mena_subsaharan_clean['current_amount'] > lower_bound) & \n",
    "                                              (mena_subsaharan_clean['current_amount'] < upper_bound)]\n",
    "\n",
    "# Aggregate the data by region and year\n",
    "aid_by_region_mena_subsaharan = mena_subsaharan_clean.groupby(['Region Name', 'Fiscal Year'])['current_amount'].sum().reset_index()\n",
    "\n",
    "# Create a dropdown for region selection\n",
    "dropdown = alt.binding_select(options=aid_by_region_mena_subsaharan['Region Name'].unique(), name='Select Region: ')\n",
    "selection = alt.selection_single(fields=['Region Name'], bind=dropdown, empty='none')\n",
    "\n",
    "# Get min and max years for axis ticks\n",
    "min_year = int(aid_by_region_mena_subsaharan['Fiscal Year'].min())\n",
    "max_year = int(aid_by_region_mena_subsaharan['Fiscal Year'].max())\n",
    "year_ticks = list(range(min_year, max_year + 1, 10))\n",
    "\n",
    "# Create the scatter plot for foreign aid over time with the selected region\n",
    "scatter_plot = alt.Chart(aid_by_region_mena_subsaharan).mark_point(size=60).encode(\n",
    "    x=alt.X('Fiscal Year:O', title='Year', axis=alt.Axis(values=year_ticks)),\n",
    "    y=alt.Y('current_amount:Q', title='Aid Amount (USD)', scale=alt.Scale(type='log')),\n",
    "    color=alt.condition(selection, \n",
    "                       alt.Color('Region Name:N', legend=None),\n",
    "                       alt.value('lightgray')),\n",
    "    opacity=alt.condition(selection, alt.value(1), alt.value(0.1)),\n",
    "    tooltip=['Region Name', 'Fiscal Year', 'current_amount']\n",
    ").add_params(\n",
    "    selection\n",
    ").properties(\n",
    "    width=800,\n",
    "    height=400,\n",
    "    title='US Foreign Aid Over Time by Region (Select Region Below)'\n",
    ")\n",
    "\n",
    "# Customize the chart appearance\n",
    "scatter_plot.configure_axis(\n",
    "    labelAngle=45\n",
    ").configure_view(\n",
    "    strokeWidth=0\n",
    ").configure_axisX(\n",
    "    grid=False\n",
    ").configure_axisY(\n",
    "    grid=False\n",
    ")\n",
    "\n",
    "# Show the chart\n",
    "scatter_plot\n"
   ]
  },
  {
   "cell_type": "markdown",
   "id": "7308f89c-3664-4ca2-a1c1-735fc2e786eb",
   "metadata": {},
   "source": [
    "Explanation:\n",
    "Webpage Explanation Paragraph:\n",
    "This interactive visualization shows how US foreign aid has evolved over time for the Middle East and North Africa (MENA) and Sub-Saharan Africa regions. The logarithmic y-axis allows for a better comparison of aid amounts across significant differences in scale. The chart highlights key shifts, such as the increase in aid to Sub-Saharan Africa post-1970s due to humanitarian needs and the steady rise in MENA aid following conflicts like the Gulf War and the wars in Iraq and Afghanistan. Users can interactively explore how aid has changed by selecting each region.\n",
    "\n",
    "Design Rationale (for Word Document):\n",
    "The design focuses on clarity and user engagement. A scatter plot effectively highlights trends and fluctuations, while the logarithmic scale handles the large variations in aid amounts. The interactive dropdown allows users to focus on one region at a time, reducing clutter and improving comprehension. The minimalist design removes unnecessary elements, ensuring the focus remains on the data. The chart’s accessibility is enhanced through color contrast and tooltips for further exploration.\n"
   ]
  },
  {
   "cell_type": "markdown",
   "id": "d3da0a46-e5fe-4b90-8af5-2210278102c3",
   "metadata": {},
   "source": [
    "## 2. Second Visualization 3D"
   ]
  },
  {
   "cell_type": "code",
   "execution_count": null,
   "id": "aeb8c32e-5e63-45be-a269-724a78f00e0c",
   "metadata": {},
   "outputs": [],
   "source": []
  },
  {
   "cell_type": "markdown",
   "id": "07ac50de-12a0-4da2-86e0-933b7c333901",
   "metadata": {},
   "source": [
    "Explanation:\n"
   ]
  },
  {
   "cell_type": "code",
   "execution_count": null,
   "id": "9d82272a-2e20-4353-ac14-4aeade7b2477",
   "metadata": {},
   "outputs": [],
   "source": [
    "#code"
   ]
  },
  {
   "cell_type": "markdown",
   "id": "eca532ce-fc84-49a3-8a21-e1937f066300",
   "metadata": {},
   "source": [
    "Explanation:\n"
   ]
  },
  {
   "cell_type": "code",
   "execution_count": null,
   "id": "2fc45e26-55be-4843-8b20-3ce8167f3830",
   "metadata": {},
   "outputs": [],
   "source": []
  }
 ],
 "metadata": {
  "kernelspec": {
   "display_name": "Python [conda env:base] *",
   "language": "python",
   "name": "conda-base-py"
  },
  "language_info": {
   "codemirror_mode": {
    "name": "ipython",
    "version": 3
   },
   "file_extension": ".py",
   "mimetype": "text/x-python",
   "name": "python",
   "nbconvert_exporter": "python",
   "pygments_lexer": "ipython3",
   "version": "3.12.4"
  }
 },
 "nbformat": 4,
 "nbformat_minor": 5
}
