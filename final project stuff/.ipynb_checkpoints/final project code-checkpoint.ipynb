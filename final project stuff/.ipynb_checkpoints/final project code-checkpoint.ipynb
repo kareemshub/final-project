{
 "cells": [
  {
   "cell_type": "code",
   "execution_count": 1,
   "id": "045d1f25-7d8c-4dd3-b397-cb2c07eddcf0",
   "metadata": {},
   "outputs": [
    {
     "name": "stderr",
     "output_type": "stream",
     "text": [
      "/var/folders/sw/xn5gpnrx02nc12s4xxynfpmm0000gn/T/ipykernel_24334/3162359431.py:5: DtypeWarning: Columns (6,7,12,48) have mixed types. Specify dtype option on import or set low_memory=False.\n",
      "  aid = pd.read_csv('us_foreign_aid_complete.csv')\n"
     ]
    },
    {
     "data": {
      "text/html": [
       "\n",
       "<style>\n",
       "  #altair-viz-5e2306429c404a55a4d3701ae1272424.vega-embed {\n",
       "    width: 100%;\n",
       "    display: flex;\n",
       "  }\n",
       "\n",
       "  #altair-viz-5e2306429c404a55a4d3701ae1272424.vega-embed details,\n",
       "  #altair-viz-5e2306429c404a55a4d3701ae1272424.vega-embed details summary {\n",
       "    position: relative;\n",
       "  }\n",
       "</style>\n",
       "<div id=\"altair-viz-5e2306429c404a55a4d3701ae1272424\"></div>\n",
       "<script type=\"text/javascript\">\n",
       "  var VEGA_DEBUG = (typeof VEGA_DEBUG == \"undefined\") ? {} : VEGA_DEBUG;\n",
       "  (function(spec, embedOpt){\n",
       "    let outputDiv = document.currentScript.previousElementSibling;\n",
       "    if (outputDiv.id !== \"altair-viz-5e2306429c404a55a4d3701ae1272424\") {\n",
       "      outputDiv = document.getElementById(\"altair-viz-5e2306429c404a55a4d3701ae1272424\");\n",
       "    }\n",
       "\n",
       "    const paths = {\n",
       "      \"vega\": \"https://cdn.jsdelivr.net/npm/vega@5?noext\",\n",
       "      \"vega-lib\": \"https://cdn.jsdelivr.net/npm/vega-lib?noext\",\n",
       "      \"vega-lite\": \"https://cdn.jsdelivr.net/npm/vega-lite@5.20.1?noext\",\n",
       "      \"vega-embed\": \"https://cdn.jsdelivr.net/npm/vega-embed@6?noext\",\n",
       "    };\n",
       "\n",
       "    function maybeLoadScript(lib, version) {\n",
       "      var key = `${lib.replace(\"-\", \"\")}_version`;\n",
       "      return (VEGA_DEBUG[key] == version) ?\n",
       "        Promise.resolve(paths[lib]) :\n",
       "        new Promise(function(resolve, reject) {\n",
       "          var s = document.createElement('script');\n",
       "          document.getElementsByTagName(\"head\")[0].appendChild(s);\n",
       "          s.async = true;\n",
       "          s.onload = () => {\n",
       "            VEGA_DEBUG[key] = version;\n",
       "            return resolve(paths[lib]);\n",
       "          };\n",
       "          s.onerror = () => reject(`Error loading script: ${paths[lib]}`);\n",
       "          s.src = paths[lib];\n",
       "        });\n",
       "    }\n",
       "\n",
       "    function showError(err) {\n",
       "      outputDiv.innerHTML = `<div class=\"error\" style=\"color:red;\">${err}</div>`;\n",
       "      throw err;\n",
       "    }\n",
       "\n",
       "    function displayChart(vegaEmbed) {\n",
       "      vegaEmbed(outputDiv, spec, embedOpt)\n",
       "        .catch(err => showError(`Javascript Error: ${err.message}<br>This usually means there's a typo in your chart specification. See the javascript console for the full traceback.`));\n",
       "    }\n",
       "\n",
       "    if(typeof define === \"function\" && define.amd) {\n",
       "      requirejs.config({paths});\n",
       "      let deps = [\"vega-embed\"];\n",
       "      require(deps, displayChart, err => showError(`Error loading script: ${err.message}`));\n",
       "    } else {\n",
       "      maybeLoadScript(\"vega\", \"5\")\n",
       "        .then(() => maybeLoadScript(\"vega-lite\", \"5.20.1\"))\n",
       "        .then(() => maybeLoadScript(\"vega-embed\", \"6\"))\n",
       "        .catch(showError)\n",
       "        .then(() => displayChart(vegaEmbed));\n",
       "    }\n",
       "  })({\"config\": {\"view\": {\"continuousWidth\": 300, \"continuousHeight\": 300}}, \"data\": {\"name\": \"data-733fae8758057d2fca654f603931f8e7\"}, \"mark\": {\"type\": \"bar\"}, \"encoding\": {\"color\": {\"field\": \"International Purpose Name\", \"title\": \"Top 10 International Purposes\", \"type\": \"nominal\"}, \"tooltip\": [{\"field\": \"Fiscal Year\", \"type\": \"quantitative\"}, {\"field\": \"International Purpose Name\", \"type\": \"nominal\"}, {\"aggregate\": \"sum\", \"field\": \"Current Dollar Amount\", \"type\": \"quantitative\"}], \"x\": {\"field\": \"Fiscal Year\", \"title\": \"Year\", \"type\": \"ordinal\"}, \"y\": {\"aggregate\": \"sum\", \"field\": \"Current Dollar Amount\", \"title\": \"Total Dollar Amount\", \"type\": \"quantitative\"}}, \"height\": 500, \"params\": [{\"name\": \"param_1\", \"select\": {\"type\": \"interval\", \"encodings\": [\"x\", \"y\"]}, \"bind\": \"scales\"}], \"title\": \"Top 10 Foreign Aid Purposes by Funding per Year\", \"width\": 800, \"$schema\": \"https://vega.github.io/schema/vega-lite/v5.20.1.json\", \"datasets\": {\"data-733fae8758057d2fca654f603931f8e7\": [{\"Fiscal Year\": 1946, \"International Purpose Name\": \"Multisector aid\", \"Current Dollar Amount\": 3075702000}, {\"Fiscal Year\": 1947, \"International Purpose Name\": \"Multisector aid\", \"Current Dollar Amount\": 6708001000}, {\"Fiscal Year\": 1948, \"International Purpose Name\": \"Multisector aid\", \"Current Dollar Amount\": 3179504000}, {\"Fiscal Year\": 1949, \"International Purpose Name\": \"Multisector aid\", \"Current Dollar Amount\": 8300704000}, {\"Fiscal Year\": 1950, \"International Purpose Name\": \"Multisector aid\", \"Current Dollar Amount\": 5971296000}, {\"Fiscal Year\": 1951, \"International Purpose Name\": \"Multisector aid\", \"Current Dollar Amount\": 7612560000}, {\"Fiscal Year\": 1952, \"International Purpose Name\": \"Multisector aid\", \"Current Dollar Amount\": 6813953000}, {\"Fiscal Year\": 1953, \"International Purpose Name\": \"Multisector aid\", \"Current Dollar Amount\": 4979870000}, {\"Fiscal Year\": 1954, \"International Purpose Name\": \"Multisector aid\", \"Current Dollar Amount\": 4767778000}, {\"Fiscal Year\": 1955, \"International Purpose Name\": \"Multisector aid\", \"Current Dollar Amount\": 4097382000}, {\"Fiscal Year\": 1956, \"International Purpose Name\": \"Multisector aid\", \"Current Dollar Amount\": 4847691000}, {\"Fiscal Year\": 1957, \"International Purpose Name\": \"Multisector aid\", \"Current Dollar Amount\": 4871415000}, {\"Fiscal Year\": 1958, \"International Purpose Name\": \"Multisector aid\", \"Current Dollar Amount\": 4014661000}, {\"Fiscal Year\": 1959, \"International Purpose Name\": \"Multisector aid\", \"Current Dollar Amount\": 5074241000}, {\"Fiscal Year\": 1960, \"International Purpose Name\": \"Multisector aid\", \"Current Dollar Amount\": 5218274000}, {\"Fiscal Year\": 1961, \"International Purpose Name\": \"Multisector aid\", \"Current Dollar Amount\": 5480911000}, {\"Fiscal Year\": 1962, \"International Purpose Name\": \"Multisector aid\", \"Current Dollar Amount\": 6532295000}, {\"Fiscal Year\": 1963, \"International Purpose Name\": \"Multisector aid\", \"Current Dollar Amount\": 6384723000}, {\"Fiscal Year\": 1964, \"International Purpose Name\": \"Multisector aid\", \"Current Dollar Amount\": 5265148000}, {\"Fiscal Year\": 1965, \"International Purpose Name\": \"Multisector aid\", \"Current Dollar Amount\": 5420680000}, {\"Fiscal Year\": 1966, \"International Purpose Name\": \"Multisector aid\", \"Current Dollar Amount\": 6904358000}, {\"Fiscal Year\": 1967, \"International Purpose Name\": \"Multisector aid\", \"Current Dollar Amount\": 6339162000}, {\"Fiscal Year\": 1968, \"International Purpose Name\": \"Multisector aid\", \"Current Dollar Amount\": 6757250000}, {\"Fiscal Year\": 1969, \"International Purpose Name\": \"Multisector aid\", \"Current Dollar Amount\": 6639256000}, {\"Fiscal Year\": 1970, \"International Purpose Name\": \"Multisector aid\", \"Current Dollar Amount\": 6063935000}, {\"Fiscal Year\": 1970, \"International Purpose Name\": \"Security system management and reform\", \"Current Dollar Amount\": 449279000}, {\"Fiscal Year\": 1971, \"International Purpose Name\": \"Multisector aid\", \"Current Dollar Amount\": 6300430000}, {\"Fiscal Year\": 1971, \"International Purpose Name\": \"Security system management and reform\", \"Current Dollar Amount\": 1492446000}, {\"Fiscal Year\": 1972, \"International Purpose Name\": \"Multisector aid\", \"Current Dollar Amount\": 7896538000}, {\"Fiscal Year\": 1972, \"International Purpose Name\": \"Security system management and reform\", \"Current Dollar Amount\": 1090370000}, {\"Fiscal Year\": 1973, \"International Purpose Name\": \"Multisector aid\", \"Current Dollar Amount\": 8314193000}, {\"Fiscal Year\": 1973, \"International Purpose Name\": \"Security system management and reform\", \"Current Dollar Amount\": 1114492000}, {\"Fiscal Year\": 1974, \"International Purpose Name\": \"Multisector aid\", \"Current Dollar Amount\": 4857941000}, {\"Fiscal Year\": 1974, \"International Purpose Name\": \"Security system management and reform\", \"Current Dollar Amount\": 3621261000}, {\"Fiscal Year\": 1975, \"International Purpose Name\": \"Multisector aid\", \"Current Dollar Amount\": 5507922000}, {\"Fiscal Year\": 1975, \"International Purpose Name\": \"Security system management and reform\", \"Current Dollar Amount\": 1378865000}, {\"Fiscal Year\": 1976, \"International Purpose Name\": \"Multisector aid\", \"Current Dollar Amount\": 3940929000}, {\"Fiscal Year\": 1976, \"International Purpose Name\": \"Security system management and reform\", \"Current Dollar Amount\": 3065405000}, {\"Fiscal Year\": 1977, \"International Purpose Name\": \"Multisector aid\", \"Current Dollar Amount\": 5595680000}, {\"Fiscal Year\": 1977, \"International Purpose Name\": \"Security system management and reform\", \"Current Dollar Amount\": 2160421000}, {\"Fiscal Year\": 1978, \"International Purpose Name\": \"Multisector aid\", \"Current Dollar Amount\": 6660564000}, {\"Fiscal Year\": 1978, \"International Purpose Name\": \"Security system management and reform\", \"Current Dollar Amount\": 2338850000}, {\"Fiscal Year\": 1979, \"International Purpose Name\": \"Multisector aid\", \"Current Dollar Amount\": 7919923000}, {\"Fiscal Year\": 1979, \"International Purpose Name\": \"Security system management and reform\", \"Current Dollar Amount\": 5917395000}, {\"Fiscal Year\": 1980, \"International Purpose Name\": \"Multisector aid\", \"Current Dollar Amount\": 7571987000}, {\"Fiscal Year\": 1980, \"International Purpose Name\": \"Security system management and reform\", \"Current Dollar Amount\": 2109793000}, {\"Fiscal Year\": 1981, \"International Purpose Name\": \"Multisector aid\", \"Current Dollar Amount\": 7294110000}, {\"Fiscal Year\": 1981, \"International Purpose Name\": \"Security system management and reform\", \"Current Dollar Amount\": 3223301000}, {\"Fiscal Year\": 1982, \"International Purpose Name\": \"Multisector aid\", \"Current Dollar Amount\": 8121519000}, {\"Fiscal Year\": 1982, \"International Purpose Name\": \"Security system management and reform\", \"Current Dollar Amount\": 4045146000}, {\"Fiscal Year\": 1983, \"International Purpose Name\": \"Multisector aid\", \"Current Dollar Amount\": 8602308000}, {\"Fiscal Year\": 1983, \"International Purpose Name\": \"Security system management and reform\", \"Current Dollar Amount\": 5234147000}, {\"Fiscal Year\": 1984, \"International Purpose Name\": \"Multisector aid\", \"Current Dollar Amount\": 9038307000}, {\"Fiscal Year\": 1984, \"International Purpose Name\": \"Security system management and reform\", \"Current Dollar Amount\": 5826182000}, {\"Fiscal Year\": 1985, \"International Purpose Name\": \"Multisector aid\", \"Current Dollar Amount\": 13132000000}, {\"Fiscal Year\": 1985, \"International Purpose Name\": \"Security system management and reform\", \"Current Dollar Amount\": 4974876000}, {\"Fiscal Year\": 1986, \"International Purpose Name\": \"Multisector aid\", \"Current Dollar Amount\": 10823038000}, {\"Fiscal Year\": 1986, \"International Purpose Name\": \"Security system management and reform\", \"Current Dollar Amount\": 4992678000}, {\"Fiscal Year\": 1987, \"International Purpose Name\": \"Multisector aid\", \"Current Dollar Amount\": 9425638000}, {\"Fiscal Year\": 1987, \"International Purpose Name\": \"Security system management and reform\", \"Current Dollar Amount\": 4136728000}, {\"Fiscal Year\": 1988, \"International Purpose Name\": \"Legal and judicial development\", \"Current Dollar Amount\": 95099000}, {\"Fiscal Year\": 1988, \"International Purpose Name\": \"Multisector aid\", \"Current Dollar Amount\": 9595958000}, {\"Fiscal Year\": 1988, \"International Purpose Name\": \"Security system management and reform\", \"Current Dollar Amount\": 4094237000}, {\"Fiscal Year\": 1989, \"International Purpose Name\": \"Legal and judicial development\", \"Current Dollar Amount\": 99250000}, {\"Fiscal Year\": 1989, \"International Purpose Name\": \"Multisector aid\", \"Current Dollar Amount\": 9800706000}, {\"Fiscal Year\": 1989, \"International Purpose Name\": \"Security system management and reform\", \"Current Dollar Amount\": 4383969000}, {\"Fiscal Year\": 1990, \"International Purpose Name\": \"Legal and judicial development\", \"Current Dollar Amount\": 125624049}, {\"Fiscal Year\": 1990, \"International Purpose Name\": \"Multisector aid\", \"Current Dollar Amount\": 10736673000}, {\"Fiscal Year\": 1990, \"International Purpose Name\": \"Security system management and reform\", \"Current Dollar Amount\": 4922152000}, {\"Fiscal Year\": 1991, \"International Purpose Name\": \"Legal and judicial development\", \"Current Dollar Amount\": 143651000}, {\"Fiscal Year\": 1991, \"International Purpose Name\": \"Multisector aid\", \"Current Dollar Amount\": 11785463000}, {\"Fiscal Year\": 1991, \"International Purpose Name\": \"Security system management and reform\", \"Current Dollar Amount\": 4822473000}, {\"Fiscal Year\": 1992, \"International Purpose Name\": \"Emergency food assistance\", \"Current Dollar Amount\": 356075600}, {\"Fiscal Year\": 1992, \"International Purpose Name\": \"Legal and judicial development\", \"Current Dollar Amount\": 143945063}, {\"Fiscal Year\": 1992, \"International Purpose Name\": \"Multisector aid\", \"Current Dollar Amount\": 10042032000}, {\"Fiscal Year\": 1992, \"International Purpose Name\": \"Security system management and reform\", \"Current Dollar Amount\": 4442560000}, {\"Fiscal Year\": 1993, \"International Purpose Name\": \"Emergency food assistance\", \"Current Dollar Amount\": 395469000}, {\"Fiscal Year\": 1993, \"International Purpose Name\": \"Legal and judicial development\", \"Current Dollar Amount\": 140714566}, {\"Fiscal Year\": 1993, \"International Purpose Name\": \"Multisector aid\", \"Current Dollar Amount\": 10012280000}, {\"Fiscal Year\": 1993, \"International Purpose Name\": \"Security system management and reform\", \"Current Dollar Amount\": 4603078975}, {\"Fiscal Year\": 1994, \"International Purpose Name\": \"Emergency food assistance\", \"Current Dollar Amount\": 494889700}, {\"Fiscal Year\": 1994, \"International Purpose Name\": \"Legal and judicial development\", \"Current Dollar Amount\": 94369385}, {\"Fiscal Year\": 1994, \"International Purpose Name\": \"Multisector aid\", \"Current Dollar Amount\": 10050195000}, {\"Fiscal Year\": 1994, \"International Purpose Name\": \"Security system management and reform\", \"Current Dollar Amount\": 4052292557}, {\"Fiscal Year\": 1995, \"International Purpose Name\": \"Emergency food assistance\", \"Current Dollar Amount\": 496491500}, {\"Fiscal Year\": 1995, \"International Purpose Name\": \"Legal and judicial development\", \"Current Dollar Amount\": 97583713}, {\"Fiscal Year\": 1995, \"International Purpose Name\": \"Multisector aid\", \"Current Dollar Amount\": 9596494000}, {\"Fiscal Year\": 1995, \"International Purpose Name\": \"Security system management and reform\", \"Current Dollar Amount\": 3950303181}, {\"Fiscal Year\": 1996, \"International Purpose Name\": \"Emergency food assistance\", \"Current Dollar Amount\": 455046400}, {\"Fiscal Year\": 1996, \"International Purpose Name\": \"Legal and judicial development\", \"Current Dollar Amount\": 106913872}, {\"Fiscal Year\": 1996, \"International Purpose Name\": \"Material relief assistance and services\", \"Current Dollar Amount\": 426119477}, {\"Fiscal Year\": 1996, \"International Purpose Name\": \"Multisector aid\", \"Current Dollar Amount\": 7899240000}, {\"Fiscal Year\": 1996, \"International Purpose Name\": \"Operating Expenses\", \"Current Dollar Amount\": 267207}, {\"Fiscal Year\": 1996, \"International Purpose Name\": \"Security system management and reform\", \"Current Dollar Amount\": 4556910508}, {\"Fiscal Year\": 1997, \"International Purpose Name\": \"Emergency food assistance\", \"Current Dollar Amount\": 394742900}, {\"Fiscal Year\": 1997, \"International Purpose Name\": \"Legal and judicial development\", \"Current Dollar Amount\": 200711500}, {\"Fiscal Year\": 1997, \"International Purpose Name\": \"Material relief assistance and services\", \"Current Dollar Amount\": 693798389}, {\"Fiscal Year\": 1997, \"International Purpose Name\": \"Multisector aid\", \"Current Dollar Amount\": 7597025000}, {\"Fiscal Year\": 1997, \"International Purpose Name\": \"Operating Expenses\", \"Current Dollar Amount\": 148381}, {\"Fiscal Year\": 1997, \"International Purpose Name\": \"Security system management and reform\", \"Current Dollar Amount\": 3771885563}, {\"Fiscal Year\": 1998, \"International Purpose Name\": \"Emergency food assistance\", \"Current Dollar Amount\": 477496900}, {\"Fiscal Year\": 1998, \"International Purpose Name\": \"Legal and judicial development\", \"Current Dollar Amount\": 223784670}, {\"Fiscal Year\": 1998, \"International Purpose Name\": \"Material relief assistance and services\", \"Current Dollar Amount\": 625808782}, {\"Fiscal Year\": 1998, \"International Purpose Name\": \"Multisector aid\", \"Current Dollar Amount\": 8540304662}, {\"Fiscal Year\": 1998, \"International Purpose Name\": \"Public sector policy and administrative management\", \"Current Dollar Amount\": 0}, {\"Fiscal Year\": 1998, \"International Purpose Name\": \"Security system management and reform\", \"Current Dollar Amount\": 3733989402}, {\"Fiscal Year\": 1999, \"International Purpose Name\": \"Emergency food assistance\", \"Current Dollar Amount\": 637420928}, {\"Fiscal Year\": 1999, \"International Purpose Name\": \"Legal and judicial development\", \"Current Dollar Amount\": 484015734}, {\"Fiscal Year\": 1999, \"International Purpose Name\": \"Material relief assistance and services\", \"Current Dollar Amount\": 768100081}, {\"Fiscal Year\": 1999, \"International Purpose Name\": \"Multisector aid\", \"Current Dollar Amount\": 7532250850}, {\"Fiscal Year\": 1999, \"International Purpose Name\": \"Operating Expenses\", \"Current Dollar Amount\": 106489000}, {\"Fiscal Year\": 1999, \"International Purpose Name\": \"Public sector policy and administrative management\", \"Current Dollar Amount\": 2391450}, {\"Fiscal Year\": 1999, \"International Purpose Name\": \"Sectors not specified\", \"Current Dollar Amount\": 1451262000}, {\"Fiscal Year\": 1999, \"International Purpose Name\": \"Security system management and reform\", \"Current Dollar Amount\": 3860352736}, {\"Fiscal Year\": 2000, \"International Purpose Name\": \"Emergency food assistance\", \"Current Dollar Amount\": 520084219}, {\"Fiscal Year\": 2000, \"International Purpose Name\": \"Legal and judicial development\", \"Current Dollar Amount\": 1310517277}, {\"Fiscal Year\": 2000, \"International Purpose Name\": \"Material relief assistance and services\", \"Current Dollar Amount\": 884548801}, {\"Fiscal Year\": 2000, \"International Purpose Name\": \"Multisector aid\", \"Current Dollar Amount\": 6006390036}, {\"Fiscal Year\": 2000, \"International Purpose Name\": \"Operating Expenses\", \"Current Dollar Amount\": 108240000}, {\"Fiscal Year\": 2000, \"International Purpose Name\": \"Public sector policy and administrative management\", \"Current Dollar Amount\": 1029750}, {\"Fiscal Year\": 2000, \"International Purpose Name\": \"STD control including HIV/AIDS\", \"Current Dollar Amount\": 295429}, {\"Fiscal Year\": 2000, \"International Purpose Name\": \"Sectors not specified\", \"Current Dollar Amount\": 1110307479}, {\"Fiscal Year\": 2000, \"International Purpose Name\": \"Security system management and reform\", \"Current Dollar Amount\": 4663811246}, {\"Fiscal Year\": 2001, \"International Purpose Name\": \"Emergency food assistance\", \"Current Dollar Amount\": 847235216}, {\"Fiscal Year\": 2001, \"International Purpose Name\": \"Legal and judicial development\", \"Current Dollar Amount\": 857559199}, {\"Fiscal Year\": 2001, \"International Purpose Name\": \"Material relief assistance and services\", \"Current Dollar Amount\": 2364067326}, {\"Fiscal Year\": 2001, \"International Purpose Name\": \"Multisector aid\", \"Current Dollar Amount\": 1052305866}, {\"Fiscal Year\": 2001, \"International Purpose Name\": \"Operating Expenses\", \"Current Dollar Amount\": 1558109341}, {\"Fiscal Year\": 2001, \"International Purpose Name\": \"Public sector policy and administrative management\", \"Current Dollar Amount\": 598957427}, {\"Fiscal Year\": 2001, \"International Purpose Name\": \"STD control including HIV/AIDS\", \"Current Dollar Amount\": 445935322}, {\"Fiscal Year\": 2001, \"International Purpose Name\": \"Sectors not specified\", \"Current Dollar Amount\": 2282931966}, {\"Fiscal Year\": 2001, \"International Purpose Name\": \"Security system management and reform\", \"Current Dollar Amount\": 7581403656}, {\"Fiscal Year\": 2002, \"International Purpose Name\": \"Emergency food assistance\", \"Current Dollar Amount\": 1037677797}, {\"Fiscal Year\": 2002, \"International Purpose Name\": \"Legal and judicial development\", \"Current Dollar Amount\": 856788092}, {\"Fiscal Year\": 2002, \"International Purpose Name\": \"Material relief assistance and services\", \"Current Dollar Amount\": 3671981373}, {\"Fiscal Year\": 2002, \"International Purpose Name\": \"Multisector aid\", \"Current Dollar Amount\": 1571595752}, {\"Fiscal Year\": 2002, \"International Purpose Name\": \"Operating Expenses\", \"Current Dollar Amount\": 1606187358}, {\"Fiscal Year\": 2002, \"International Purpose Name\": \"Public sector policy and administrative management\", \"Current Dollar Amount\": 713199119}, {\"Fiscal Year\": 2002, \"International Purpose Name\": \"STD control including HIV/AIDS\", \"Current Dollar Amount\": 1275069911}, {\"Fiscal Year\": 2002, \"International Purpose Name\": \"Sectors not specified\", \"Current Dollar Amount\": 2343178226}, {\"Fiscal Year\": 2002, \"International Purpose Name\": \"Security system management and reform\", \"Current Dollar Amount\": 8843892791}, {\"Fiscal Year\": 2003, \"International Purpose Name\": \"Emergency food assistance\", \"Current Dollar Amount\": 2868544215}, {\"Fiscal Year\": 2003, \"International Purpose Name\": \"Legal and judicial development\", \"Current Dollar Amount\": 586540473}, {\"Fiscal Year\": 2003, \"International Purpose Name\": \"Material relief assistance and services\", \"Current Dollar Amount\": 4120945485}, {\"Fiscal Year\": 2003, \"International Purpose Name\": \"Multisector aid\", \"Current Dollar Amount\": 896774223}, {\"Fiscal Year\": 2003, \"International Purpose Name\": \"Operating Expenses\", \"Current Dollar Amount\": 1811594094}, {\"Fiscal Year\": 2003, \"International Purpose Name\": \"Public sector policy and administrative management\", \"Current Dollar Amount\": 6137106837}, {\"Fiscal Year\": 2003, \"International Purpose Name\": \"STD control including HIV/AIDS\", \"Current Dollar Amount\": 2002527061}, {\"Fiscal Year\": 2003, \"International Purpose Name\": \"Sectors not specified\", \"Current Dollar Amount\": 469864836}, {\"Fiscal Year\": 2003, \"International Purpose Name\": \"Security system management and reform\", \"Current Dollar Amount\": 12916347617}, {\"Fiscal Year\": 2004, \"International Purpose Name\": \"Emergency food assistance\", \"Current Dollar Amount\": 1909789841}, {\"Fiscal Year\": 2004, \"International Purpose Name\": \"Legal and judicial development\", \"Current Dollar Amount\": 3809227201}, {\"Fiscal Year\": 2004, \"International Purpose Name\": \"Material relief assistance and services\", \"Current Dollar Amount\": 2834140340}, {\"Fiscal Year\": 2004, \"International Purpose Name\": \"Multisector aid\", \"Current Dollar Amount\": 943264100}, {\"Fiscal Year\": 2004, \"International Purpose Name\": \"Operating Expenses\", \"Current Dollar Amount\": 2022064613}, {\"Fiscal Year\": 2004, \"International Purpose Name\": \"Public sector policy and administrative management\", \"Current Dollar Amount\": 1549182168}, {\"Fiscal Year\": 2004, \"International Purpose Name\": \"Relief co-ordination; protection and support services\", \"Current Dollar Amount\": 800000}, {\"Fiscal Year\": 2004, \"International Purpose Name\": \"STD control including HIV/AIDS\", \"Current Dollar Amount\": 3385957909}, {\"Fiscal Year\": 2004, \"International Purpose Name\": \"Sectors not specified\", \"Current Dollar Amount\": 4834542906}, {\"Fiscal Year\": 2004, \"International Purpose Name\": \"Security system management and reform\", \"Current Dollar Amount\": 11419872552}, {\"Fiscal Year\": 2005, \"International Purpose Name\": \"Emergency food assistance\", \"Current Dollar Amount\": 2968914701}, {\"Fiscal Year\": 2005, \"International Purpose Name\": \"Legal and judicial development\", \"Current Dollar Amount\": 5853672445}, {\"Fiscal Year\": 2005, \"International Purpose Name\": \"Material relief assistance and services\", \"Current Dollar Amount\": 3952780799}, {\"Fiscal Year\": 2005, \"International Purpose Name\": \"Multisector aid\", \"Current Dollar Amount\": 968886184}, {\"Fiscal Year\": 2005, \"International Purpose Name\": \"Operating Expenses\", \"Current Dollar Amount\": 2189881848}, {\"Fiscal Year\": 2005, \"International Purpose Name\": \"Public sector policy and administrative management\", \"Current Dollar Amount\": 1944577048}, {\"Fiscal Year\": 2005, \"International Purpose Name\": \"Relief co-ordination; protection and support services\", \"Current Dollar Amount\": 1750000}, {\"Fiscal Year\": 2005, \"International Purpose Name\": \"STD control including HIV/AIDS\", \"Current Dollar Amount\": 5003968811}, {\"Fiscal Year\": 2005, \"International Purpose Name\": \"Sectors not specified\", \"Current Dollar Amount\": 2565275049}, {\"Fiscal Year\": 2005, \"International Purpose Name\": \"Security system management and reform\", \"Current Dollar Amount\": 12992154108}, {\"Fiscal Year\": 2006, \"International Purpose Name\": \"Emergency food assistance\", \"Current Dollar Amount\": 2334049429}, {\"Fiscal Year\": 2006, \"International Purpose Name\": \"Legal and judicial development\", \"Current Dollar Amount\": 1498847099}, {\"Fiscal Year\": 2006, \"International Purpose Name\": \"Material relief assistance and services\", \"Current Dollar Amount\": 3816351874}, {\"Fiscal Year\": 2006, \"International Purpose Name\": \"Multisector aid\", \"Current Dollar Amount\": 1368043354}, {\"Fiscal Year\": 2006, \"International Purpose Name\": \"Operating Expenses\", \"Current Dollar Amount\": 2387243436}, {\"Fiscal Year\": 2006, \"International Purpose Name\": \"Public sector policy and administrative management\", \"Current Dollar Amount\": 1938666758}, {\"Fiscal Year\": 2006, \"International Purpose Name\": \"Relief co-ordination; protection and support services\", \"Current Dollar Amount\": 822080}, {\"Fiscal Year\": 2006, \"International Purpose Name\": \"STD control including HIV/AIDS\", \"Current Dollar Amount\": 5024755464}, {\"Fiscal Year\": 2006, \"International Purpose Name\": \"Sectors not specified\", \"Current Dollar Amount\": 2405204757}, {\"Fiscal Year\": 2006, \"International Purpose Name\": \"Security system management and reform\", \"Current Dollar Amount\": 22193808505}, {\"Fiscal Year\": 2007, \"International Purpose Name\": \"Emergency food assistance\", \"Current Dollar Amount\": 2419974668}, {\"Fiscal Year\": 2007, \"International Purpose Name\": \"Legal and judicial development\", \"Current Dollar Amount\": 1694915404}, {\"Fiscal Year\": 2007, \"International Purpose Name\": \"Material relief assistance and services\", \"Current Dollar Amount\": 3412807119}, {\"Fiscal Year\": 2007, \"International Purpose Name\": \"Multisector aid\", \"Current Dollar Amount\": 1405586715}, {\"Fiscal Year\": 2007, \"International Purpose Name\": \"Operating Expenses\", \"Current Dollar Amount\": 2543153502}, {\"Fiscal Year\": 2007, \"International Purpose Name\": \"Public sector policy and administrative management\", \"Current Dollar Amount\": 1359146295}, {\"Fiscal Year\": 2007, \"International Purpose Name\": \"Relief co-ordination; protection and support services\", \"Current Dollar Amount\": 77243606}, {\"Fiscal Year\": 2007, \"International Purpose Name\": \"STD control including HIV/AIDS\", \"Current Dollar Amount\": 6492722171}, {\"Fiscal Year\": 2007, \"International Purpose Name\": \"Sectors not specified\", \"Current Dollar Amount\": 3211901990}, {\"Fiscal Year\": 2007, \"International Purpose Name\": \"Security system management and reform\", \"Current Dollar Amount\": 25824941505}, {\"Fiscal Year\": 2008, \"International Purpose Name\": \"Emergency food assistance\", \"Current Dollar Amount\": 4336066696}, {\"Fiscal Year\": 2008, \"International Purpose Name\": \"Legal and judicial development\", \"Current Dollar Amount\": 2654860797}, {\"Fiscal Year\": 2008, \"International Purpose Name\": \"Material relief assistance and services\", \"Current Dollar Amount\": 3842019545}, {\"Fiscal Year\": 2008, \"International Purpose Name\": \"Multisector aid\", \"Current Dollar Amount\": 1930751230}, {\"Fiscal Year\": 2008, \"International Purpose Name\": \"Operating Expenses\", \"Current Dollar Amount\": 3011952871}, {\"Fiscal Year\": 2008, \"International Purpose Name\": \"Public sector policy and administrative management\", \"Current Dollar Amount\": 1146998612}, {\"Fiscal Year\": 2008, \"International Purpose Name\": \"Relief co-ordination; protection and support services\", \"Current Dollar Amount\": 138476305}, {\"Fiscal Year\": 2008, \"International Purpose Name\": \"STD control including HIV/AIDS\", \"Current Dollar Amount\": 9437306306}, {\"Fiscal Year\": 2008, \"International Purpose Name\": \"Sectors not specified\", \"Current Dollar Amount\": 2255167187}, {\"Fiscal Year\": 2008, \"International Purpose Name\": \"Security system management and reform\", \"Current Dollar Amount\": 30733098506}, {\"Fiscal Year\": 2009, \"International Purpose Name\": \"Emergency food assistance\", \"Current Dollar Amount\": 3899237410}, {\"Fiscal Year\": 2009, \"International Purpose Name\": \"Legal and judicial development\", \"Current Dollar Amount\": 4008289369}, {\"Fiscal Year\": 2009, \"International Purpose Name\": \"Material relief assistance and services\", \"Current Dollar Amount\": 4989871895}, {\"Fiscal Year\": 2009, \"International Purpose Name\": \"Multisector aid\", \"Current Dollar Amount\": 1989401823}, {\"Fiscal Year\": 2009, \"International Purpose Name\": \"Operating Expenses\", \"Current Dollar Amount\": 2924316496}, {\"Fiscal Year\": 2009, \"International Purpose Name\": \"Public sector policy and administrative management\", \"Current Dollar Amount\": 1674817014}, {\"Fiscal Year\": 2009, \"International Purpose Name\": \"Relief co-ordination; protection and support services\", \"Current Dollar Amount\": 110468095}, {\"Fiscal Year\": 2009, \"International Purpose Name\": \"STD control including HIV/AIDS\", \"Current Dollar Amount\": 10820174745}, {\"Fiscal Year\": 2009, \"International Purpose Name\": \"Sectors not specified\", \"Current Dollar Amount\": 3199103316}, {\"Fiscal Year\": 2009, \"International Purpose Name\": \"Security system management and reform\", \"Current Dollar Amount\": 28903444689}, {\"Fiscal Year\": 2010, \"International Purpose Name\": \"Emergency food assistance\", \"Current Dollar Amount\": 3390945833}, {\"Fiscal Year\": 2010, \"International Purpose Name\": \"Legal and judicial development\", \"Current Dollar Amount\": 4443170874}, {\"Fiscal Year\": 2010, \"International Purpose Name\": \"Material relief assistance and services\", \"Current Dollar Amount\": 6375957525}, {\"Fiscal Year\": 2010, \"International Purpose Name\": \"Multisector aid\", \"Current Dollar Amount\": 461892971}, {\"Fiscal Year\": 2010, \"International Purpose Name\": \"Operating Expenses\", \"Current Dollar Amount\": 3647732993}, {\"Fiscal Year\": 2010, \"International Purpose Name\": \"Public sector policy and administrative management\", \"Current Dollar Amount\": 1092075523}, {\"Fiscal Year\": 2010, \"International Purpose Name\": \"Relief co-ordination; protection and support services\", \"Current Dollar Amount\": 119042565}, {\"Fiscal Year\": 2010, \"International Purpose Name\": \"STD control including HIV/AIDS\", \"Current Dollar Amount\": 9498590110}, {\"Fiscal Year\": 2010, \"International Purpose Name\": \"Sectors not specified\", \"Current Dollar Amount\": 3685502647}, {\"Fiscal Year\": 2010, \"International Purpose Name\": \"Security system management and reform\", \"Current Dollar Amount\": 26189012607}, {\"Fiscal Year\": 2011, \"International Purpose Name\": \"Emergency food assistance\", \"Current Dollar Amount\": 2998037915}, {\"Fiscal Year\": 2011, \"International Purpose Name\": \"Legal and judicial development\", \"Current Dollar Amount\": 4704350945}, {\"Fiscal Year\": 2011, \"International Purpose Name\": \"Material relief assistance and services\", \"Current Dollar Amount\": 5822147795}, {\"Fiscal Year\": 2011, \"International Purpose Name\": \"Multisector aid\", \"Current Dollar Amount\": 275297464}, {\"Fiscal Year\": 2011, \"International Purpose Name\": \"Operating Expenses\", \"Current Dollar Amount\": 3237564963}, {\"Fiscal Year\": 2011, \"International Purpose Name\": \"Public sector policy and administrative management\", \"Current Dollar Amount\": 812072368}, {\"Fiscal Year\": 2011, \"International Purpose Name\": \"Relief co-ordination; protection and support services\", \"Current Dollar Amount\": 95967744}, {\"Fiscal Year\": 2011, \"International Purpose Name\": \"STD control including HIV/AIDS\", \"Current Dollar Amount\": 10156088418}, {\"Fiscal Year\": 2011, \"International Purpose Name\": \"Sectors not specified\", \"Current Dollar Amount\": 3516383485}, {\"Fiscal Year\": 2011, \"International Purpose Name\": \"Security system management and reform\", \"Current Dollar Amount\": 33253545599}, {\"Fiscal Year\": 2012, \"International Purpose Name\": \"Emergency food assistance\", \"Current Dollar Amount\": 3117084742}, {\"Fiscal Year\": 2012, \"International Purpose Name\": \"Legal and judicial development\", \"Current Dollar Amount\": 4491068253}, {\"Fiscal Year\": 2012, \"International Purpose Name\": \"Material relief assistance and services\", \"Current Dollar Amount\": 4950475826}, {\"Fiscal Year\": 2012, \"International Purpose Name\": \"Multisector aid\", \"Current Dollar Amount\": 259893342}, {\"Fiscal Year\": 2012, \"International Purpose Name\": \"Operating Expenses\", \"Current Dollar Amount\": 3849168531}, {\"Fiscal Year\": 2012, \"International Purpose Name\": \"Public sector policy and administrative management\", \"Current Dollar Amount\": 1706905339}, {\"Fiscal Year\": 2012, \"International Purpose Name\": \"Relief co-ordination; protection and support services\", \"Current Dollar Amount\": 96760059}, {\"Fiscal Year\": 2012, \"International Purpose Name\": \"STD control including HIV/AIDS\", \"Current Dollar Amount\": 12774300188}, {\"Fiscal Year\": 2012, \"International Purpose Name\": \"Sectors not specified\", \"Current Dollar Amount\": 4990034846}, {\"Fiscal Year\": 2012, \"International Purpose Name\": \"Security system management and reform\", \"Current Dollar Amount\": 30814937041}, {\"Fiscal Year\": 2013, \"International Purpose Name\": \"Emergency food assistance\", \"Current Dollar Amount\": 3022338524}, {\"Fiscal Year\": 2013, \"International Purpose Name\": \"Legal and judicial development\", \"Current Dollar Amount\": 3325475160}, {\"Fiscal Year\": 2013, \"International Purpose Name\": \"Material relief assistance and services\", \"Current Dollar Amount\": 5849641165}, {\"Fiscal Year\": 2013, \"International Purpose Name\": \"Multisector aid\", \"Current Dollar Amount\": 418450572}, {\"Fiscal Year\": 2013, \"International Purpose Name\": \"Operating Expenses\", \"Current Dollar Amount\": 3949764824}, {\"Fiscal Year\": 2013, \"International Purpose Name\": \"Public sector policy and administrative management\", \"Current Dollar Amount\": 577257144}, {\"Fiscal Year\": 2013, \"International Purpose Name\": \"Relief co-ordination; protection and support services\", \"Current Dollar Amount\": 105641944}, {\"Fiscal Year\": 2013, \"International Purpose Name\": \"STD control including HIV/AIDS\", \"Current Dollar Amount\": 13641904367}, {\"Fiscal Year\": 2013, \"International Purpose Name\": \"Sectors not specified\", \"Current Dollar Amount\": 4237192952}, {\"Fiscal Year\": 2013, \"International Purpose Name\": \"Security system management and reform\", \"Current Dollar Amount\": 26784633637}, {\"Fiscal Year\": 2014, \"International Purpose Name\": \"Emergency food assistance\", \"Current Dollar Amount\": 3885894228}, {\"Fiscal Year\": 2014, \"International Purpose Name\": \"Legal and judicial development\", \"Current Dollar Amount\": 3773775382}, {\"Fiscal Year\": 2014, \"International Purpose Name\": \"Material relief assistance and services\", \"Current Dollar Amount\": 7707362904}, {\"Fiscal Year\": 2014, \"International Purpose Name\": \"Multisector aid\", \"Current Dollar Amount\": 648012377}, {\"Fiscal Year\": 2014, \"International Purpose Name\": \"Operating Expenses\", \"Current Dollar Amount\": 3957698879}, {\"Fiscal Year\": 2014, \"International Purpose Name\": \"Public sector policy and administrative management\", \"Current Dollar Amount\": 517747864}, {\"Fiscal Year\": 2014, \"International Purpose Name\": \"Relief co-ordination; protection and support services\", \"Current Dollar Amount\": 132445041}, {\"Fiscal Year\": 2014, \"International Purpose Name\": \"STD control including HIV/AIDS\", \"Current Dollar Amount\": 12862207766}, {\"Fiscal Year\": 2014, \"International Purpose Name\": \"Sectors not specified\", \"Current Dollar Amount\": 4710120465}, {\"Fiscal Year\": 2014, \"International Purpose Name\": \"Security system management and reform\", \"Current Dollar Amount\": 20255076177}, {\"Fiscal Year\": 2015, \"International Purpose Name\": \"Emergency food assistance\", \"Current Dollar Amount\": 3749599649}, {\"Fiscal Year\": 2015, \"International Purpose Name\": \"Legal and judicial development\", \"Current Dollar Amount\": 3719876361}, {\"Fiscal Year\": 2015, \"International Purpose Name\": \"Material relief assistance and services\", \"Current Dollar Amount\": 9339162553}, {\"Fiscal Year\": 2015, \"International Purpose Name\": \"Multisector aid\", \"Current Dollar Amount\": 1017721859}, {\"Fiscal Year\": 2015, \"International Purpose Name\": \"Operating Expenses\", \"Current Dollar Amount\": 4133813083}, {\"Fiscal Year\": 2015, \"International Purpose Name\": \"Public sector policy and administrative management\", \"Current Dollar Amount\": 1308328250}, {\"Fiscal Year\": 2015, \"International Purpose Name\": \"Relief co-ordination; protection and support services\", \"Current Dollar Amount\": 175056050}, {\"Fiscal Year\": 2015, \"International Purpose Name\": \"STD control including HIV/AIDS\", \"Current Dollar Amount\": 9940160709}, {\"Fiscal Year\": 2015, \"International Purpose Name\": \"Sectors not specified\", \"Current Dollar Amount\": 4289798104}, {\"Fiscal Year\": 2015, \"International Purpose Name\": \"Security system management and reform\", \"Current Dollar Amount\": 30199025245}, {\"Fiscal Year\": 2016, \"International Purpose Name\": \"Emergency food assistance\", \"Current Dollar Amount\": 4225962833}, {\"Fiscal Year\": 2016, \"International Purpose Name\": \"Legal and judicial development\", \"Current Dollar Amount\": 1098370848}, {\"Fiscal Year\": 2016, \"International Purpose Name\": \"Material relief assistance and services\", \"Current Dollar Amount\": 8525139324}, {\"Fiscal Year\": 2016, \"International Purpose Name\": \"Multisector aid\", \"Current Dollar Amount\": 963824806}, {\"Fiscal Year\": 2016, \"International Purpose Name\": \"Operating Expenses\", \"Current Dollar Amount\": 4339416306}, {\"Fiscal Year\": 2016, \"International Purpose Name\": \"Public sector policy and administrative management\", \"Current Dollar Amount\": 942948098}, {\"Fiscal Year\": 2016, \"International Purpose Name\": \"Relief co-ordination; protection and support services\", \"Current Dollar Amount\": 200999883}, {\"Fiscal Year\": 2016, \"International Purpose Name\": \"STD control including HIV/AIDS\", \"Current Dollar Amount\": 14541766372}, {\"Fiscal Year\": 2016, \"International Purpose Name\": \"Sectors not specified\", \"Current Dollar Amount\": 3886536213}, {\"Fiscal Year\": 2016, \"International Purpose Name\": \"Security system management and reform\", \"Current Dollar Amount\": 27770349581}, {\"Fiscal Year\": 2017, \"International Purpose Name\": \"Emergency food assistance\", \"Current Dollar Amount\": 5680788402}, {\"Fiscal Year\": 2017, \"International Purpose Name\": \"Legal and judicial development\", \"Current Dollar Amount\": 2547893604}, {\"Fiscal Year\": 2017, \"International Purpose Name\": \"Material relief assistance and services\", \"Current Dollar Amount\": 7181718998}, {\"Fiscal Year\": 2017, \"International Purpose Name\": \"Multisector aid\", \"Current Dollar Amount\": 878513644}, {\"Fiscal Year\": 2017, \"International Purpose Name\": \"Operating Expenses\", \"Current Dollar Amount\": 5075277150}, {\"Fiscal Year\": 2017, \"International Purpose Name\": \"Public sector policy and administrative management\", \"Current Dollar Amount\": 608573922}, {\"Fiscal Year\": 2017, \"International Purpose Name\": \"Relief co-ordination; protection and support services\", \"Current Dollar Amount\": 2168041964}, {\"Fiscal Year\": 2017, \"International Purpose Name\": \"STD control including HIV/AIDS\", \"Current Dollar Amount\": 12497342076}, {\"Fiscal Year\": 2017, \"International Purpose Name\": \"Sectors not specified\", \"Current Dollar Amount\": 3508912613}, {\"Fiscal Year\": 2017, \"International Purpose Name\": \"Security system management and reform\", \"Current Dollar Amount\": 23870540269}, {\"Fiscal Year\": 2018, \"International Purpose Name\": \"Emergency food assistance\", \"Current Dollar Amount\": 6235374459}, {\"Fiscal Year\": 2018, \"International Purpose Name\": \"Legal and judicial development\", \"Current Dollar Amount\": 2426662817}, {\"Fiscal Year\": 2018, \"International Purpose Name\": \"Material relief assistance and services\", \"Current Dollar Amount\": 6110794679}, {\"Fiscal Year\": 2018, \"International Purpose Name\": \"Multisector aid\", \"Current Dollar Amount\": 698843301}, {\"Fiscal Year\": 2018, \"International Purpose Name\": \"Operating Expenses\", \"Current Dollar Amount\": 4705844135}, {\"Fiscal Year\": 2018, \"International Purpose Name\": \"Public sector policy and administrative management\", \"Current Dollar Amount\": 1793563206}, {\"Fiscal Year\": 2018, \"International Purpose Name\": \"Relief co-ordination; protection and support services\", \"Current Dollar Amount\": 2876713383}, {\"Fiscal Year\": 2018, \"International Purpose Name\": \"STD control including HIV/AIDS\", \"Current Dollar Amount\": 11531161897}, {\"Fiscal Year\": 2018, \"International Purpose Name\": \"Sectors not specified\", \"Current Dollar Amount\": 3032579527}, {\"Fiscal Year\": 2018, \"International Purpose Name\": \"Security system management and reform\", \"Current Dollar Amount\": 28555038162}, {\"Fiscal Year\": 2019, \"International Purpose Name\": \"Emergency food assistance\", \"Current Dollar Amount\": 7048722889}, {\"Fiscal Year\": 2019, \"International Purpose Name\": \"Legal and judicial development\", \"Current Dollar Amount\": 2450001701}, {\"Fiscal Year\": 2019, \"International Purpose Name\": \"Material relief assistance and services\", \"Current Dollar Amount\": 6881488197}, {\"Fiscal Year\": 2019, \"International Purpose Name\": \"Multisector aid\", \"Current Dollar Amount\": 724119773}, {\"Fiscal Year\": 2019, \"International Purpose Name\": \"Operating Expenses\", \"Current Dollar Amount\": 5756050879}, {\"Fiscal Year\": 2019, \"International Purpose Name\": \"Public sector policy and administrative management\", \"Current Dollar Amount\": 2139878449}, {\"Fiscal Year\": 2019, \"International Purpose Name\": \"Relief co-ordination; protection and support services\", \"Current Dollar Amount\": 3433027841}, {\"Fiscal Year\": 2019, \"International Purpose Name\": \"STD control including HIV/AIDS\", \"Current Dollar Amount\": 11557650081}, {\"Fiscal Year\": 2019, \"International Purpose Name\": \"Sectors not specified\", \"Current Dollar Amount\": 3038485272}, {\"Fiscal Year\": 2019, \"International Purpose Name\": \"Security system management and reform\", \"Current Dollar Amount\": 27968081813}, {\"Fiscal Year\": 2020, \"International Purpose Name\": \"Emergency food assistance\", \"Current Dollar Amount\": 4437740352}, {\"Fiscal Year\": 2020, \"International Purpose Name\": \"Legal and judicial development\", \"Current Dollar Amount\": 2463147816}, {\"Fiscal Year\": 2020, \"International Purpose Name\": \"Material relief assistance and services\", \"Current Dollar Amount\": 7749451343}, {\"Fiscal Year\": 2020, \"International Purpose Name\": \"Multisector aid\", \"Current Dollar Amount\": 1052961383}, {\"Fiscal Year\": 2020, \"International Purpose Name\": \"Operating Expenses\", \"Current Dollar Amount\": 6066689195}, {\"Fiscal Year\": 2020, \"International Purpose Name\": \"Public sector policy and administrative management\", \"Current Dollar Amount\": 745031506}, {\"Fiscal Year\": 2020, \"International Purpose Name\": \"Relief co-ordination; protection and support services\", \"Current Dollar Amount\": 6850163630}, {\"Fiscal Year\": 2020, \"International Purpose Name\": \"STD control including HIV/AIDS\", \"Current Dollar Amount\": 15551781502}, {\"Fiscal Year\": 2020, \"International Purpose Name\": \"Sectors not specified\", \"Current Dollar Amount\": 3363531149}, {\"Fiscal Year\": 2020, \"International Purpose Name\": \"Security system management and reform\", \"Current Dollar Amount\": 23055762297}, {\"Fiscal Year\": 2021, \"International Purpose Name\": \"Emergency food assistance\", \"Current Dollar Amount\": 7706066452}, {\"Fiscal Year\": 2021, \"International Purpose Name\": \"Legal and judicial development\", \"Current Dollar Amount\": 404662151}, {\"Fiscal Year\": 2021, \"International Purpose Name\": \"Material relief assistance and services\", \"Current Dollar Amount\": 11120508201}, {\"Fiscal Year\": 2021, \"International Purpose Name\": \"Multisector aid\", \"Current Dollar Amount\": 591852153}, {\"Fiscal Year\": 2021, \"International Purpose Name\": \"Operating Expenses\", \"Current Dollar Amount\": 8981037152}, {\"Fiscal Year\": 2021, \"International Purpose Name\": \"Public sector policy and administrative management\", \"Current Dollar Amount\": 354688647}, {\"Fiscal Year\": 2021, \"International Purpose Name\": \"Relief co-ordination; protection and support services\", \"Current Dollar Amount\": 5762013682}, {\"Fiscal Year\": 2021, \"International Purpose Name\": \"STD control including HIV/AIDS\", \"Current Dollar Amount\": 12863235399}, {\"Fiscal Year\": 2021, \"International Purpose Name\": \"Sectors not specified\", \"Current Dollar Amount\": 3078500948}, {\"Fiscal Year\": 2021, \"International Purpose Name\": \"Security system management and reform\", \"Current Dollar Amount\": 12934454019}, {\"Fiscal Year\": 2022, \"International Purpose Name\": \"Emergency food assistance\", \"Current Dollar Amount\": 12367346204}, {\"Fiscal Year\": 2022, \"International Purpose Name\": \"Legal and judicial development\", \"Current Dollar Amount\": 342481238}, {\"Fiscal Year\": 2022, \"International Purpose Name\": \"Material relief assistance and services\", \"Current Dollar Amount\": 9359493188}, {\"Fiscal Year\": 2022, \"International Purpose Name\": \"Multisector aid\", \"Current Dollar Amount\": 681761730}, {\"Fiscal Year\": 2022, \"International Purpose Name\": \"Operating Expenses\", \"Current Dollar Amount\": 8206580579}, {\"Fiscal Year\": 2022, \"International Purpose Name\": \"Public sector policy and administrative management\", \"Current Dollar Amount\": 17240562345}, {\"Fiscal Year\": 2022, \"International Purpose Name\": \"Relief co-ordination; protection and support services\", \"Current Dollar Amount\": 9773111545}, {\"Fiscal Year\": 2022, \"International Purpose Name\": \"STD control including HIV/AIDS\", \"Current Dollar Amount\": 20578713429}, {\"Fiscal Year\": 2022, \"International Purpose Name\": \"Sectors not specified\", \"Current Dollar Amount\": 4755620706}, {\"Fiscal Year\": 2022, \"International Purpose Name\": \"Security system management and reform\", \"Current Dollar Amount\": 31229683810}, {\"Fiscal Year\": 2023, \"International Purpose Name\": \"Emergency food assistance\", \"Current Dollar Amount\": 8477791455}, {\"Fiscal Year\": 2023, \"International Purpose Name\": \"Legal and judicial development\", \"Current Dollar Amount\": 427701394}, {\"Fiscal Year\": 2023, \"International Purpose Name\": \"Material relief assistance and services\", \"Current Dollar Amount\": 9970641453}, {\"Fiscal Year\": 2023, \"International Purpose Name\": \"Multisector aid\", \"Current Dollar Amount\": 675195798}, {\"Fiscal Year\": 2023, \"International Purpose Name\": \"Operating Expenses\", \"Current Dollar Amount\": 6526431641}, {\"Fiscal Year\": 2023, \"International Purpose Name\": \"Public sector policy and administrative management\", \"Current Dollar Amount\": 29316850270}, {\"Fiscal Year\": 2023, \"International Purpose Name\": \"Relief co-ordination; protection and support services\", \"Current Dollar Amount\": 11110378061}, {\"Fiscal Year\": 2023, \"International Purpose Name\": \"STD control including HIV/AIDS\", \"Current Dollar Amount\": 15653025960}, {\"Fiscal Year\": 2023, \"International Purpose Name\": \"Sectors not specified\", \"Current Dollar Amount\": 4075285242}, {\"Fiscal Year\": 2023, \"International Purpose Name\": \"Security system management and reform\", \"Current Dollar Amount\": 16271583053}, {\"Fiscal Year\": 2024, \"International Purpose Name\": \"Emergency food assistance\", \"Current Dollar Amount\": 5148519076}, {\"Fiscal Year\": 2024, \"International Purpose Name\": \"Legal and judicial development\", \"Current Dollar Amount\": 362664191}, {\"Fiscal Year\": 2024, \"International Purpose Name\": \"Material relief assistance and services\", \"Current Dollar Amount\": 1358496442}, {\"Fiscal Year\": 2024, \"International Purpose Name\": \"Multisector aid\", \"Current Dollar Amount\": 595980337}, {\"Fiscal Year\": 2024, \"International Purpose Name\": \"Operating Expenses\", \"Current Dollar Amount\": 8965182281}, {\"Fiscal Year\": 2024, \"International Purpose Name\": \"Public sector policy and administrative management\", \"Current Dollar Amount\": 9548813337}, {\"Fiscal Year\": 2024, \"International Purpose Name\": \"Relief co-ordination; protection and support services\", \"Current Dollar Amount\": 12695870884}, {\"Fiscal Year\": 2024, \"International Purpose Name\": \"STD control including HIV/AIDS\", \"Current Dollar Amount\": 13290171909}, {\"Fiscal Year\": 2024, \"International Purpose Name\": \"Sectors not specified\", \"Current Dollar Amount\": 78355481}, {\"Fiscal Year\": 2024, \"International Purpose Name\": \"Security system management and reform\", \"Current Dollar Amount\": 117842368}]}}, {\"mode\": \"vega-lite\"});\n",
       "</script>"
      ],
      "text/plain": [
       "alt.Chart(...)"
      ]
     },
     "execution_count": 1,
     "metadata": {},
     "output_type": "execute_result"
    }
   ],
   "source": [
    "import pandas as pd\n",
    "import altair as alt\n",
    "\n",
    "# Load your dataset (replace 'your_data.csv' with actual file)\n",
    "aid = pd.read_csv('us_foreign_aid_complete.csv')\n",
    "\n",
    "# Clean 'Fiscal Year' column\n",
    "aid['Fiscal Year'] = pd.to_numeric(aid['Fiscal Year'], errors='coerce')\n",
    "aid = aid.dropna(subset=['Fiscal Year'])\n",
    "aid['Fiscal Year'] = aid['Fiscal Year'].astype(int)\n",
    "\n",
    "selected_columns = [\n",
    "    'Country ID', 'Country Code', 'Country Name', 'Region ID', 'Region Name', \n",
    "    'Income Group ID', 'Income Group Name', 'International Category ID', 'International Category Name',\n",
    "    'International Sector Code', 'International Sector Name', 'International Purpose Code', 'International Purpose Name',\n",
    "    'US Category ID', 'US Category Name', 'US Sector ID', 'US Sector Name', 'Foreign Assistance Objective ID',\n",
    "    'Foreign Assistance Objective Name', 'Aid Type Group ID', 'Aid Type Group Name', 'Activity ID', 'Submission ID',\n",
    "    'Activity Name', 'Activity Description', 'Activity Project Number', 'Activity Start Date', 'Activity End Date',\n",
    "    'Transaction Type ID', 'Transaction Type Name', 'Fiscal Year', 'Transaction Date', 'Current Dollar Amount', \n",
    "    'Constant Dollar Amount', 'aid_type_id', 'aid_type_name', 'activity_budget_amount', 'submission_activity_id'\n",
    "]\n",
    "\n",
    "aid2 = aid[selected_columns]\n",
    "\n",
    "# Aggregate total funding per international purpose\n",
    "aid_agg = aid2.groupby('International Purpose Name', as_index=False)['Current Dollar Amount'].sum()\n",
    "\n",
    "# Get the top 10 international purposes by total funding\n",
    "top_10_purposes = aid_agg.nlargest(10, 'Current Dollar Amount')['International Purpose Name']\n",
    "\n",
    "# Filter the original dataset for only the top 10 purposes\n",
    "aid_filter = aid[aid['International Purpose Name'].isin(top_10_purposes)]\n",
    "\n",
    "# Aggregate again per year for visualization\n",
    "aid_plot = aid_filter.groupby(['Fiscal Year', 'International Purpose Name'], as_index=False)['Current Dollar Amount'].sum()\n",
    "\n",
    "# Create the stacked bar chart\n",
    "chart = alt.Chart(aid_plot).mark_bar().encode(\n",
    "    x=alt.X('Fiscal Year:O', title='Year'),\n",
    "    y=alt.Y('sum(Current Dollar Amount):Q', title='Total Dollar Amount'),\n",
    "    color=alt.Color('International Purpose Name:N', title='Top 10 International Purposes'),\n",
    "    tooltip=['Fiscal Year', 'International Purpose Name', 'sum(Current Dollar Amount)']\n",
    ").properties(\n",
    "    title=\"Top 10 Foreign Aid Purposes by Funding per Year\",\n",
    "    width=800,\n",
    "    height=500\n",
    ").interactive()\n",
    "\n",
    "chart"
   ]
  },
  {
   "cell_type": "code",
   "execution_count": 33,
   "id": "41d7d67f-41a6-4e6f-a42b-27e5d52b147b",
   "metadata": {},
   "outputs": [
    {
     "data": {
      "text/html": [
       "\n",
       "<style>\n",
       "  #altair-viz-ff559756bcbe4bd787d05a82c9828b70.vega-embed {\n",
       "    width: 100%;\n",
       "    display: flex;\n",
       "  }\n",
       "\n",
       "  #altair-viz-ff559756bcbe4bd787d05a82c9828b70.vega-embed details,\n",
       "  #altair-viz-ff559756bcbe4bd787d05a82c9828b70.vega-embed details summary {\n",
       "    position: relative;\n",
       "  }\n",
       "</style>\n",
       "<div id=\"altair-viz-ff559756bcbe4bd787d05a82c9828b70\"></div>\n",
       "<script type=\"text/javascript\">\n",
       "  var VEGA_DEBUG = (typeof VEGA_DEBUG == \"undefined\") ? {} : VEGA_DEBUG;\n",
       "  (function(spec, embedOpt){\n",
       "    let outputDiv = document.currentScript.previousElementSibling;\n",
       "    if (outputDiv.id !== \"altair-viz-ff559756bcbe4bd787d05a82c9828b70\") {\n",
       "      outputDiv = document.getElementById(\"altair-viz-ff559756bcbe4bd787d05a82c9828b70\");\n",
       "    }\n",
       "\n",
       "    const paths = {\n",
       "      \"vega\": \"https://cdn.jsdelivr.net/npm/vega@5?noext\",\n",
       "      \"vega-lib\": \"https://cdn.jsdelivr.net/npm/vega-lib?noext\",\n",
       "      \"vega-lite\": \"https://cdn.jsdelivr.net/npm/vega-lite@5.20.1?noext\",\n",
       "      \"vega-embed\": \"https://cdn.jsdelivr.net/npm/vega-embed@6?noext\",\n",
       "    };\n",
       "\n",
       "    function maybeLoadScript(lib, version) {\n",
       "      var key = `${lib.replace(\"-\", \"\")}_version`;\n",
       "      return (VEGA_DEBUG[key] == version) ?\n",
       "        Promise.resolve(paths[lib]) :\n",
       "        new Promise(function(resolve, reject) {\n",
       "          var s = document.createElement('script');\n",
       "          document.getElementsByTagName(\"head\")[0].appendChild(s);\n",
       "          s.async = true;\n",
       "          s.onload = () => {\n",
       "            VEGA_DEBUG[key] = version;\n",
       "            return resolve(paths[lib]);\n",
       "          };\n",
       "          s.onerror = () => reject(`Error loading script: ${paths[lib]}`);\n",
       "          s.src = paths[lib];\n",
       "        });\n",
       "    }\n",
       "\n",
       "    function showError(err) {\n",
       "      outputDiv.innerHTML = `<div class=\"error\" style=\"color:red;\">${err}</div>`;\n",
       "      throw err;\n",
       "    }\n",
       "\n",
       "    function displayChart(vegaEmbed) {\n",
       "      vegaEmbed(outputDiv, spec, embedOpt)\n",
       "        .catch(err => showError(`Javascript Error: ${err.message}<br>This usually means there's a typo in your chart specification. See the javascript console for the full traceback.`));\n",
       "    }\n",
       "\n",
       "    if(typeof define === \"function\" && define.amd) {\n",
       "      requirejs.config({paths});\n",
       "      let deps = [\"vega-embed\"];\n",
       "      require(deps, displayChart, err => showError(`Error loading script: ${err.message}`));\n",
       "    } else {\n",
       "      maybeLoadScript(\"vega\", \"5\")\n",
       "        .then(() => maybeLoadScript(\"vega-lite\", \"5.20.1\"))\n",
       "        .then(() => maybeLoadScript(\"vega-embed\", \"6\"))\n",
       "        .catch(showError)\n",
       "        .then(() => displayChart(vegaEmbed));\n",
       "    }\n",
       "  })({\"config\": {\"view\": {\"continuousWidth\": 300, \"continuousHeight\": 300}}, \"data\": {\"name\": \"data-ffa486b071ab8dade315b78f704e9289\"}, \"mark\": {\"type\": \"bar\"}, \"encoding\": {\"tooltip\": [{\"field\": \"Fiscal Year\", \"type\": \"quantitative\"}, {\"field\": \"top_purpose\", \"type\": \"nominal\"}, {\"field\": \"total_funding\", \"type\": \"quantitative\"}], \"x\": {\"field\": \"Fiscal Year\", \"title\": \"Year\", \"type\": \"ordinal\"}, \"y\": {\"field\": \"total_funding\", \"title\": \"Total Dollar Amount\", \"type\": \"quantitative\"}}, \"height\": 500, \"params\": [{\"name\": \"param_31\", \"select\": {\"type\": \"interval\", \"encodings\": [\"x\"]}}, {\"name\": \"param_32\", \"select\": {\"type\": \"interval\", \"encodings\": [\"x\", \"y\"]}, \"bind\": \"scales\"}], \"title\": \"Total Foreign Aid Funding per Year with Top Purpose\", \"width\": 800, \"$schema\": \"https://vega.github.io/schema/vega-lite/v5.20.1.json\", \"datasets\": {\"data-ffa486b071ab8dade315b78f704e9289\": [{\"Fiscal Year\": 1946, \"total_funding\": 3075702000, \"top_purpose\": \"Multisector aid\"}, {\"Fiscal Year\": 1947, \"total_funding\": 6708001000, \"top_purpose\": \"Multisector aid\"}, {\"Fiscal Year\": 1948, \"total_funding\": 3179504000, \"top_purpose\": \"Multisector aid\"}, {\"Fiscal Year\": 1949, \"total_funding\": 8300704000, \"top_purpose\": \"Multisector aid\"}, {\"Fiscal Year\": 1950, \"total_funding\": 5971296000, \"top_purpose\": \"Multisector aid\"}, {\"Fiscal Year\": 1951, \"total_funding\": 7612560000, \"top_purpose\": \"Multisector aid\"}, {\"Fiscal Year\": 1952, \"total_funding\": 6813953000, \"top_purpose\": \"Multisector aid\"}, {\"Fiscal Year\": 1953, \"total_funding\": 4979870000, \"top_purpose\": \"Multisector aid\"}, {\"Fiscal Year\": 1954, \"total_funding\": 4767778000, \"top_purpose\": \"Multisector aid\"}, {\"Fiscal Year\": 1955, \"total_funding\": 4097382000, \"top_purpose\": \"Multisector aid\"}, {\"Fiscal Year\": 1956, \"total_funding\": 4847691000, \"top_purpose\": \"Multisector aid\"}, {\"Fiscal Year\": 1957, \"total_funding\": 4871415000, \"top_purpose\": \"Multisector aid\"}, {\"Fiscal Year\": 1958, \"total_funding\": 4014661000, \"top_purpose\": \"Multisector aid\"}, {\"Fiscal Year\": 1959, \"total_funding\": 5074241000, \"top_purpose\": \"Multisector aid\"}, {\"Fiscal Year\": 1960, \"total_funding\": 5218274000, \"top_purpose\": \"Multisector aid\"}, {\"Fiscal Year\": 1961, \"total_funding\": 5480911000, \"top_purpose\": \"Multisector aid\"}, {\"Fiscal Year\": 1962, \"total_funding\": 6532295000, \"top_purpose\": \"Multisector aid\"}, {\"Fiscal Year\": 1963, \"total_funding\": 6384723000, \"top_purpose\": \"Multisector aid\"}, {\"Fiscal Year\": 1964, \"total_funding\": 5265148000, \"top_purpose\": \"Multisector aid\"}, {\"Fiscal Year\": 1965, \"total_funding\": 5420680000, \"top_purpose\": \"Multisector aid\"}, {\"Fiscal Year\": 1966, \"total_funding\": 6904358000, \"top_purpose\": \"Multisector aid\"}, {\"Fiscal Year\": 1967, \"total_funding\": 6339162000, \"top_purpose\": \"Multisector aid\"}, {\"Fiscal Year\": 1968, \"total_funding\": 6757250000, \"top_purpose\": \"Multisector aid\"}, {\"Fiscal Year\": 1969, \"total_funding\": 6639256000, \"top_purpose\": \"Multisector aid\"}, {\"Fiscal Year\": 1970, \"total_funding\": 6513214000, \"top_purpose\": \"Multisector aid\"}, {\"Fiscal Year\": 1971, \"total_funding\": 7792876000, \"top_purpose\": \"Multisector aid\"}, {\"Fiscal Year\": 1972, \"total_funding\": 8986908000, \"top_purpose\": \"Multisector aid\"}, {\"Fiscal Year\": 1973, \"total_funding\": 9428685000, \"top_purpose\": \"Multisector aid\"}, {\"Fiscal Year\": 1974, \"total_funding\": 8479202000, \"top_purpose\": \"Multisector aid\"}, {\"Fiscal Year\": 1975, \"total_funding\": 6886787000, \"top_purpose\": \"Multisector aid\"}, {\"Fiscal Year\": 1976, \"total_funding\": 7006334000, \"top_purpose\": \"Multisector aid\"}, {\"Fiscal Year\": 1977, \"total_funding\": 7756101000, \"top_purpose\": \"Multisector aid\"}, {\"Fiscal Year\": 1978, \"total_funding\": 8999414000, \"top_purpose\": \"Multisector aid\"}, {\"Fiscal Year\": 1979, \"total_funding\": 13837318000, \"top_purpose\": \"Multisector aid\"}, {\"Fiscal Year\": 1980, \"total_funding\": 9681780000, \"top_purpose\": \"Multisector aid\"}, {\"Fiscal Year\": 1981, \"total_funding\": 10517411000, \"top_purpose\": \"Multisector aid\"}, {\"Fiscal Year\": 1982, \"total_funding\": 12166665000, \"top_purpose\": \"Multisector aid\"}, {\"Fiscal Year\": 1983, \"total_funding\": 13836455000, \"top_purpose\": \"Multisector aid\"}, {\"Fiscal Year\": 1984, \"total_funding\": 14864489000, \"top_purpose\": \"Multisector aid\"}, {\"Fiscal Year\": 1985, \"total_funding\": 18106876000, \"top_purpose\": \"Multisector aid\"}, {\"Fiscal Year\": 1986, \"total_funding\": 15815716000, \"top_purpose\": \"Multisector aid\"}, {\"Fiscal Year\": 1987, \"total_funding\": 13872898000, \"top_purpose\": \"Multisector aid\"}, {\"Fiscal Year\": 1988, \"total_funding\": 13963153000, \"top_purpose\": \"Multisector aid\"}, {\"Fiscal Year\": 1989, \"total_funding\": 14443414000, \"top_purpose\": \"Multisector aid\"}, {\"Fiscal Year\": 1990, \"total_funding\": 16002892763, \"top_purpose\": \"Multisector aid\"}, {\"Fiscal Year\": 1991, \"total_funding\": 16959737549, \"top_purpose\": \"Multisector aid\"}, {\"Fiscal Year\": 1992, \"total_funding\": 15725968425, \"top_purpose\": \"Food Assistance\"}, {\"Fiscal Year\": 1993, \"total_funding\": 16549513930, \"top_purpose\": \"Food Assistance\"}, {\"Fiscal Year\": 1994, \"total_funding\": 16202682387, \"top_purpose\": \"Food Assistance\"}, {\"Fiscal Year\": 1995, \"total_funding\": 15555497616, \"top_purpose\": \"Food Assistance\"}, {\"Fiscal Year\": 1996, \"total_funding\": 14457039252, \"top_purpose\": \"Food Assistance\"}, {\"Fiscal Year\": 1997, \"total_funding\": 13909513423, \"top_purpose\": \"Food Assistance\"}, {\"Fiscal Year\": 1998, \"total_funding\": 14922848713, \"top_purpose\": \"Food Assistance\"}, {\"Fiscal Year\": 1999, \"total_funding\": 18317913050, \"top_purpose\": \"Food Assistance\"}, {\"Fiscal Year\": 2000, \"total_funding\": 17106134194, \"top_purpose\": \"Food Assistance\"}, {\"Fiscal Year\": 2001, \"total_funding\": 31004828378, \"top_purpose\": \"Food Assistance\"}, {\"Fiscal Year\": 2002, \"total_funding\": 37706576981, \"top_purpose\": \"Operating Expenses\"}, {\"Fiscal Year\": 2003, \"total_funding\": 53119119141, \"top_purpose\": \"Operating Expenses\"}, {\"Fiscal Year\": 2004, \"total_funding\": 58664569658, \"top_purpose\": \"Operating Expenses\"}, {\"Fiscal Year\": 2005, \"total_funding\": 68236293453, \"top_purpose\": \"Operating Expenses\"}, {\"Fiscal Year\": 2006, \"total_funding\": 69881632936, \"top_purpose\": \"Operating Expenses\"}, {\"Fiscal Year\": 2007, \"total_funding\": 74497722506, \"top_purpose\": \"Operating Expenses\"}, {\"Fiscal Year\": 2008, \"total_funding\": 88918282074, \"top_purpose\": \"Operating Expenses\"}, {\"Fiscal Year\": 2009, \"total_funding\": 91340753081, \"top_purpose\": \"Operating Expenses\"}, {\"Fiscal Year\": 2010, \"total_funding\": 90329251874, \"top_purpose\": \"Operating Expenses\"}, {\"Fiscal Year\": 2011, \"total_funding\": 96566529976, \"top_purpose\": \"Operating Expenses\"}, {\"Fiscal Year\": 2012, \"total_funding\": 96260285040, \"top_purpose\": \"Operating Expenses\"}, {\"Fiscal Year\": 2013, \"total_funding\": 91915463166, \"top_purpose\": \"Operating Expenses\"}, {\"Fiscal Year\": 2014, \"total_funding\": 85474981564, \"top_purpose\": \"Operating Expenses\"}, {\"Fiscal Year\": 2015, \"total_funding\": 98689897282, \"top_purpose\": \"Operating Expenses\"}, {\"Fiscal Year\": 2016, \"total_funding\": 96567472252, \"top_purpose\": \"Operating Expenses\"}, {\"Fiscal Year\": 2017, \"total_funding\": 93658277032, \"top_purpose\": \"Operating Expenses\"}, {\"Fiscal Year\": 2018, \"total_funding\": 94258182402, \"top_purpose\": \"Operating Expenses\"}, {\"Fiscal Year\": 2019, \"total_funding\": 95241955093, \"top_purpose\": \"Operating Expenses\"}, {\"Fiscal Year\": 2020, \"total_funding\": 99096704873, \"top_purpose\": \"Operating Expenses\"}, {\"Fiscal Year\": 2021, \"total_funding\": 101417030775, \"top_purpose\": \"Operating Expenses\"}, {\"Fiscal Year\": 2022, \"total_funding\": 150109588130, \"top_purpose\": \"Operating Expenses\"}, {\"Fiscal Year\": 2023, \"total_funding\": 140128685701, \"top_purpose\": \"Operating Expenses\"}, {\"Fiscal Year\": 2024, \"total_funding\": 79309172088, \"top_purpose\": \"Operating Expenses\"}]}}, {\"mode\": \"vega-lite\"});\n",
       "</script>"
      ],
      "text/plain": [
       "alt.Chart(...)"
      ]
     },
     "execution_count": 33,
     "metadata": {},
     "output_type": "execute_result"
    }
   ],
   "source": [
    "# Aggregate total funding per year\n",
    "aid_plot = aid2.groupby(['Fiscal Year'], as_index=False).agg(\n",
    "    total_funding=('Current Dollar Amount', 'sum'),\n",
    "    top_purpose=('International Purpose Name', lambda x: x.value_counts().idxmax())\n",
    ")\n",
    "\n",
    "year_range = alt.selection_interval(encodings=['x'])  # Select range on x-axis\n",
    "\n",
    "# Create the bar chart\n",
    "chart = alt.Chart(aid_plot).mark_bar().encode(\n",
    "    x=alt.X('Fiscal Year:O', title='Year'),\n",
    "    y=alt.Y('total_funding:Q', title='Total Dollar Amount'),\n",
    "    tooltip=['Fiscal Year', 'top_purpose', 'total_funding']\n",
    ").add_params(\n",
    "    year_range\n",
    ").properties(\n",
    "    title=\"Total Foreign Aid Funding per Year with Top Purpose\",\n",
    "    width=800,\n",
    "    height=500\n",
    ").interactive()\n",
    "\n",
    "chart"
   ]
  },
  {
   "cell_type": "code",
   "execution_count": 73,
   "id": "4ef5209f-9450-45e7-bbe0-9d4da124ba04",
   "metadata": {},
   "outputs": [
    {
     "data": {
      "text/html": [
       "\n",
       "<style>\n",
       "  #altair-viz-bcf91fb230d04e5897b51a7d819760b9.vega-embed {\n",
       "    width: 100%;\n",
       "    display: flex;\n",
       "  }\n",
       "\n",
       "  #altair-viz-bcf91fb230d04e5897b51a7d819760b9.vega-embed details,\n",
       "  #altair-viz-bcf91fb230d04e5897b51a7d819760b9.vega-embed details summary {\n",
       "    position: relative;\n",
       "  }\n",
       "</style>\n",
       "<div id=\"altair-viz-bcf91fb230d04e5897b51a7d819760b9\"></div>\n",
       "<script type=\"text/javascript\">\n",
       "  var VEGA_DEBUG = (typeof VEGA_DEBUG == \"undefined\") ? {} : VEGA_DEBUG;\n",
       "  (function(spec, embedOpt){\n",
       "    let outputDiv = document.currentScript.previousElementSibling;\n",
       "    if (outputDiv.id !== \"altair-viz-bcf91fb230d04e5897b51a7d819760b9\") {\n",
       "      outputDiv = document.getElementById(\"altair-viz-bcf91fb230d04e5897b51a7d819760b9\");\n",
       "    }\n",
       "\n",
       "    const paths = {\n",
       "      \"vega\": \"https://cdn.jsdelivr.net/npm/vega@5?noext\",\n",
       "      \"vega-lib\": \"https://cdn.jsdelivr.net/npm/vega-lib?noext\",\n",
       "      \"vega-lite\": \"https://cdn.jsdelivr.net/npm/vega-lite@5.20.1?noext\",\n",
       "      \"vega-embed\": \"https://cdn.jsdelivr.net/npm/vega-embed@6?noext\",\n",
       "    };\n",
       "\n",
       "    function maybeLoadScript(lib, version) {\n",
       "      var key = `${lib.replace(\"-\", \"\")}_version`;\n",
       "      return (VEGA_DEBUG[key] == version) ?\n",
       "        Promise.resolve(paths[lib]) :\n",
       "        new Promise(function(resolve, reject) {\n",
       "          var s = document.createElement('script');\n",
       "          document.getElementsByTagName(\"head\")[0].appendChild(s);\n",
       "          s.async = true;\n",
       "          s.onload = () => {\n",
       "            VEGA_DEBUG[key] = version;\n",
       "            return resolve(paths[lib]);\n",
       "          };\n",
       "          s.onerror = () => reject(`Error loading script: ${paths[lib]}`);\n",
       "          s.src = paths[lib];\n",
       "        });\n",
       "    }\n",
       "\n",
       "    function showError(err) {\n",
       "      outputDiv.innerHTML = `<div class=\"error\" style=\"color:red;\">${err}</div>`;\n",
       "      throw err;\n",
       "    }\n",
       "\n",
       "    function displayChart(vegaEmbed) {\n",
       "      vegaEmbed(outputDiv, spec, embedOpt)\n",
       "        .catch(err => showError(`Javascript Error: ${err.message}<br>This usually means there's a typo in your chart specification. See the javascript console for the full traceback.`));\n",
       "    }\n",
       "\n",
       "    if(typeof define === \"function\" && define.amd) {\n",
       "      requirejs.config({paths});\n",
       "      let deps = [\"vega-embed\"];\n",
       "      require(deps, displayChart, err => showError(`Error loading script: ${err.message}`));\n",
       "    } else {\n",
       "      maybeLoadScript(\"vega\", \"5\")\n",
       "        .then(() => maybeLoadScript(\"vega-lite\", \"5.20.1\"))\n",
       "        .then(() => maybeLoadScript(\"vega-embed\", \"6\"))\n",
       "        .catch(showError)\n",
       "        .then(() => displayChart(vegaEmbed));\n",
       "    }\n",
       "  })({\"config\": {\"view\": {\"continuousWidth\": 300, \"continuousHeight\": 300, \"fill\": \"beige\", \"stroke\": null}, \"axis\": {\"domainColor\": \"black\", \"gridColor\": \"lightgray\"}}, \"data\": {\"name\": \"data-ffa486b071ab8dade315b78f704e9289\"}, \"mark\": {\"type\": \"bar\", \"color\": \"saddlebrown\"}, \"encoding\": {\"tooltip\": [{\"field\": \"Fiscal Year\", \"type\": \"quantitative\"}, {\"field\": \"top_purpose\", \"type\": \"nominal\"}, {\"field\": \"total_funding\", \"type\": \"quantitative\"}], \"x\": {\"field\": \"Fiscal Year\", \"title\": \"Year\", \"type\": \"ordinal\"}, \"y\": {\"field\": \"total_funding\", \"title\": \"Total Funding\", \"type\": \"quantitative\"}}, \"height\": 500, \"params\": [{\"name\": \"year_start\", \"bind\": {\"input\": \"number\", \"name\": \"Start Year:\"}, \"value\": 1946}, {\"name\": \"year_end\", \"bind\": {\"input\": \"number\", \"name\": \"End Year:\"}, \"value\": 2025}], \"title\": \"Total Global Aid Adminstered by Year\", \"transform\": [{\"filter\": \"((datum['Fiscal Year'] >= year_start) && (datum['Fiscal Year'] <= year_end))\"}], \"width\": 800, \"$schema\": \"https://vega.github.io/schema/vega-lite/v5.20.1.json\", \"datasets\": {\"data-ffa486b071ab8dade315b78f704e9289\": [{\"Fiscal Year\": 1946, \"total_funding\": 3075702000, \"top_purpose\": \"Multisector aid\"}, {\"Fiscal Year\": 1947, \"total_funding\": 6708001000, \"top_purpose\": \"Multisector aid\"}, {\"Fiscal Year\": 1948, \"total_funding\": 3179504000, \"top_purpose\": \"Multisector aid\"}, {\"Fiscal Year\": 1949, \"total_funding\": 8300704000, \"top_purpose\": \"Multisector aid\"}, {\"Fiscal Year\": 1950, \"total_funding\": 5971296000, \"top_purpose\": \"Multisector aid\"}, {\"Fiscal Year\": 1951, \"total_funding\": 7612560000, \"top_purpose\": \"Multisector aid\"}, {\"Fiscal Year\": 1952, \"total_funding\": 6813953000, \"top_purpose\": \"Multisector aid\"}, {\"Fiscal Year\": 1953, \"total_funding\": 4979870000, \"top_purpose\": \"Multisector aid\"}, {\"Fiscal Year\": 1954, \"total_funding\": 4767778000, \"top_purpose\": \"Multisector aid\"}, {\"Fiscal Year\": 1955, \"total_funding\": 4097382000, \"top_purpose\": \"Multisector aid\"}, {\"Fiscal Year\": 1956, \"total_funding\": 4847691000, \"top_purpose\": \"Multisector aid\"}, {\"Fiscal Year\": 1957, \"total_funding\": 4871415000, \"top_purpose\": \"Multisector aid\"}, {\"Fiscal Year\": 1958, \"total_funding\": 4014661000, \"top_purpose\": \"Multisector aid\"}, {\"Fiscal Year\": 1959, \"total_funding\": 5074241000, \"top_purpose\": \"Multisector aid\"}, {\"Fiscal Year\": 1960, \"total_funding\": 5218274000, \"top_purpose\": \"Multisector aid\"}, {\"Fiscal Year\": 1961, \"total_funding\": 5480911000, \"top_purpose\": \"Multisector aid\"}, {\"Fiscal Year\": 1962, \"total_funding\": 6532295000, \"top_purpose\": \"Multisector aid\"}, {\"Fiscal Year\": 1963, \"total_funding\": 6384723000, \"top_purpose\": \"Multisector aid\"}, {\"Fiscal Year\": 1964, \"total_funding\": 5265148000, \"top_purpose\": \"Multisector aid\"}, {\"Fiscal Year\": 1965, \"total_funding\": 5420680000, \"top_purpose\": \"Multisector aid\"}, {\"Fiscal Year\": 1966, \"total_funding\": 6904358000, \"top_purpose\": \"Multisector aid\"}, {\"Fiscal Year\": 1967, \"total_funding\": 6339162000, \"top_purpose\": \"Multisector aid\"}, {\"Fiscal Year\": 1968, \"total_funding\": 6757250000, \"top_purpose\": \"Multisector aid\"}, {\"Fiscal Year\": 1969, \"total_funding\": 6639256000, \"top_purpose\": \"Multisector aid\"}, {\"Fiscal Year\": 1970, \"total_funding\": 6513214000, \"top_purpose\": \"Multisector aid\"}, {\"Fiscal Year\": 1971, \"total_funding\": 7792876000, \"top_purpose\": \"Multisector aid\"}, {\"Fiscal Year\": 1972, \"total_funding\": 8986908000, \"top_purpose\": \"Multisector aid\"}, {\"Fiscal Year\": 1973, \"total_funding\": 9428685000, \"top_purpose\": \"Multisector aid\"}, {\"Fiscal Year\": 1974, \"total_funding\": 8479202000, \"top_purpose\": \"Multisector aid\"}, {\"Fiscal Year\": 1975, \"total_funding\": 6886787000, \"top_purpose\": \"Multisector aid\"}, {\"Fiscal Year\": 1976, \"total_funding\": 7006334000, \"top_purpose\": \"Multisector aid\"}, {\"Fiscal Year\": 1977, \"total_funding\": 7756101000, \"top_purpose\": \"Multisector aid\"}, {\"Fiscal Year\": 1978, \"total_funding\": 8999414000, \"top_purpose\": \"Multisector aid\"}, {\"Fiscal Year\": 1979, \"total_funding\": 13837318000, \"top_purpose\": \"Multisector aid\"}, {\"Fiscal Year\": 1980, \"total_funding\": 9681780000, \"top_purpose\": \"Multisector aid\"}, {\"Fiscal Year\": 1981, \"total_funding\": 10517411000, \"top_purpose\": \"Multisector aid\"}, {\"Fiscal Year\": 1982, \"total_funding\": 12166665000, \"top_purpose\": \"Multisector aid\"}, {\"Fiscal Year\": 1983, \"total_funding\": 13836455000, \"top_purpose\": \"Multisector aid\"}, {\"Fiscal Year\": 1984, \"total_funding\": 14864489000, \"top_purpose\": \"Multisector aid\"}, {\"Fiscal Year\": 1985, \"total_funding\": 18106876000, \"top_purpose\": \"Multisector aid\"}, {\"Fiscal Year\": 1986, \"total_funding\": 15815716000, \"top_purpose\": \"Multisector aid\"}, {\"Fiscal Year\": 1987, \"total_funding\": 13872898000, \"top_purpose\": \"Multisector aid\"}, {\"Fiscal Year\": 1988, \"total_funding\": 13963153000, \"top_purpose\": \"Multisector aid\"}, {\"Fiscal Year\": 1989, \"total_funding\": 14443414000, \"top_purpose\": \"Multisector aid\"}, {\"Fiscal Year\": 1990, \"total_funding\": 16002892763, \"top_purpose\": \"Multisector aid\"}, {\"Fiscal Year\": 1991, \"total_funding\": 16959737549, \"top_purpose\": \"Multisector aid\"}, {\"Fiscal Year\": 1992, \"total_funding\": 15725968425, \"top_purpose\": \"Food Assistance\"}, {\"Fiscal Year\": 1993, \"total_funding\": 16549513930, \"top_purpose\": \"Food Assistance\"}, {\"Fiscal Year\": 1994, \"total_funding\": 16202682387, \"top_purpose\": \"Food Assistance\"}, {\"Fiscal Year\": 1995, \"total_funding\": 15555497616, \"top_purpose\": \"Food Assistance\"}, {\"Fiscal Year\": 1996, \"total_funding\": 14457039252, \"top_purpose\": \"Food Assistance\"}, {\"Fiscal Year\": 1997, \"total_funding\": 13909513423, \"top_purpose\": \"Food Assistance\"}, {\"Fiscal Year\": 1998, \"total_funding\": 14922848713, \"top_purpose\": \"Food Assistance\"}, {\"Fiscal Year\": 1999, \"total_funding\": 18317913050, \"top_purpose\": \"Food Assistance\"}, {\"Fiscal Year\": 2000, \"total_funding\": 17106134194, \"top_purpose\": \"Food Assistance\"}, {\"Fiscal Year\": 2001, \"total_funding\": 31004828378, \"top_purpose\": \"Food Assistance\"}, {\"Fiscal Year\": 2002, \"total_funding\": 37706576981, \"top_purpose\": \"Operating Expenses\"}, {\"Fiscal Year\": 2003, \"total_funding\": 53119119141, \"top_purpose\": \"Operating Expenses\"}, {\"Fiscal Year\": 2004, \"total_funding\": 58664569658, \"top_purpose\": \"Operating Expenses\"}, {\"Fiscal Year\": 2005, \"total_funding\": 68236293453, \"top_purpose\": \"Operating Expenses\"}, {\"Fiscal Year\": 2006, \"total_funding\": 69881632936, \"top_purpose\": \"Operating Expenses\"}, {\"Fiscal Year\": 2007, \"total_funding\": 74497722506, \"top_purpose\": \"Operating Expenses\"}, {\"Fiscal Year\": 2008, \"total_funding\": 88918282074, \"top_purpose\": \"Operating Expenses\"}, {\"Fiscal Year\": 2009, \"total_funding\": 91340753081, \"top_purpose\": \"Operating Expenses\"}, {\"Fiscal Year\": 2010, \"total_funding\": 90329251874, \"top_purpose\": \"Operating Expenses\"}, {\"Fiscal Year\": 2011, \"total_funding\": 96566529976, \"top_purpose\": \"Operating Expenses\"}, {\"Fiscal Year\": 2012, \"total_funding\": 96260285040, \"top_purpose\": \"Operating Expenses\"}, {\"Fiscal Year\": 2013, \"total_funding\": 91915463166, \"top_purpose\": \"Operating Expenses\"}, {\"Fiscal Year\": 2014, \"total_funding\": 85474981564, \"top_purpose\": \"Operating Expenses\"}, {\"Fiscal Year\": 2015, \"total_funding\": 98689897282, \"top_purpose\": \"Operating Expenses\"}, {\"Fiscal Year\": 2016, \"total_funding\": 96567472252, \"top_purpose\": \"Operating Expenses\"}, {\"Fiscal Year\": 2017, \"total_funding\": 93658277032, \"top_purpose\": \"Operating Expenses\"}, {\"Fiscal Year\": 2018, \"total_funding\": 94258182402, \"top_purpose\": \"Operating Expenses\"}, {\"Fiscal Year\": 2019, \"total_funding\": 95241955093, \"top_purpose\": \"Operating Expenses\"}, {\"Fiscal Year\": 2020, \"total_funding\": 99096704873, \"top_purpose\": \"Operating Expenses\"}, {\"Fiscal Year\": 2021, \"total_funding\": 101417030775, \"top_purpose\": \"Operating Expenses\"}, {\"Fiscal Year\": 2022, \"total_funding\": 150109588130, \"top_purpose\": \"Operating Expenses\"}, {\"Fiscal Year\": 2023, \"total_funding\": 140128685701, \"top_purpose\": \"Operating Expenses\"}, {\"Fiscal Year\": 2024, \"total_funding\": 79309172088, \"top_purpose\": \"Operating Expenses\"}]}}, {\"mode\": \"vega-lite\"});\n",
       "</script>"
      ],
      "text/plain": [
       "alt.Chart(...)"
      ]
     },
     "execution_count": 73,
     "metadata": {},
     "output_type": "execute_result"
    }
   ],
   "source": [
    "import altair as alt\n",
    "import pandas as pd\n",
    "\n",
    "# Convert year to integer\n",
    "aid_plot['Fiscal Year'] = aid_plot['Fiscal Year'].astype(int)\n",
    "\n",
    "# 1️⃣ Create numeric input fields for start and end year\n",
    "year_start = alt.param(\n",
    "    name=\"year_start\", value=1946, bind=alt.binding(input=\"number\", name=\"Start Year:\")\n",
    ")\n",
    "year_end = alt.param(\n",
    "    name=\"year_end\", value=2025, bind=alt.binding(input=\"number\", name=\"End Year:\")\n",
    ")\n",
    "\n",
    "# 2️⃣ Base chart with input parameters\n",
    "base = alt.Chart(aid_plot).add_params(year_start, year_end)\n",
    "\n",
    "# 3️⃣ Main chart that updates dynamically based on input fields\n",
    "main_chart = base.mark_bar(color=\"saddlebrown\").encode(\n",
    "    x=alt.X('Fiscal Year:O', title='Year'),\n",
    "    y=alt.Y('total_funding:Q', title='Total Funding'),\n",
    "    tooltip=['Fiscal Year', 'top_purpose', 'total_funding']\n",
    ").transform_filter(\n",
    "    (alt.datum[\"Fiscal Year\"] >= year_start) & (alt.datum[\"Fiscal Year\"] <= year_end)\n",
    ").properties(\n",
    "    width=500,\n",
    "    height=400,\n",
    "    title=\"Total Global Aid Adminstered by Year\"\n",
    ").configure_view(\n",
    "    stroke=None,  # Remove border\n",
    "    fill='beige'\n",
    ").configure_axis(\n",
    "    domainColor=\"black\",  # Make axis lines visible\n",
    "    gridColor=\"lightgray\"  # Light gray gridlines for better visibility\n",
    ")\n",
    "\n",
    "main_chart.save('Total USAID by Year (interactive).html')\n",
    "\n",
    "main_chart"
   ]
  },
  {
   "cell_type": "code",
   "execution_count": 74,
   "id": "8a31ad10-1def-4e22-9a12-a31be96a0938",
   "metadata": {},
   "outputs": [
    {
     "data": {
      "application/vnd.plotly.v1+json": {
       "config": {
        "plotlyServerURL": "https://plot.ly"
       },
       "data": [
        {
         "coloraxis": "coloraxis",
         "customdata": [
          [
           "Operating Expenses",
           237395159786
          ],
          [
           "Operating Expenses",
           2188310104
          ],
          [
           "Emergency food assistance",
           635824050
          ],
          [
           "Operating Expenses",
           4104775792
          ],
          [
           "Environmental policy and administrative management",
           183793
          ],
          [
           "Security system management and reform",
           56882589
          ],
          [
           "Public finance management",
           862782395
          ],
          [
           "Operating Expenses",
           4096061259
          ],
          [
           "Narcotics control",
           1795731
          ],
          [
           "Operating Expenses",
           10635212925
          ],
          [
           "Multisector aid",
           1147857796
          ],
          [
           "Security system management and reform",
           136430438
          ],
          [
           "Multisector aid",
           1326528549
          ],
          [
           "Operating Expenses",
           2173633432
          ],
          [
           "Operating Expenses",
           362313971
          ],
          [
           "Security system management and reform",
           1055570529
          ],
          [
           "Operating Expenses",
           16870874134
          ],
          [
           "Health policy and administrative management",
           132829751
          ],
          [
           "Democratic participation and civil society",
           1075869780
          ],
          [
           "Multisector aid",
           2050591325
          ],
          [
           "Security system management and reform",
           516106505
          ],
          [
           "Operating Expenses",
           3917629255
          ],
          [
           "Fishing policy and administrative management",
           160456
          ],
          [
           "Multi-hazard response preparedness",
           32099467
          ],
          [
           "Food Assistance",
           6519358800
          ],
          [
           "Operating Expenses",
           4357693313
          ],
          [
           "STD control including HIV/AIDS",
           3330452133
          ],
          [
           "Operating Expenses",
           5095275974
          ],
          [
           "Agricultural education/training",
           32298
          ],
          [
           "Narcotics control",
           32000
          ],
          [
           "Security system management and reform",
           1612445
          ],
          [
           "Operating Expenses",
           2262051412
          ],
          [
           "Operating Expenses",
           5161062999
          ],
          [
           "Operating Expenses",
           5012240840
          ],
          [
           "Operating Expenses",
           3177879344
          ],
          [
           "Sectors not specified",
           718656048
          ],
          [
           "Operating Expenses",
           6902680096
          ],
          [
           "STD control including HIV/AIDS",
           3987398603
          ],
          [
           "Environmental policy and administrative management",
           798047165
          ],
          [
           "STD control including HIV/AIDS",
           2913461966
          ],
          [
           "Bio-diversity",
           1126000
          ],
          [
           "Relief co-ordination; protection and support services",
           2912895959
          ],
          [
           "Operating Expenses",
           6224692892
          ],
          [
           "Immediate post-emergency reconstruction and rehabilitation",
           554225603
          ],
          [
           "Multisector aid",
           562405348
          ],
          [
           "Material relief assistance and services",
           5173496790
          ],
          [
           "Multisector aid",
           1775114692
          ],
          [
           "Human rights",
           63116059
          ],
          [
           "Disarmament of Weapons of Mass Destruction (WMD)",
           538150
          ],
          [
           "Administration and Oversight",
           1947538438
          ],
          [
           "Democratic participation and civil society",
           19650012
          ],
          [
           "Operating Expenses",
           32047112042
          ],
          [
           "Primary education",
           68423383
          ],
          [
           "Bio-diversity",
           502970413
          ],
          [
           "Operating Expenses",
           22307044460
          ],
          [
           "Bio-diversity",
           90000
          ],
          [
           "Operating Expenses",
           2627118282
          ],
          [
           "STD control including HIV/AIDS",
           5730566767
          ],
          [
           "Operating Expenses",
           1290425579
          ],
          [
           "Democratic participation and civil society",
           574563944
          ],
          [
           "Material relief assistance and services",
           89079717
          ],
          [
           "Operating Expenses",
           716822785
          ],
          [
           "Security system management and reform",
           1269800145
          ],
          [
           "Multisector aid",
           923029944
          ],
          [
           "Operating Expenses",
           1150724654
          ],
          [
           "Security system management and reform",
           47880530
          ],
          [
           "Operating Expenses",
           4617905896
          ],
          [
           "Operating Expenses",
           1659111472
          ],
          [
           "Agricultural policy and administrative management",
           4506598
          ],
          [
           "Administration and Oversight",
           2576441507
          ],
          [
           "Operating Expenses",
           3002663300
          ],
          [
           "Operating Expenses",
           5586355980
          ],
          [
           "Operating Expenses",
           132528260
          ],
          [
           "Operating Expenses",
           4596358106
          ],
          [
           "Operating Expenses",
           123955581726
          ],
          [
           "Operating Expenses",
           10516027354
          ],
          [
           "Bio-diversity",
           40090410
          ],
          [
           "Emergency food assistance",
           894147877
          ],
          [
           "Public finance management",
           1140870289
          ],
          [
           "STD control including HIV/AIDS",
           1879267272
          ],
          [
           "Operating Expenses",
           41905545663
          ],
          [
           "Operating Expenses",
           4293505625
          ],
          [
           "Disarmament of Weapons of Mass Destruction (WMD)",
           5189861251
          ],
          [
           "Multisector aid",
           7786830361
          ],
          [
           "Operating Expenses",
           140353362
          ],
          [
           "Security system management and reform",
           57749376
          ],
          [
           "Multisector aid",
           8487676582
          ],
          [
           "Material relief assistance and services",
           135374
          ],
          [
           "Bio-diversity",
           29000
          ],
          [
           "Bio-diversity",
           229427174
          ],
          [
           "Public finance management",
           523519127
          ],
          [
           "Operating Expenses",
           8997172285
          ],
          [
           "Multisector aid",
           5042090028
          ],
          [
           "Operating Expenses",
           9178881540
          ],
          [
           "Security system management and reform",
           11614169005
          ],
          [
           "Energy policy and administrative management",
           16166211
          ],
          [
           "Security system management and reform",
           96138079
          ],
          [
           "Operating Expenses",
           9319192385
          ],
          [
           "Operating Expenses",
           3110483999
          ],
          [
           "School feeding",
           308985993
          ],
          [
           "STD control including HIV/AIDS",
           863171618
          ],
          [
           "Operating Expenses",
           17747711107
          ],
          [
           "Operating Expenses",
           7985409666
          ],
          [
           "Operating Expenses",
           738143521
          ],
          [
           "Multisector aid",
           85076107
          ],
          [
           "Operating Expenses",
           21282268272
          ],
          [
           "Operating Expenses",
           17300628990
          ],
          [
           "Multisector aid",
           2260122463
          ],
          [
           "Operating Expenses",
           138122566400
          ],
          [
           "Civilian peace-building, conflict prevention and resolution",
           953783767
          ],
          [
           "Security system management and reform",
           217753389514
          ],
          [
           "Multisector aid",
           6023056376
          ],
          [
           "Operating Expenses",
           3253560857
          ],
          [
           "Operating Expenses",
           4167536848
          ],
          [
           "Operating Expenses",
           57435685622
          ],
          [
           "Operating Expenses",
           4791710729
          ],
          [
           "STD control including HIV/AIDS",
           31837628726
          ],
          [
           "Sectors not specified",
           53480518
          ],
          [
           "Emergency food assistance",
           1160121044
          ],
          [
           "Multisector aid",
           14994737657
          ],
          [
           "Operating Expenses",
           2623109987
          ],
          [
           "Multisector aid",
           50833901
          ],
          [
           "Operating Expenses",
           3209921531
          ],
          [
           "Operating Expenses",
           4152782580
          ],
          [
           "Multisector aid",
           1883655133
          ],
          [
           "Multisector aid",
           11201370361
          ],
          [
           "Public finance management",
           1016986209
          ],
          [
           "Operating Expenses",
           14978275102
          ],
          [
           "STD control including HIV/AIDS",
           3332801715
          ],
          [
           "Operating Expenses",
           10192745294
          ],
          [
           "Operating Expenses",
           2262710690
          ],
          [
           "Security system management and reform",
           1312547214
          ],
          [
           "Agricultural education/training",
           66484
          ],
          [
           "Operating Expenses",
           5184229761
          ],
          [
           "STD control including HIV/AIDS",
           11548723546
          ],
          [
           "Operating Expenses",
           1272202349
          ],
          [
           "Domestic revenue mobilisation",
           150933840
          ],
          [
           "Operating Expenses",
           9184877046
          ],
          [
           "Security system management and reform",
           158274121
          ],
          [
           "General budget support-related aid",
           3854505753
          ],
          [
           "Narcotics control",
           338000
          ],
          [
           "Food Assistance",
           1353959741
          ],
          [
           "Multisector aid",
           132116395
          ],
          [
           "Operating Expenses",
           11870564280
          ],
          [
           "General budget support-related aid",
           6247582756
          ],
          [
           "Operating Expenses",
           10074630392
          ],
          [
           "Multisector aid",
           20166815582
          ],
          [
           "Operating Expenses",
           3603534992
          ],
          [
           "Operating Expenses",
           2382058082
          ],
          [
           "Multisector aid",
           929603746
          ],
          [
           "Agricultural education/training",
           23220
          ],
          [
           "Operating Expenses",
           8429490026
          ],
          [
           "STD control including HIV/AIDS",
           18782713233
          ],
          [
           "STD control including HIV/AIDS",
           3797894501
          ],
          [
           "Security system management and reform",
           415362
          ],
          [
           "Operating Expenses",
           6611803489
          ],
          [
           "Multisector aid",
           2322407142
          ],
          [
           "Narcotics control",
           357154000
          ],
          [
           "Infectious disease control",
           1068716
          ],
          [
           "Material relief assistance and services",
           16857264
          ],
          [
           "Operating Expenses",
           4093925783
          ],
          [
           "Operating Expenses",
           6788626901
          ],
          [
           "STD control including HIV/AIDS",
           25541013604
          ],
          [
           "Countering violent extremism",
           311345792
          ],
          [
           "Environmental policy and administrative management",
           39577522
          ],
          [
           "Operating Expenses",
           2306025548
          ],
          [
           "Operating Expenses",
           184127663
          ],
          [
           "Multisector aid",
           1246934629
          ],
          [
           "Operating Expenses",
           1882472438
          ],
          [
           "Operating Expenses",
           1308920674
          ],
          [
           "Reproductive health care",
           8450114
          ],
          [
           "Operating Expenses",
           48293912624
          ],
          [
           "Operating Expenses",
           1236274293
          ],
          [
           "Operating Expenses",
           2488116529
          ],
          [
           "Operating Expenses",
           496984757
          ],
          [
           "Operating Expenses",
           1376788581
          ],
          [
           "Operating Expenses",
           11478667832
          ],
          [
           "Operating Expenses",
           19303582661
          ],
          [
           "Multisector aid",
           9437492183
          ],
          [
           "Security system management and reform",
           3046943451
          ],
          [
           "Operating Expenses",
           23096949
          ],
          [
           "Business Policy and Administation",
           2677655748
          ],
          [
           "Democratic participation and civil society",
           29600099626
          ],
          [
           "Operating Expenses",
           7736032245
          ],
          [
           "Primary education",
           84436515
          ],
          [
           "Multisector aid",
           57483164
          ],
          [
           "Operating Expenses",
           372686552
          ],
          [
           "Operating Expenses",
           8546420603
          ],
          [
           "Operating Expenses",
           2646909755
          ],
          [
           "Material relief assistance and services",
           3403656561
          ],
          [
           "Public finance management",
           69824147
          ],
          [
           "Operating Expenses",
           2739774088
          ],
          [
           "Disarmament of Weapons of Mass Destruction (WMD)",
           63838995
          ],
          [
           "Security system management and reform",
           914033014
          ],
          [
           "Security system management and reform",
           286763296
          ],
          [
           "Operating Expenses",
           157188044
          ],
          [
           "Operating Expenses",
           19758101885
          ],
          [
           "STD control including HIV/AIDS",
           21157721202
          ],
          [
           "Bio-diversity",
           705431986
          ],
          [
           "Public finance management",
           436838849
          ],
          [
           "Operating Expenses",
           20256293059
          ],
          [
           "Multisector aid",
           3938227801
          ],
          [
           "STD control including HIV/AIDS",
           2788569545
          ],
          [
           "Material relief assistance and services",
           1934729600
          ],
          [
           "Multisector aid",
           4684914399
          ],
          [
           "Operating Expenses",
           4341955964
          ],
          [
           "Public finance management",
           28054753
          ],
          [
           "Security system management and reform",
           26097381
          ],
          [
           "Public finance management",
           36194162
          ],
          [
           "Operating Expenses",
           39018354068
          ],
          [
           "Operating Expenses",
           9131717594
          ],
          [
           "Material relief assistance and services",
           18047427310
          ],
          [
           "Security system management and reform",
           92909715
          ],
          [
           "Disarmament of Weapons of Mass Destruction (WMD)",
           116305620
          ],
          [
           "Security system management and reform",
           2069080
          ],
          [
           "Relief co-ordination; protection and support services",
           18875311985
          ],
          [
           "Multisector aid",
           7123706388
          ],
          [
           "Operating Expenses",
           2942705967
          ],
          [
           "STD control including HIV/AIDS",
           20460988129
          ],
          [
           "Operating Expenses",
           6439582300
          ],
          [
           "Operating Expenses",
           1477566986
          ],
          [
           "Multisector aid",
           699382929
          ],
          [
           "Primary education",
           85691086
          ],
          [
           "Health policy and administrative management",
           150458144
          ],
          [
           "Operating Expenses",
           6506015309
          ],
          [
           "Material relief assistance and services",
           21303255319
          ],
          [
           "Administration and Oversight",
           578704194
          ],
          [
           "Legal and judicial development",
           1233000
          ],
          [
           "Security system management and reform",
           1314956
          ],
          [
           "STD control including HIV/AIDS",
           22939325139
          ],
          [
           "Operating Expenses",
           94821354124
          ],
          [
           "Multisector aid",
           49180398
          ],
          [
           "Multisector aid",
           8853382897
          ],
          [
           "Multisector aid",
           422417617
          ],
          [
           "Operating Expenses",
           2455465510
          ],
          [
           "Basic health care",
           272031359
          ],
          [
           "Democratic participation and civil society",
           2645181940
          ],
          [
           "Operating Expenses",
           5594102756
          ],
          [
           "Operating Expenses",
           5402194695
          ],
          [
           "Operating Expenses",
           17263959969
          ],
          [
           "Multisector aid",
           1096635414
          ],
          [
           "Multisector aid",
           2299644060
          ],
          [
           "Operating Expenses",
           513223313524
          ],
          [
           "Operating Expenses",
           16772390780
          ],
          [
           "Security system management and reform",
           3474887
          ],
          [
           "STD control including HIV/AIDS",
           14713073476
          ],
          [
           "Operating Expenses",
           9754026812
          ]
         ],
         "geo": "geo",
         "hovertemplate": "<b>%{hovertext}</b><br><br>Country Code=%{location}<br>top_purpose=%{customdata[0]}<br>total_funding=%{z}<extra></extra>",
         "hovertext": [
          "Afghanistan",
          "Albania",
          "Algeria",
          "Angola",
          "Anguilla",
          "Antigua and Barbuda",
          "Argentina",
          "Armenia",
          "Aruba",
          "Asia Region",
          "Asia, Middle East and North Africa Region",
          "Australia",
          "Austria",
          "Azerbaijan",
          "Bahamas",
          "Bahrain",
          "Bangladesh",
          "Barbados",
          "Belarus",
          "Belgium",
          "Belize",
          "Benin",
          "Bermuda",
          "Bhutan",
          "Bolivia",
          "Bosnia and Herzegovina",
          "Botswana",
          "Brazil",
          "British Indian Ocean Territory",
          "British Virgin Islands",
          "Brunei",
          "Bulgaria",
          "Burkina Faso",
          "Burma (Myanmar)",
          "Burundi",
          "Cabo Verde",
          "Cambodia",
          "Cameroon",
          "Canada",
          "Caribbean Region",
          "Cayman Islands",
          "Central African Republic",
          "Central America Region",
          "Central America and Caribbean Region",
          "Central and Eastern Europe Region",
          "Chad",
          "Chile",
          "China (Hong Kong, S.A.R., P.R.C.)",
          "China (Macau, S.A.R., P.R.C.)",
          "China (P.R.C.)",
          "China (Tibet)",
          "Colombia",
          "Comoros",
          "Congo (Brazzaville)",
          "Congo (Kinshasa)",
          "Cook Islands",
          "Costa Rica",
          "Cote d'Ivoire",
          "Croatia",
          "Cuba",
          "Curacao",
          "Cyprus",
          "Czechia",
          "Denmark",
          "Djibouti",
          "Dominica",
          "Dominican Republic",
          "East Asia and Oceania Region",
          "East and South Africa Region",
          "Eastern Africa Region",
          "Eastern Asia Region",
          "Eastern Europe Region",
          "Eastern and Central Africa Region",
          "Ecuador",
          "Egypt",
          "El Salvador",
          "Equatorial Guinea",
          "Eritrea",
          "Estonia",
          "Eswatini",
          "Ethiopia",
          "Eurasia Region",
          "Europe Region",
          "Europe and Eurasia Region",
          "Fiji",
          "Finland",
          "France",
          "French Guiana",
          "French Polynesia",
          "Gabon",
          "Gambia",
          "Georgia",
          "Germany",
          "Ghana",
          "Greece",
          "Greenland",
          "Grenada",
          "Guatemala",
          "Guinea",
          "Guinea-Bissau",
          "Guyana",
          "Haiti",
          "Honduras",
          "Hungary",
          "Iceland",
          "India",
          "Indonesia",
          "Iran",
          "Iraq",
          "Ireland",
          "Israel",
          "Italy",
          "Jamaica",
          "Japan",
          "Jordan",
          "Kazakhstan",
          "Kenya",
          "Kiribati, Republic of",
          "Korea, Democratic Republic of",
          "Korea, Republic of",
          "Kosovo",
          "Kuwait",
          "Kyrgyzstan",
          "Laos",
          "Latin America Region",
          "Latin America and Caribbean Region",
          "Latvia",
          "Lebanon",
          "Lesotho",
          "Liberia",
          "Libya",
          "Lithuania",
          "Luxembourg",
          "Madagascar",
          "Malawi",
          "Malaysia",
          "Maldives",
          "Mali",
          "Malta",
          "Marshall Islands",
          "Martinique",
          "Mauritania",
          "Mauritius",
          "Mexico",
          "Micronesia, Federated States of",
          "Middle East Region",
          "Middle East and North Africa Region",
          "Moldova",
          "Mongolia",
          "Montenegro",
          "Montserrat",
          "Morocco",
          "Mozambique",
          "Namibia",
          "Nauru",
          "Nepal",
          "Netherlands",
          "Netherlands Antilles (former)",
          "New Caledonia",
          "New Zealand",
          "Nicaragua",
          "Niger",
          "Nigeria",
          "North Africa Region",
          "North America Region",
          "North Macedonia",
          "North and Central America Region",
          "Norway",
          "Oceania Region",
          "Oman",
          "Pacific Island Trust Territory",
          "Pakistan",
          "Palau",
          "Panama",
          "Papua New Guinea",
          "Paraguay",
          "Peru",
          "Philippines",
          "Poland",
          "Portugal",
          "Qatar",
          "Romania",
          "Russia",
          "Rwanda",
          "Samoa",
          "Sao Tome and Principe",
          "Saudi Arabia",
          "Senegal",
          "Serbia",
          "Serbia and Montenegro (former)",
          "Seychelles",
          "Sierra Leone",
          "Singapore",
          "Slovak Republic",
          "Slovenia",
          "Solomon Islands",
          "Somalia",
          "South Africa",
          "South America Region",
          "South East Asia Region",
          "South Sudan",
          "South and Central Asia Region",
          "Southern Africa Region",
          "Southern Asia Region",
          "Spain",
          "Sri Lanka",
          "St. Kitts and Nevis",
          "St. Lucia",
          "St. Vincent and Grenadines",
          "Sub-Saharan Africa Region",
          "Sudan",
          "Sudan (former)",
          "Suriname",
          "Sweden",
          "Switzerland",
          "Syria",
          "Taiwan",
          "Tajikistan",
          "Tanzania",
          "Thailand",
          "Timor-Leste",
          "Togo",
          "Tonga",
          "Trinidad and Tobago",
          "Tunisia",
          "Turkey",
          "Turkmenistan",
          "Turks and Caicos Islands",
          "Tuvalu",
          "Uganda",
          "Ukraine",
          "United Arab Emirates",
          "United Kingdom",
          "Uruguay",
          "Uzbekistan",
          "Vanuatu",
          "Venezuela",
          "Vietnam",
          "West Africa Region",
          "West Bank and Gaza",
          "Western Europe Region",
          "Western Hemisphere Region",
          "World",
          "Yemen",
          "Yugoslavia (former)",
          "Zambia",
          "Zimbabwe"
         ],
         "locationmode": "ISO-3",
         "locations": [
          "AFG",
          "ALB",
          "DZA",
          "AGO",
          "AIA",
          "ATG",
          "ARG",
          "ARM",
          "ABW",
          "ASN",
          "ANS",
          "AUS",
          "AUT",
          "AZE",
          "BHS",
          "BHR",
          "BGD",
          "BRB",
          "BLR",
          "BEL",
          "BLZ",
          "BEN",
          "BMU",
          "BTN",
          "BOL",
          "BIH",
          "BWA",
          "BRA",
          "IOT",
          "VGB",
          "BRN",
          "BGR",
          "BFA",
          "MMR",
          "BDI",
          "CPV",
          "KHM",
          "CMR",
          "CAN",
          "CRN",
          "CYM",
          "CAF",
          "CNA",
          "CCN",
          "EEE",
          "TCD",
          "CHL",
          "HKG",
          "MAC",
          "CHN",
          "TIB",
          "COL",
          "COM",
          "COG",
          "COD",
          "COK",
          "CRI",
          "CIV",
          "HRV",
          "CUB",
          "CUW",
          "CYP",
          "CZE",
          "DNK",
          "DJI",
          "DMA",
          "DOM",
          "EAQ",
          "ESN",
          "EAG",
          "ENS",
          "EEN",
          "ECN",
          "ECU",
          "EGY",
          "SLV",
          "GNQ",
          "ERI",
          "EST",
          "SWZ",
          "ETH",
          "EUS",
          "EUN",
          "EES",
          "FJI",
          "FIN",
          "FRA",
          "GUF",
          "PYF",
          "GAB",
          "GMB",
          "GEO",
          "DEU",
          "GHA",
          "GRC",
          "GRL",
          "GRD",
          "GTM",
          "GIN",
          "GNB",
          "GUY",
          "HTI",
          "HND",
          "HUN",
          "ISL",
          "IND",
          "IDN",
          "IRN",
          "IRQ",
          "IRL",
          "ISR",
          "ITA",
          "JAM",
          "JPN",
          "JOR",
          "KAZ",
          "KEN",
          "KIR",
          "PRK",
          "KOR",
          "CS-KM",
          "KWT",
          "KGZ",
          "LAO",
          "LAN",
          "LCN",
          "LVA",
          "LBN",
          "LSO",
          "LBR",
          "LBY",
          "LTU",
          "LUX",
          "MDG",
          "MWI",
          "MYS",
          "MDV",
          "MLI",
          "MLT",
          "MHL",
          "MTQ",
          "MRT",
          "MUS",
          "MEX",
          "FSM",
          "MEN",
          "MNS",
          "MDA",
          "MNG",
          "MNE",
          "MSR",
          "MAR",
          "MOZ",
          "NAM",
          "NRU",
          "NPL",
          "NLD",
          "ANT",
          "NCL",
          "NZL",
          "NIC",
          "NER",
          "NGA",
          "MNA",
          "NAN",
          "MKD",
          "NCN",
          "NOR",
          "OCN",
          "OMN",
          "PIT",
          "PAK",
          "PLW",
          "PAN",
          "PNG",
          "PRY",
          "PER",
          "PHL",
          "POL",
          "PRT",
          "QAT",
          "ROU",
          "RUS",
          "RWA",
          "WSM",
          "STP",
          "SAU",
          "SEN",
          "SRB",
          "SCG",
          "SYC",
          "SLE",
          "SGP",
          "SVK",
          "SVN",
          "SLB",
          "SOM",
          "ZAF",
          "SMN",
          "SEA",
          "SSD",
          "SCN",
          "SAG",
          "SAN",
          "ESP",
          "LKA",
          "KNA",
          "LCA",
          "VCT",
          "SSN",
          "SDN",
          "SDF",
          "SUR",
          "SWE",
          "CHE",
          "SYR",
          "TWN",
          "TJK",
          "TZA",
          "THA",
          "TLS",
          "TGO",
          "TON",
          "TTO",
          "TUN",
          "TUR",
          "TKM",
          "TCA",
          "TUV",
          "UGA",
          "UKR",
          "ARE",
          "GBR",
          "URY",
          "UZB",
          "VUT",
          "VEN",
          "VNM",
          "WAN",
          "PSE",
          "WEC",
          "WHN",
          "WLD",
          "YEM",
          "YUF",
          "ZMB",
          "ZWE"
         ],
         "name": "",
         "type": "choropleth",
         "z": [
          237395159786,
          2188310104,
          635824050,
          4104775792,
          183793,
          56882589,
          862782395,
          4096061259,
          1795731,
          10635212925,
          1147857796,
          136430438,
          1326528549,
          2173633432,
          362313971,
          1055570529,
          16870874134,
          132829751,
          1075869780,
          2050591325,
          516106505,
          3917629255,
          160456,
          32099467,
          6519358800,
          4357693313,
          3330452133,
          5095275974,
          32298,
          32000,
          1612445,
          2262051412,
          5161062999,
          5012240840,
          3177879344,
          718656048,
          6902680096,
          3987398603,
          798047165,
          2913461966,
          1126000,
          2912895959,
          6224692892,
          554225603,
          562405348,
          5173496790,
          1775114692,
          63116059,
          538150,
          1947538438,
          19650012,
          32047112042,
          68423383,
          502970413,
          22307044460,
          90000,
          2627118282,
          5730566767,
          1290425579,
          574563944,
          89079717,
          716822785,
          1269800145,
          923029944,
          1150724654,
          47880530,
          4617905896,
          1659111472,
          4506598,
          2576441507,
          3002663300,
          5586355980,
          132528260,
          4596358106,
          123955581726,
          10516027354,
          40090410,
          894147877,
          1140870289,
          1879267272,
          41905545663,
          4293505625,
          5189861251,
          7786830361,
          140353362,
          57749376,
          8487676582,
          135374,
          29000,
          229427174,
          523519127,
          8997172285,
          5042090028,
          9178881540,
          11614169005,
          16166211,
          96138079,
          9319192385,
          3110483999,
          308985993,
          863171618,
          17747711107,
          7985409666,
          738143521,
          85076107,
          21282268272,
          17300628990,
          2260122463,
          138122566400,
          953783767,
          217753389514,
          6023056376,
          3253560857,
          4167536848,
          57435685622,
          4791710729,
          31837628726,
          53480518,
          1160121044,
          14994737657,
          2623109987,
          50833901,
          3209921531,
          4152782580,
          1883655133,
          11201370361,
          1016986209,
          14978275102,
          3332801715,
          10192745294,
          2262710690,
          1312547214,
          66484,
          5184229761,
          11548723546,
          1272202349,
          150933840,
          9184877046,
          158274121,
          3854505753,
          338000,
          1353959741,
          132116395,
          11870564280,
          6247582756,
          10074630392,
          20166815582,
          3603534992,
          2382058082,
          929603746,
          23220,
          8429490026,
          18782713233,
          3797894501,
          415362,
          6611803489,
          2322407142,
          357154000,
          1068716,
          16857264,
          4093925783,
          6788626901,
          25541013604,
          311345792,
          39577522,
          2306025548,
          184127663,
          1246934629,
          1882472438,
          1308920674,
          8450114,
          48293912624,
          1236274293,
          2488116529,
          496984757,
          1376788581,
          11478667832,
          19303582661,
          9437492183,
          3046943451,
          23096949,
          2677655748,
          29600099626,
          7736032245,
          84436515,
          57483164,
          372686552,
          8546420603,
          2646909755,
          3403656561,
          69824147,
          2739774088,
          63838995,
          914033014,
          286763296,
          157188044,
          19758101885,
          21157721202,
          705431986,
          436838849,
          20256293059,
          3938227801,
          2788569545,
          1934729600,
          4684914399,
          4341955964,
          28054753,
          26097381,
          36194162,
          39018354068,
          9131717594,
          18047427310,
          92909715,
          116305620,
          2069080,
          18875311985,
          7123706388,
          2942705967,
          20460988129,
          6439582300,
          1477566986,
          699382929,
          85691086,
          150458144,
          6506015309,
          21303255319,
          578704194,
          1233000,
          1314956,
          22939325139,
          94821354124,
          49180398,
          8853382897,
          422417617,
          2455465510,
          272031359,
          2645181940,
          5594102756,
          5402194695,
          17263959969,
          1096635414,
          2299644060,
          513223313524,
          16772390780,
          3474887,
          14713073476,
          9754026812
         ]
        }
       ],
       "layout": {
        "coloraxis": {
         "colorbar": {
          "title": {
           "text": "total_funding"
          }
         },
         "colorscale": [
          [
           0,
           "rgb(237, 229, 207)"
          ],
          [
           0.16666666666666666,
           "rgb(224, 194, 162)"
          ],
          [
           0.3333333333333333,
           "rgb(211, 156, 131)"
          ],
          [
           0.5,
           "rgb(193, 118, 111)"
          ],
          [
           0.6666666666666666,
           "rgb(166, 84, 97)"
          ],
          [
           0.8333333333333334,
           "rgb(129, 55, 83)"
          ],
          [
           1,
           "rgb(84, 31, 63)"
          ]
         ]
        },
        "font": {
         "color": "black"
        },
        "geo": {
         "bgcolor": "beige",
         "center": {},
         "coastlinecolor": "black",
         "domain": {
          "x": [
           0,
           1
          ],
          "y": [
           0,
           1
          ]
         },
         "showcoastlines": true,
         "showframe": true
        },
        "height": 600,
        "legend": {
         "tracegroupgap": 0
        },
        "paper_bgcolor": "beige",
        "template": {
         "data": {
          "bar": [
           {
            "error_x": {
             "color": "#2a3f5f"
            },
            "error_y": {
             "color": "#2a3f5f"
            },
            "marker": {
             "line": {
              "color": "#E5ECF6",
              "width": 0.5
             },
             "pattern": {
              "fillmode": "overlay",
              "size": 10,
              "solidity": 0.2
             }
            },
            "type": "bar"
           }
          ],
          "barpolar": [
           {
            "marker": {
             "line": {
              "color": "#E5ECF6",
              "width": 0.5
             },
             "pattern": {
              "fillmode": "overlay",
              "size": 10,
              "solidity": 0.2
             }
            },
            "type": "barpolar"
           }
          ],
          "carpet": [
           {
            "aaxis": {
             "endlinecolor": "#2a3f5f",
             "gridcolor": "white",
             "linecolor": "white",
             "minorgridcolor": "white",
             "startlinecolor": "#2a3f5f"
            },
            "baxis": {
             "endlinecolor": "#2a3f5f",
             "gridcolor": "white",
             "linecolor": "white",
             "minorgridcolor": "white",
             "startlinecolor": "#2a3f5f"
            },
            "type": "carpet"
           }
          ],
          "choropleth": [
           {
            "colorbar": {
             "outlinewidth": 0,
             "ticks": ""
            },
            "type": "choropleth"
           }
          ],
          "contour": [
           {
            "colorbar": {
             "outlinewidth": 0,
             "ticks": ""
            },
            "colorscale": [
             [
              0,
              "#0d0887"
             ],
             [
              0.1111111111111111,
              "#46039f"
             ],
             [
              0.2222222222222222,
              "#7201a8"
             ],
             [
              0.3333333333333333,
              "#9c179e"
             ],
             [
              0.4444444444444444,
              "#bd3786"
             ],
             [
              0.5555555555555556,
              "#d8576b"
             ],
             [
              0.6666666666666666,
              "#ed7953"
             ],
             [
              0.7777777777777778,
              "#fb9f3a"
             ],
             [
              0.8888888888888888,
              "#fdca26"
             ],
             [
              1,
              "#f0f921"
             ]
            ],
            "type": "contour"
           }
          ],
          "contourcarpet": [
           {
            "colorbar": {
             "outlinewidth": 0,
             "ticks": ""
            },
            "type": "contourcarpet"
           }
          ],
          "heatmap": [
           {
            "colorbar": {
             "outlinewidth": 0,
             "ticks": ""
            },
            "colorscale": [
             [
              0,
              "#0d0887"
             ],
             [
              0.1111111111111111,
              "#46039f"
             ],
             [
              0.2222222222222222,
              "#7201a8"
             ],
             [
              0.3333333333333333,
              "#9c179e"
             ],
             [
              0.4444444444444444,
              "#bd3786"
             ],
             [
              0.5555555555555556,
              "#d8576b"
             ],
             [
              0.6666666666666666,
              "#ed7953"
             ],
             [
              0.7777777777777778,
              "#fb9f3a"
             ],
             [
              0.8888888888888888,
              "#fdca26"
             ],
             [
              1,
              "#f0f921"
             ]
            ],
            "type": "heatmap"
           }
          ],
          "heatmapgl": [
           {
            "colorbar": {
             "outlinewidth": 0,
             "ticks": ""
            },
            "colorscale": [
             [
              0,
              "#0d0887"
             ],
             [
              0.1111111111111111,
              "#46039f"
             ],
             [
              0.2222222222222222,
              "#7201a8"
             ],
             [
              0.3333333333333333,
              "#9c179e"
             ],
             [
              0.4444444444444444,
              "#bd3786"
             ],
             [
              0.5555555555555556,
              "#d8576b"
             ],
             [
              0.6666666666666666,
              "#ed7953"
             ],
             [
              0.7777777777777778,
              "#fb9f3a"
             ],
             [
              0.8888888888888888,
              "#fdca26"
             ],
             [
              1,
              "#f0f921"
             ]
            ],
            "type": "heatmapgl"
           }
          ],
          "histogram": [
           {
            "marker": {
             "pattern": {
              "fillmode": "overlay",
              "size": 10,
              "solidity": 0.2
             }
            },
            "type": "histogram"
           }
          ],
          "histogram2d": [
           {
            "colorbar": {
             "outlinewidth": 0,
             "ticks": ""
            },
            "colorscale": [
             [
              0,
              "#0d0887"
             ],
             [
              0.1111111111111111,
              "#46039f"
             ],
             [
              0.2222222222222222,
              "#7201a8"
             ],
             [
              0.3333333333333333,
              "#9c179e"
             ],
             [
              0.4444444444444444,
              "#bd3786"
             ],
             [
              0.5555555555555556,
              "#d8576b"
             ],
             [
              0.6666666666666666,
              "#ed7953"
             ],
             [
              0.7777777777777778,
              "#fb9f3a"
             ],
             [
              0.8888888888888888,
              "#fdca26"
             ],
             [
              1,
              "#f0f921"
             ]
            ],
            "type": "histogram2d"
           }
          ],
          "histogram2dcontour": [
           {
            "colorbar": {
             "outlinewidth": 0,
             "ticks": ""
            },
            "colorscale": [
             [
              0,
              "#0d0887"
             ],
             [
              0.1111111111111111,
              "#46039f"
             ],
             [
              0.2222222222222222,
              "#7201a8"
             ],
             [
              0.3333333333333333,
              "#9c179e"
             ],
             [
              0.4444444444444444,
              "#bd3786"
             ],
             [
              0.5555555555555556,
              "#d8576b"
             ],
             [
              0.6666666666666666,
              "#ed7953"
             ],
             [
              0.7777777777777778,
              "#fb9f3a"
             ],
             [
              0.8888888888888888,
              "#fdca26"
             ],
             [
              1,
              "#f0f921"
             ]
            ],
            "type": "histogram2dcontour"
           }
          ],
          "mesh3d": [
           {
            "colorbar": {
             "outlinewidth": 0,
             "ticks": ""
            },
            "type": "mesh3d"
           }
          ],
          "parcoords": [
           {
            "line": {
             "colorbar": {
              "outlinewidth": 0,
              "ticks": ""
             }
            },
            "type": "parcoords"
           }
          ],
          "pie": [
           {
            "automargin": true,
            "type": "pie"
           }
          ],
          "scatter": [
           {
            "fillpattern": {
             "fillmode": "overlay",
             "size": 10,
             "solidity": 0.2
            },
            "type": "scatter"
           }
          ],
          "scatter3d": [
           {
            "line": {
             "colorbar": {
              "outlinewidth": 0,
              "ticks": ""
             }
            },
            "marker": {
             "colorbar": {
              "outlinewidth": 0,
              "ticks": ""
             }
            },
            "type": "scatter3d"
           }
          ],
          "scattercarpet": [
           {
            "marker": {
             "colorbar": {
              "outlinewidth": 0,
              "ticks": ""
             }
            },
            "type": "scattercarpet"
           }
          ],
          "scattergeo": [
           {
            "marker": {
             "colorbar": {
              "outlinewidth": 0,
              "ticks": ""
             }
            },
            "type": "scattergeo"
           }
          ],
          "scattergl": [
           {
            "marker": {
             "colorbar": {
              "outlinewidth": 0,
              "ticks": ""
             }
            },
            "type": "scattergl"
           }
          ],
          "scattermapbox": [
           {
            "marker": {
             "colorbar": {
              "outlinewidth": 0,
              "ticks": ""
             }
            },
            "type": "scattermapbox"
           }
          ],
          "scatterpolar": [
           {
            "marker": {
             "colorbar": {
              "outlinewidth": 0,
              "ticks": ""
             }
            },
            "type": "scatterpolar"
           }
          ],
          "scatterpolargl": [
           {
            "marker": {
             "colorbar": {
              "outlinewidth": 0,
              "ticks": ""
             }
            },
            "type": "scatterpolargl"
           }
          ],
          "scatterternary": [
           {
            "marker": {
             "colorbar": {
              "outlinewidth": 0,
              "ticks": ""
             }
            },
            "type": "scatterternary"
           }
          ],
          "surface": [
           {
            "colorbar": {
             "outlinewidth": 0,
             "ticks": ""
            },
            "colorscale": [
             [
              0,
              "#0d0887"
             ],
             [
              0.1111111111111111,
              "#46039f"
             ],
             [
              0.2222222222222222,
              "#7201a8"
             ],
             [
              0.3333333333333333,
              "#9c179e"
             ],
             [
              0.4444444444444444,
              "#bd3786"
             ],
             [
              0.5555555555555556,
              "#d8576b"
             ],
             [
              0.6666666666666666,
              "#ed7953"
             ],
             [
              0.7777777777777778,
              "#fb9f3a"
             ],
             [
              0.8888888888888888,
              "#fdca26"
             ],
             [
              1,
              "#f0f921"
             ]
            ],
            "type": "surface"
           }
          ],
          "table": [
           {
            "cells": {
             "fill": {
              "color": "#EBF0F8"
             },
             "line": {
              "color": "white"
             }
            },
            "header": {
             "fill": {
              "color": "#C8D4E3"
             },
             "line": {
              "color": "white"
             }
            },
            "type": "table"
           }
          ]
         },
         "layout": {
          "annotationdefaults": {
           "arrowcolor": "#2a3f5f",
           "arrowhead": 0,
           "arrowwidth": 1
          },
          "autotypenumbers": "strict",
          "coloraxis": {
           "colorbar": {
            "outlinewidth": 0,
            "ticks": ""
           }
          },
          "colorscale": {
           "diverging": [
            [
             0,
             "#8e0152"
            ],
            [
             0.1,
             "#c51b7d"
            ],
            [
             0.2,
             "#de77ae"
            ],
            [
             0.3,
             "#f1b6da"
            ],
            [
             0.4,
             "#fde0ef"
            ],
            [
             0.5,
             "#f7f7f7"
            ],
            [
             0.6,
             "#e6f5d0"
            ],
            [
             0.7,
             "#b8e186"
            ],
            [
             0.8,
             "#7fbc41"
            ],
            [
             0.9,
             "#4d9221"
            ],
            [
             1,
             "#276419"
            ]
           ],
           "sequential": [
            [
             0,
             "#0d0887"
            ],
            [
             0.1111111111111111,
             "#46039f"
            ],
            [
             0.2222222222222222,
             "#7201a8"
            ],
            [
             0.3333333333333333,
             "#9c179e"
            ],
            [
             0.4444444444444444,
             "#bd3786"
            ],
            [
             0.5555555555555556,
             "#d8576b"
            ],
            [
             0.6666666666666666,
             "#ed7953"
            ],
            [
             0.7777777777777778,
             "#fb9f3a"
            ],
            [
             0.8888888888888888,
             "#fdca26"
            ],
            [
             1,
             "#f0f921"
            ]
           ],
           "sequentialminus": [
            [
             0,
             "#0d0887"
            ],
            [
             0.1111111111111111,
             "#46039f"
            ],
            [
             0.2222222222222222,
             "#7201a8"
            ],
            [
             0.3333333333333333,
             "#9c179e"
            ],
            [
             0.4444444444444444,
             "#bd3786"
            ],
            [
             0.5555555555555556,
             "#d8576b"
            ],
            [
             0.6666666666666666,
             "#ed7953"
            ],
            [
             0.7777777777777778,
             "#fb9f3a"
            ],
            [
             0.8888888888888888,
             "#fdca26"
            ],
            [
             1,
             "#f0f921"
            ]
           ]
          },
          "colorway": [
           "#636efa",
           "#EF553B",
           "#00cc96",
           "#ab63fa",
           "#FFA15A",
           "#19d3f3",
           "#FF6692",
           "#B6E880",
           "#FF97FF",
           "#FECB52"
          ],
          "font": {
           "color": "#2a3f5f"
          },
          "geo": {
           "bgcolor": "white",
           "lakecolor": "white",
           "landcolor": "#E5ECF6",
           "showlakes": true,
           "showland": true,
           "subunitcolor": "white"
          },
          "hoverlabel": {
           "align": "left"
          },
          "hovermode": "closest",
          "mapbox": {
           "style": "light"
          },
          "paper_bgcolor": "white",
          "plot_bgcolor": "#E5ECF6",
          "polar": {
           "angularaxis": {
            "gridcolor": "white",
            "linecolor": "white",
            "ticks": ""
           },
           "bgcolor": "#E5ECF6",
           "radialaxis": {
            "gridcolor": "white",
            "linecolor": "white",
            "ticks": ""
           }
          },
          "scene": {
           "xaxis": {
            "backgroundcolor": "#E5ECF6",
            "gridcolor": "white",
            "gridwidth": 2,
            "linecolor": "white",
            "showbackground": true,
            "ticks": "",
            "zerolinecolor": "white"
           },
           "yaxis": {
            "backgroundcolor": "#E5ECF6",
            "gridcolor": "white",
            "gridwidth": 2,
            "linecolor": "white",
            "showbackground": true,
            "ticks": "",
            "zerolinecolor": "white"
           },
           "zaxis": {
            "backgroundcolor": "#E5ECF6",
            "gridcolor": "white",
            "gridwidth": 2,
            "linecolor": "white",
            "showbackground": true,
            "ticks": "",
            "zerolinecolor": "white"
           }
          },
          "shapedefaults": {
           "line": {
            "color": "#2a3f5f"
           }
          },
          "ternary": {
           "aaxis": {
            "gridcolor": "white",
            "linecolor": "white",
            "ticks": ""
           },
           "baxis": {
            "gridcolor": "white",
            "linecolor": "white",
            "ticks": ""
           },
           "bgcolor": "#E5ECF6",
           "caxis": {
            "gridcolor": "white",
            "linecolor": "white",
            "ticks": ""
           }
          },
          "title": {
           "x": 0.05
          },
          "xaxis": {
           "automargin": true,
           "gridcolor": "white",
           "linecolor": "white",
           "ticks": "",
           "title": {
            "standoff": 15
           },
           "zerolinecolor": "white",
           "zerolinewidth": 2
          },
          "yaxis": {
           "automargin": true,
           "gridcolor": "white",
           "linecolor": "white",
           "ticks": "",
           "title": {
            "standoff": 15
           },
           "zerolinecolor": "white",
           "zerolinewidth": 2
          }
         }
        },
        "title": {
         "text": "Total Foreign Aid Received by Country"
        },
        "width": 1000
       }
      },
      "image/png": "[encoded data removed]",
      "text/html": [
       "<div>                            <div id=\"6ec8d96f-8b53-4376-a708-6ffa06017908\" class=\"plotly-graph-div\" style=\"height:600px; width:1000px;\"></div>            <script type=\"text/javascript\">                require([\"plotly\"], function(Plotly) {                    window.PLOTLYENV=window.PLOTLYENV || {};                                    if (document.getElementById(\"6ec8d96f-8b53-4376-a708-6ffa06017908\")) {                    Plotly.newPlot(                        \"6ec8d96f-8b53-4376-a708-6ffa06017908\",                        [{\"coloraxis\":\"coloraxis\",\"customdata\":[[\"Operating Expenses\",237395159786],[\"Operating Expenses\",2188310104],[\"Emergency food assistance\",635824050],[\"Operating Expenses\",4104775792],[\"Environmental policy and administrative management\",183793],[\"Security system management and reform\",56882589],[\"Public finance management\",862782395],[\"Operating Expenses\",4096061259],[\"Narcotics control\",1795731],[\"Operating Expenses\",10635212925],[\"Multisector aid\",1147857796],[\"Security system management and reform\",136430438],[\"Multisector aid\",1326528549],[\"Operating Expenses\",2173633432],[\"Operating Expenses\",362313971],[\"Security system management and reform\",1055570529],[\"Operating Expenses\",16870874134],[\"Health policy and administrative management\",132829751],[\"Democratic participation and civil society\",1075869780],[\"Multisector aid\",2050591325],[\"Security system management and reform\",516106505],[\"Operating Expenses\",3917629255],[\"Fishing policy and administrative management\",160456],[\"Multi-hazard response preparedness\",32099467],[\"Food Assistance\",6519358800],[\"Operating Expenses\",4357693313],[\"STD control including HIV\\u002fAIDS\",3330452133],[\"Operating Expenses\",5095275974],[\"Agricultural education\\u002ftraining\",32298],[\"Narcotics control\",32000],[\"Security system management and reform\",1612445],[\"Operating Expenses\",2262051412],[\"Operating Expenses\",5161062999],[\"Operating Expenses\",5012240840],[\"Operating Expenses\",3177879344],[\"Sectors not specified\",718656048],[\"Operating Expenses\",6902680096],[\"STD control including HIV\\u002fAIDS\",3987398603],[\"Environmental policy and administrative management\",798047165],[\"STD control including HIV\\u002fAIDS\",2913461966],[\"Bio-diversity\",1126000],[\"Relief co-ordination; protection and support services\",2912895959],[\"Operating Expenses\",6224692892],[\"Immediate post-emergency reconstruction and rehabilitation\",554225603],[\"Multisector aid\",562405348],[\"Material relief assistance and services\",5173496790],[\"Multisector aid\",1775114692],[\"Human rights\",63116059],[\"Disarmament of Weapons of Mass Destruction (WMD)\",538150],[\"Administration and Oversight\",1947538438],[\"Democratic participation and civil society\",19650012],[\"Operating Expenses\",32047112042],[\"Primary education\",68423383],[\"Bio-diversity\",502970413],[\"Operating Expenses\",22307044460],[\"Bio-diversity\",90000],[\"Operating Expenses\",2627118282],[\"STD control including HIV\\u002fAIDS\",5730566767],[\"Operating Expenses\",1290425579],[\"Democratic participation and civil society\",574563944],[\"Material relief assistance and services\",89079717],[\"Operating Expenses\",716822785],[\"Security system management and reform\",1269800145],[\"Multisector aid\",923029944],[\"Operating Expenses\",1150724654],[\"Security system management and reform\",47880530],[\"Operating Expenses\",4617905896],[\"Operating Expenses\",1659111472],[\"Agricultural policy and administrative management\",4506598],[\"Administration and Oversight\",2576441507],[\"Operating Expenses\",3002663300],[\"Operating Expenses\",5586355980],[\"Operating Expenses\",132528260],[\"Operating Expenses\",4596358106],[\"Operating Expenses\",123955581726],[\"Operating Expenses\",10516027354],[\"Bio-diversity\",40090410],[\"Emergency food assistance\",894147877],[\"Public finance management\",1140870289],[\"STD control including HIV\\u002fAIDS\",1879267272],[\"Operating Expenses\",41905545663],[\"Operating Expenses\",4293505625],[\"Disarmament of Weapons of Mass Destruction (WMD)\",5189861251],[\"Multisector aid\",7786830361],[\"Operating Expenses\",140353362],[\"Security system management and reform\",57749376],[\"Multisector aid\",8487676582],[\"Material relief assistance and services\",135374],[\"Bio-diversity\",29000],[\"Bio-diversity\",229427174],[\"Public finance management\",523519127],[\"Operating Expenses\",8997172285],[\"Multisector aid\",5042090028],[\"Operating Expenses\",9178881540],[\"Security system management and reform\",11614169005],[\"Energy policy and administrative management\",16166211],[\"Security system management and reform\",96138079],[\"Operating Expenses\",9319192385],[\"Operating Expenses\",3110483999],[\"School feeding\",308985993],[\"STD control including HIV\\u002fAIDS\",863171618],[\"Operating Expenses\",17747711107],[\"Operating Expenses\",7985409666],[\"Operating Expenses\",738143521],[\"Multisector aid\",85076107],[\"Operating Expenses\",21282268272],[\"Operating Expenses\",17300628990],[\"Multisector aid\",2260122463],[\"Operating Expenses\",138122566400],[\"Civilian peace-building, conflict prevention and resolution\",953783767],[\"Security system management and reform\",217753389514],[\"Multisector aid\",6023056376],[\"Operating Expenses\",3253560857],[\"Operating Expenses\",4167536848],[\"Operating Expenses\",57435685622],[\"Operating Expenses\",4791710729],[\"STD control including HIV\\u002fAIDS\",31837628726],[\"Sectors not specified\",53480518],[\"Emergency food assistance\",1160121044],[\"Multisector aid\",14994737657],[\"Operating Expenses\",2623109987],[\"Multisector aid\",50833901],[\"Operating Expenses\",3209921531],[\"Operating Expenses\",4152782580],[\"Multisector aid\",1883655133],[\"Multisector aid\",11201370361],[\"Public finance management\",1016986209],[\"Operating Expenses\",14978275102],[\"STD control including HIV\\u002fAIDS\",3332801715],[\"Operating Expenses\",10192745294],[\"Operating Expenses\",2262710690],[\"Security system management and reform\",1312547214],[\"Agricultural education\\u002ftraining\",66484],[\"Operating Expenses\",5184229761],[\"STD control including HIV\\u002fAIDS\",11548723546],[\"Operating Expenses\",1272202349],[\"Domestic revenue mobilisation\",150933840],[\"Operating Expenses\",9184877046],[\"Security system management and reform\",158274121],[\"General budget support-related aid\",3854505753],[\"Narcotics control\",338000],[\"Food Assistance\",1353959741],[\"Multisector aid\",132116395],[\"Operating Expenses\",11870564280],[\"General budget support-related aid\",6247582756],[\"Operating Expenses\",10074630392],[\"Multisector aid\",20166815582],[\"Operating Expenses\",3603534992],[\"Operating Expenses\",2382058082],[\"Multisector aid\",929603746],[\"Agricultural education\\u002ftraining\",23220],[\"Operating Expenses\",8429490026],[\"STD control including HIV\\u002fAIDS\",18782713233],[\"STD control including HIV\\u002fAIDS\",3797894501],[\"Security system management and reform\",415362],[\"Operating Expenses\",6611803489],[\"Multisector aid\",2322407142],[\"Narcotics control\",357154000],[\"Infectious disease control\",1068716],[\"Material relief assistance and services\",16857264],[\"Operating Expenses\",4093925783],[\"Operating Expenses\",6788626901],[\"STD control including HIV\\u002fAIDS\",25541013604],[\"Countering violent extremism\",311345792],[\"Environmental policy and administrative management\",39577522],[\"Operating Expenses\",2306025548],[\"Operating Expenses\",184127663],[\"Multisector aid\",1246934629],[\"Operating Expenses\",1882472438],[\"Operating Expenses\",1308920674],[\"Reproductive health care\",8450114],[\"Operating Expenses\",48293912624],[\"Operating Expenses\",1236274293],[\"Operating Expenses\",2488116529],[\"Operating Expenses\",496984757],[\"Operating Expenses\",1376788581],[\"Operating Expenses\",11478667832],[\"Operating Expenses\",19303582661],[\"Multisector aid\",9437492183],[\"Security system management and reform\",3046943451],[\"Operating Expenses\",23096949],[\"Business Policy and Administation\",2677655748],[\"Democratic participation and civil society\",29600099626],[\"Operating Expenses\",7736032245],[\"Primary education\",84436515],[\"Multisector aid\",57483164],[\"Operating Expenses\",372686552],[\"Operating Expenses\",8546420603],[\"Operating Expenses\",2646909755],[\"Material relief assistance and services\",3403656561],[\"Public finance management\",69824147],[\"Operating Expenses\",2739774088],[\"Disarmament of Weapons of Mass Destruction (WMD)\",63838995],[\"Security system management and reform\",914033014],[\"Security system management and reform\",286763296],[\"Operating Expenses\",157188044],[\"Operating Expenses\",19758101885],[\"STD control including HIV\\u002fAIDS\",21157721202],[\"Bio-diversity\",705431986],[\"Public finance management\",436838849],[\"Operating Expenses\",20256293059],[\"Multisector aid\",3938227801],[\"STD control including HIV\\u002fAIDS\",2788569545],[\"Material relief assistance and services\",1934729600],[\"Multisector aid\",4684914399],[\"Operating Expenses\",4341955964],[\"Public finance management\",28054753],[\"Security system management and reform\",26097381],[\"Public finance management\",36194162],[\"Operating Expenses\",39018354068],[\"Operating Expenses\",9131717594],[\"Material relief assistance and services\",18047427310],[\"Security system management and reform\",92909715],[\"Disarmament of Weapons of Mass Destruction (WMD)\",116305620],[\"Security system management and reform\",2069080],[\"Relief co-ordination; protection and support services\",18875311985],[\"Multisector aid\",7123706388],[\"Operating Expenses\",2942705967],[\"STD control including HIV\\u002fAIDS\",20460988129],[\"Operating Expenses\",6439582300],[\"Operating Expenses\",1477566986],[\"Multisector aid\",699382929],[\"Primary education\",85691086],[\"Health policy and administrative management\",150458144],[\"Operating Expenses\",6506015309],[\"Material relief assistance and services\",21303255319],[\"Administration and Oversight\",578704194],[\"Legal and judicial development\",1233000],[\"Security system management and reform\",1314956],[\"STD control including HIV\\u002fAIDS\",22939325139],[\"Operating Expenses\",94821354124],[\"Multisector aid\",49180398],[\"Multisector aid\",8853382897],[\"Multisector aid\",422417617],[\"Operating Expenses\",2455465510],[\"Basic health care\",272031359],[\"Democratic participation and civil society\",2645181940],[\"Operating Expenses\",5594102756],[\"Operating Expenses\",5402194695],[\"Operating Expenses\",17263959969],[\"Multisector aid\",1096635414],[\"Multisector aid\",2299644060],[\"Operating Expenses\",513223313524],[\"Operating Expenses\",16772390780],[\"Security system management and reform\",3474887],[\"STD control including HIV\\u002fAIDS\",14713073476],[\"Operating Expenses\",9754026812]],\"geo\":\"geo\",\"hovertemplate\":\"\\u003cb\\u003e%{hovertext}\\u003c\\u002fb\\u003e\\u003cbr\\u003e\\u003cbr\\u003eCountry Code=%{location}\\u003cbr\\u003etop_purpose=%{customdata[0]}\\u003cbr\\u003etotal_funding=%{z}\\u003cextra\\u003e\\u003c\\u002fextra\\u003e\",\"hovertext\":[\"Afghanistan\",\"Albania\",\"Algeria\",\"Angola\",\"Anguilla\",\"Antigua and Barbuda\",\"Argentina\",\"Armenia\",\"Aruba\",\"Asia Region\",\"Asia, Middle East and North Africa Region\",\"Australia\",\"Austria\",\"Azerbaijan\",\"Bahamas\",\"Bahrain\",\"Bangladesh\",\"Barbados\",\"Belarus\",\"Belgium\",\"Belize\",\"Benin\",\"Bermuda\",\"Bhutan\",\"Bolivia\",\"Bosnia and Herzegovina\",\"Botswana\",\"Brazil\",\"British Indian Ocean Territory\",\"British Virgin Islands\",\"Brunei\",\"Bulgaria\",\"Burkina Faso\",\"Burma (Myanmar)\",\"Burundi\",\"Cabo Verde\",\"Cambodia\",\"Cameroon\",\"Canada\",\"Caribbean Region\",\"Cayman Islands\",\"Central African Republic\",\"Central America Region\",\"Central America and Caribbean Region\",\"Central and Eastern Europe Region\",\"Chad\",\"Chile\",\"China (Hong Kong, S.A.R., P.R.C.)\",\"China (Macau, S.A.R., P.R.C.)\",\"China (P.R.C.)\",\"China (Tibet)\",\"Colombia\",\"Comoros\",\"Congo (Brazzaville)\",\"Congo (Kinshasa)\",\"Cook Islands\",\"Costa Rica\",\"Cote d'Ivoire\",\"Croatia\",\"Cuba\",\"Curacao\",\"Cyprus\",\"Czechia\",\"Denmark\",\"Djibouti\",\"Dominica\",\"Dominican Republic\",\"East Asia and Oceania Region\",\"East and South Africa Region\",\"Eastern Africa Region\",\"Eastern Asia Region\",\"Eastern Europe Region\",\"Eastern and Central Africa Region\",\"Ecuador\",\"Egypt\",\"El Salvador\",\"Equatorial Guinea\",\"Eritrea\",\"Estonia\",\"Eswatini\",\"Ethiopia\",\"Eurasia Region\",\"Europe Region\",\"Europe and Eurasia Region\",\"Fiji\",\"Finland\",\"France\",\"French Guiana\",\"French Polynesia\",\"Gabon\",\"Gambia\",\"Georgia\",\"Germany\",\"Ghana\",\"Greece\",\"Greenland\",\"Grenada\",\"Guatemala\",\"Guinea\",\"Guinea-Bissau\",\"Guyana\",\"Haiti\",\"Honduras\",\"Hungary\",\"Iceland\",\"India\",\"Indonesia\",\"Iran\",\"Iraq\",\"Ireland\",\"Israel\",\"Italy\",\"Jamaica\",\"Japan\",\"Jordan\",\"Kazakhstan\",\"Kenya\",\"Kiribati, Republic of\",\"Korea, Democratic Republic of\",\"Korea, Republic of\",\"Kosovo\",\"Kuwait\",\"Kyrgyzstan\",\"Laos\",\"Latin America Region\",\"Latin America and Caribbean Region\",\"Latvia\",\"Lebanon\",\"Lesotho\",\"Liberia\",\"Libya\",\"Lithuania\",\"Luxembourg\",\"Madagascar\",\"Malawi\",\"Malaysia\",\"Maldives\",\"Mali\",\"Malta\",\"Marshall Islands\",\"Martinique\",\"Mauritania\",\"Mauritius\",\"Mexico\",\"Micronesia, Federated States of\",\"Middle East Region\",\"Middle East and North Africa Region\",\"Moldova\",\"Mongolia\",\"Montenegro\",\"Montserrat\",\"Morocco\",\"Mozambique\",\"Namibia\",\"Nauru\",\"Nepal\",\"Netherlands\",\"Netherlands Antilles (former)\",\"New Caledonia\",\"New Zealand\",\"Nicaragua\",\"Niger\",\"Nigeria\",\"North Africa Region\",\"North America Region\",\"North Macedonia\",\"North and Central America Region\",\"Norway\",\"Oceania Region\",\"Oman\",\"Pacific Island Trust Territory\",\"Pakistan\",\"Palau\",\"Panama\",\"Papua New Guinea\",\"Paraguay\",\"Peru\",\"Philippines\",\"Poland\",\"Portugal\",\"Qatar\",\"Romania\",\"Russia\",\"Rwanda\",\"Samoa\",\"Sao Tome and Principe\",\"Saudi Arabia\",\"Senegal\",\"Serbia\",\"Serbia and Montenegro (former)\",\"Seychelles\",\"Sierra Leone\",\"Singapore\",\"Slovak Republic\",\"Slovenia\",\"Solomon Islands\",\"Somalia\",\"South Africa\",\"South America Region\",\"South East Asia Region\",\"South Sudan\",\"South and Central Asia Region\",\"Southern Africa Region\",\"Southern Asia Region\",\"Spain\",\"Sri Lanka\",\"St. Kitts and Nevis\",\"St. Lucia\",\"St. Vincent and Grenadines\",\"Sub-Saharan Africa Region\",\"Sudan\",\"Sudan (former)\",\"Suriname\",\"Sweden\",\"Switzerland\",\"Syria\",\"Taiwan\",\"Tajikistan\",\"Tanzania\",\"Thailand\",\"Timor-Leste\",\"Togo\",\"Tonga\",\"Trinidad and Tobago\",\"Tunisia\",\"Turkey\",\"Turkmenistan\",\"Turks and Caicos Islands\",\"Tuvalu\",\"Uganda\",\"Ukraine\",\"United Arab Emirates\",\"United Kingdom\",\"Uruguay\",\"Uzbekistan\",\"Vanuatu\",\"Venezuela\",\"Vietnam\",\"West Africa Region\",\"West Bank and Gaza\",\"Western Europe Region\",\"Western Hemisphere Region\",\"World\",\"Yemen\",\"Yugoslavia (former)\",\"Zambia\",\"Zimbabwe\"],\"locationmode\":\"ISO-3\",\"locations\":[\"AFG\",\"ALB\",\"DZA\",\"AGO\",\"AIA\",\"ATG\",\"ARG\",\"ARM\",\"ABW\",\"ASN\",\"ANS\",\"AUS\",\"AUT\",\"AZE\",\"BHS\",\"BHR\",\"BGD\",\"BRB\",\"BLR\",\"BEL\",\"BLZ\",\"BEN\",\"BMU\",\"BTN\",\"BOL\",\"BIH\",\"BWA\",\"BRA\",\"IOT\",\"VGB\",\"BRN\",\"BGR\",\"BFA\",\"MMR\",\"BDI\",\"CPV\",\"KHM\",\"CMR\",\"CAN\",\"CRN\",\"CYM\",\"CAF\",\"CNA\",\"CCN\",\"EEE\",\"TCD\",\"CHL\",\"HKG\",\"MAC\",\"CHN\",\"TIB\",\"COL\",\"COM\",\"COG\",\"COD\",\"COK\",\"CRI\",\"CIV\",\"HRV\",\"CUB\",\"CUW\",\"CYP\",\"CZE\",\"DNK\",\"DJI\",\"DMA\",\"DOM\",\"EAQ\",\"ESN\",\"EAG\",\"ENS\",\"EEN\",\"ECN\",\"ECU\",\"EGY\",\"SLV\",\"GNQ\",\"ERI\",\"EST\",\"SWZ\",\"ETH\",\"EUS\",\"EUN\",\"EES\",\"FJI\",\"FIN\",\"FRA\",\"GUF\",\"PYF\",\"GAB\",\"GMB\",\"GEO\",\"DEU\",\"GHA\",\"GRC\",\"GRL\",\"GRD\",\"GTM\",\"GIN\",\"GNB\",\"GUY\",\"HTI\",\"HND\",\"HUN\",\"ISL\",\"IND\",\"IDN\",\"IRN\",\"IRQ\",\"IRL\",\"ISR\",\"ITA\",\"JAM\",\"JPN\",\"JOR\",\"KAZ\",\"KEN\",\"KIR\",\"PRK\",\"KOR\",\"CS-KM\",\"KWT\",\"KGZ\",\"LAO\",\"LAN\",\"LCN\",\"LVA\",\"LBN\",\"LSO\",\"LBR\",\"LBY\",\"LTU\",\"LUX\",\"MDG\",\"MWI\",\"MYS\",\"MDV\",\"MLI\",\"MLT\",\"MHL\",\"MTQ\",\"MRT\",\"MUS\",\"MEX\",\"FSM\",\"MEN\",\"MNS\",\"MDA\",\"MNG\",\"MNE\",\"MSR\",\"MAR\",\"MOZ\",\"NAM\",\"NRU\",\"NPL\",\"NLD\",\"ANT\",\"NCL\",\"NZL\",\"NIC\",\"NER\",\"NGA\",\"MNA\",\"NAN\",\"MKD\",\"NCN\",\"NOR\",\"OCN\",\"OMN\",\"PIT\",\"PAK\",\"PLW\",\"PAN\",\"PNG\",\"PRY\",\"PER\",\"PHL\",\"POL\",\"PRT\",\"QAT\",\"ROU\",\"RUS\",\"RWA\",\"WSM\",\"STP\",\"SAU\",\"SEN\",\"SRB\",\"SCG\",\"SYC\",\"SLE\",\"SGP\",\"SVK\",\"SVN\",\"SLB\",\"SOM\",\"ZAF\",\"SMN\",\"SEA\",\"SSD\",\"SCN\",\"SAG\",\"SAN\",\"ESP\",\"LKA\",\"KNA\",\"LCA\",\"VCT\",\"SSN\",\"SDN\",\"SDF\",\"SUR\",\"SWE\",\"CHE\",\"SYR\",\"TWN\",\"TJK\",\"TZA\",\"THA\",\"TLS\",\"TGO\",\"TON\",\"TTO\",\"TUN\",\"TUR\",\"TKM\",\"TCA\",\"TUV\",\"UGA\",\"UKR\",\"ARE\",\"GBR\",\"URY\",\"UZB\",\"VUT\",\"VEN\",\"VNM\",\"WAN\",\"PSE\",\"WEC\",\"WHN\",\"WLD\",\"YEM\",\"YUF\",\"ZMB\",\"ZWE\"],\"name\":\"\",\"z\":[237395159786,2188310104,635824050,4104775792,183793,56882589,862782395,4096061259,1795731,10635212925,1147857796,136430438,1326528549,2173633432,362313971,1055570529,16870874134,132829751,1075869780,2050591325,516106505,3917629255,160456,32099467,6519358800,4357693313,3330452133,5095275974,32298,32000,1612445,2262051412,5161062999,5012240840,3177879344,718656048,6902680096,3987398603,798047165,2913461966,1126000,2912895959,6224692892,554225603,562405348,5173496790,1775114692,63116059,538150,1947538438,19650012,32047112042,68423383,502970413,22307044460,90000,2627118282,5730566767,1290425579,574563944,89079717,716822785,1269800145,923029944,1150724654,47880530,4617905896,1659111472,4506598,2576441507,3002663300,5586355980,132528260,4596358106,123955581726,10516027354,40090410,894147877,1140870289,1879267272,41905545663,4293505625,5189861251,7786830361,140353362,57749376,8487676582,135374,29000,229427174,523519127,8997172285,5042090028,9178881540,11614169005,16166211,96138079,9319192385,3110483999,308985993,863171618,17747711107,7985409666,738143521,85076107,21282268272,17300628990,2260122463,138122566400,953783767,217753389514,6023056376,3253560857,4167536848,57435685622,4791710729,31837628726,53480518,1160121044,14994737657,2623109987,50833901,3209921531,4152782580,1883655133,11201370361,1016986209,14978275102,3332801715,10192745294,2262710690,1312547214,66484,5184229761,11548723546,1272202349,150933840,9184877046,158274121,3854505753,338000,1353959741,132116395,11870564280,6247582756,10074630392,20166815582,3603534992,2382058082,929603746,23220,8429490026,18782713233,3797894501,415362,6611803489,2322407142,357154000,1068716,16857264,4093925783,6788626901,25541013604,311345792,39577522,2306025548,184127663,1246934629,1882472438,1308920674,8450114,48293912624,1236274293,2488116529,496984757,1376788581,11478667832,19303582661,9437492183,3046943451,23096949,2677655748,29600099626,7736032245,84436515,57483164,372686552,8546420603,2646909755,3403656561,69824147,2739774088,63838995,914033014,286763296,157188044,19758101885,21157721202,705431986,436838849,20256293059,3938227801,2788569545,1934729600,4684914399,4341955964,28054753,26097381,36194162,39018354068,9131717594,18047427310,92909715,116305620,2069080,18875311985,7123706388,2942705967,20460988129,6439582300,1477566986,699382929,85691086,150458144,6506015309,21303255319,578704194,1233000,1314956,22939325139,94821354124,49180398,8853382897,422417617,2455465510,272031359,2645181940,5594102756,5402194695,17263959969,1096635414,2299644060,513223313524,16772390780,3474887,14713073476,9754026812],\"type\":\"choropleth\"}],                        {\"template\":{\"data\":{\"histogram2dcontour\":[{\"type\":\"histogram2dcontour\",\"colorbar\":{\"outlinewidth\":0,\"ticks\":\"\"},\"colorscale\":[[0.0,\"#0d0887\"],[0.1111111111111111,\"#46039f\"],[0.2222222222222222,\"#7201a8\"],[0.3333333333333333,\"#9c179e\"],[0.4444444444444444,\"#bd3786\"],[0.5555555555555556,\"#d8576b\"],[0.6666666666666666,\"#ed7953\"],[0.7777777777777778,\"#fb9f3a\"],[0.8888888888888888,\"#fdca26\"],[1.0,\"#f0f921\"]]}],\"choropleth\":[{\"type\":\"choropleth\",\"colorbar\":{\"outlinewidth\":0,\"ticks\":\"\"}}],\"histogram2d\":[{\"type\":\"histogram2d\",\"colorbar\":{\"outlinewidth\":0,\"ticks\":\"\"},\"colorscale\":[[0.0,\"#0d0887\"],[0.1111111111111111,\"#46039f\"],[0.2222222222222222,\"#7201a8\"],[0.3333333333333333,\"#9c179e\"],[0.4444444444444444,\"#bd3786\"],[0.5555555555555556,\"#d8576b\"],[0.6666666666666666,\"#ed7953\"],[0.7777777777777778,\"#fb9f3a\"],[0.8888888888888888,\"#fdca26\"],[1.0,\"#f0f921\"]]}],\"heatmap\":[{\"type\":\"heatmap\",\"colorbar\":{\"outlinewidth\":0,\"ticks\":\"\"},\"colorscale\":[[0.0,\"#0d0887\"],[0.1111111111111111,\"#46039f\"],[0.2222222222222222,\"#7201a8\"],[0.3333333333333333,\"#9c179e\"],[0.4444444444444444,\"#bd3786\"],[0.5555555555555556,\"#d8576b\"],[0.6666666666666666,\"#ed7953\"],[0.7777777777777778,\"#fb9f3a\"],[0.8888888888888888,\"#fdca26\"],[1.0,\"#f0f921\"]]}],\"heatmapgl\":[{\"type\":\"heatmapgl\",\"colorbar\":{\"outlinewidth\":0,\"ticks\":\"\"},\"colorscale\":[[0.0,\"#0d0887\"],[0.1111111111111111,\"#46039f\"],[0.2222222222222222,\"#7201a8\"],[0.3333333333333333,\"#9c179e\"],[0.4444444444444444,\"#bd3786\"],[0.5555555555555556,\"#d8576b\"],[0.6666666666666666,\"#ed7953\"],[0.7777777777777778,\"#fb9f3a\"],[0.8888888888888888,\"#fdca26\"],[1.0,\"#f0f921\"]]}],\"contourcarpet\":[{\"type\":\"contourcarpet\",\"colorbar\":{\"outlinewidth\":0,\"ticks\":\"\"}}],\"contour\":[{\"type\":\"contour\",\"colorbar\":{\"outlinewidth\":0,\"ticks\":\"\"},\"colorscale\":[[0.0,\"#0d0887\"],[0.1111111111111111,\"#46039f\"],[0.2222222222222222,\"#7201a8\"],[0.3333333333333333,\"#9c179e\"],[0.4444444444444444,\"#bd3786\"],[0.5555555555555556,\"#d8576b\"],[0.6666666666666666,\"#ed7953\"],[0.7777777777777778,\"#fb9f3a\"],[0.8888888888888888,\"#fdca26\"],[1.0,\"#f0f921\"]]}],\"surface\":[{\"type\":\"surface\",\"colorbar\":{\"outlinewidth\":0,\"ticks\":\"\"},\"colorscale\":[[0.0,\"#0d0887\"],[0.1111111111111111,\"#46039f\"],[0.2222222222222222,\"#7201a8\"],[0.3333333333333333,\"#9c179e\"],[0.4444444444444444,\"#bd3786\"],[0.5555555555555556,\"#d8576b\"],[0.6666666666666666,\"#ed7953\"],[0.7777777777777778,\"#fb9f3a\"],[0.8888888888888888,\"#fdca26\"],[1.0,\"#f0f921\"]]}],\"mesh3d\":[{\"type\":\"mesh3d\",\"colorbar\":{\"outlinewidth\":0,\"ticks\":\"\"}}],\"scatter\":[{\"fillpattern\":{\"fillmode\":\"overlay\",\"size\":10,\"solidity\":0.2},\"type\":\"scatter\"}],\"parcoords\":[{\"type\":\"parcoords\",\"line\":{\"colorbar\":{\"outlinewidth\":0,\"ticks\":\"\"}}}],\"scatterpolargl\":[{\"type\":\"scatterpolargl\",\"marker\":{\"colorbar\":{\"outlinewidth\":0,\"ticks\":\"\"}}}],\"bar\":[{\"error_x\":{\"color\":\"#2a3f5f\"},\"error_y\":{\"color\":\"#2a3f5f\"},\"marker\":{\"line\":{\"color\":\"#E5ECF6\",\"width\":0.5},\"pattern\":{\"fillmode\":\"overlay\",\"size\":10,\"solidity\":0.2}},\"type\":\"bar\"}],\"scattergeo\":[{\"type\":\"scattergeo\",\"marker\":{\"colorbar\":{\"outlinewidth\":0,\"ticks\":\"\"}}}],\"scatterpolar\":[{\"type\":\"scatterpolar\",\"marker\":{\"colorbar\":{\"outlinewidth\":0,\"ticks\":\"\"}}}],\"histogram\":[{\"marker\":{\"pattern\":{\"fillmode\":\"overlay\",\"size\":10,\"solidity\":0.2}},\"type\":\"histogram\"}],\"scattergl\":[{\"type\":\"scattergl\",\"marker\":{\"colorbar\":{\"outlinewidth\":0,\"ticks\":\"\"}}}],\"scatter3d\":[{\"type\":\"scatter3d\",\"line\":{\"colorbar\":{\"outlinewidth\":0,\"ticks\":\"\"}},\"marker\":{\"colorbar\":{\"outlinewidth\":0,\"ticks\":\"\"}}}],\"scattermapbox\":[{\"type\":\"scattermapbox\",\"marker\":{\"colorbar\":{\"outlinewidth\":0,\"ticks\":\"\"}}}],\"scatterternary\":[{\"type\":\"scatterternary\",\"marker\":{\"colorbar\":{\"outlinewidth\":0,\"ticks\":\"\"}}}],\"scattercarpet\":[{\"type\":\"scattercarpet\",\"marker\":{\"colorbar\":{\"outlinewidth\":0,\"ticks\":\"\"}}}],\"carpet\":[{\"aaxis\":{\"endlinecolor\":\"#2a3f5f\",\"gridcolor\":\"white\",\"linecolor\":\"white\",\"minorgridcolor\":\"white\",\"startlinecolor\":\"#2a3f5f\"},\"baxis\":{\"endlinecolor\":\"#2a3f5f\",\"gridcolor\":\"white\",\"linecolor\":\"white\",\"minorgridcolor\":\"white\",\"startlinecolor\":\"#2a3f5f\"},\"type\":\"carpet\"}],\"table\":[{\"cells\":{\"fill\":{\"color\":\"#EBF0F8\"},\"line\":{\"color\":\"white\"}},\"header\":{\"fill\":{\"color\":\"#C8D4E3\"},\"line\":{\"color\":\"white\"}},\"type\":\"table\"}],\"barpolar\":[{\"marker\":{\"line\":{\"color\":\"#E5ECF6\",\"width\":0.5},\"pattern\":{\"fillmode\":\"overlay\",\"size\":10,\"solidity\":0.2}},\"type\":\"barpolar\"}],\"pie\":[{\"automargin\":true,\"type\":\"pie\"}]},\"layout\":{\"autotypenumbers\":\"strict\",\"colorway\":[\"#636efa\",\"#EF553B\",\"#00cc96\",\"#ab63fa\",\"#FFA15A\",\"#19d3f3\",\"#FF6692\",\"#B6E880\",\"#FF97FF\",\"#FECB52\"],\"font\":{\"color\":\"#2a3f5f\"},\"hovermode\":\"closest\",\"hoverlabel\":{\"align\":\"left\"},\"paper_bgcolor\":\"white\",\"plot_bgcolor\":\"#E5ECF6\",\"polar\":{\"bgcolor\":\"#E5ECF6\",\"angularaxis\":{\"gridcolor\":\"white\",\"linecolor\":\"white\",\"ticks\":\"\"},\"radialaxis\":{\"gridcolor\":\"white\",\"linecolor\":\"white\",\"ticks\":\"\"}},\"ternary\":{\"bgcolor\":\"#E5ECF6\",\"aaxis\":{\"gridcolor\":\"white\",\"linecolor\":\"white\",\"ticks\":\"\"},\"baxis\":{\"gridcolor\":\"white\",\"linecolor\":\"white\",\"ticks\":\"\"},\"caxis\":{\"gridcolor\":\"white\",\"linecolor\":\"white\",\"ticks\":\"\"}},\"coloraxis\":{\"colorbar\":{\"outlinewidth\":0,\"ticks\":\"\"}},\"colorscale\":{\"sequential\":[[0.0,\"#0d0887\"],[0.1111111111111111,\"#46039f\"],[0.2222222222222222,\"#7201a8\"],[0.3333333333333333,\"#9c179e\"],[0.4444444444444444,\"#bd3786\"],[0.5555555555555556,\"#d8576b\"],[0.6666666666666666,\"#ed7953\"],[0.7777777777777778,\"#fb9f3a\"],[0.8888888888888888,\"#fdca26\"],[1.0,\"#f0f921\"]],\"sequentialminus\":[[0.0,\"#0d0887\"],[0.1111111111111111,\"#46039f\"],[0.2222222222222222,\"#7201a8\"],[0.3333333333333333,\"#9c179e\"],[0.4444444444444444,\"#bd3786\"],[0.5555555555555556,\"#d8576b\"],[0.6666666666666666,\"#ed7953\"],[0.7777777777777778,\"#fb9f3a\"],[0.8888888888888888,\"#fdca26\"],[1.0,\"#f0f921\"]],\"diverging\":[[0,\"#8e0152\"],[0.1,\"#c51b7d\"],[0.2,\"#de77ae\"],[0.3,\"#f1b6da\"],[0.4,\"#fde0ef\"],[0.5,\"#f7f7f7\"],[0.6,\"#e6f5d0\"],[0.7,\"#b8e186\"],[0.8,\"#7fbc41\"],[0.9,\"#4d9221\"],[1,\"#276419\"]]},\"xaxis\":{\"gridcolor\":\"white\",\"linecolor\":\"white\",\"ticks\":\"\",\"title\":{\"standoff\":15},\"zerolinecolor\":\"white\",\"automargin\":true,\"zerolinewidth\":2},\"yaxis\":{\"gridcolor\":\"white\",\"linecolor\":\"white\",\"ticks\":\"\",\"title\":{\"standoff\":15},\"zerolinecolor\":\"white\",\"automargin\":true,\"zerolinewidth\":2},\"scene\":{\"xaxis\":{\"backgroundcolor\":\"#E5ECF6\",\"gridcolor\":\"white\",\"linecolor\":\"white\",\"showbackground\":true,\"ticks\":\"\",\"zerolinecolor\":\"white\",\"gridwidth\":2},\"yaxis\":{\"backgroundcolor\":\"#E5ECF6\",\"gridcolor\":\"white\",\"linecolor\":\"white\",\"showbackground\":true,\"ticks\":\"\",\"zerolinecolor\":\"white\",\"gridwidth\":2},\"zaxis\":{\"backgroundcolor\":\"#E5ECF6\",\"gridcolor\":\"white\",\"linecolor\":\"white\",\"showbackground\":true,\"ticks\":\"\",\"zerolinecolor\":\"white\",\"gridwidth\":2}},\"shapedefaults\":{\"line\":{\"color\":\"#2a3f5f\"}},\"annotationdefaults\":{\"arrowcolor\":\"#2a3f5f\",\"arrowhead\":0,\"arrowwidth\":1},\"geo\":{\"bgcolor\":\"white\",\"landcolor\":\"#E5ECF6\",\"subunitcolor\":\"white\",\"showland\":true,\"showlakes\":true,\"lakecolor\":\"white\"},\"title\":{\"x\":0.05},\"mapbox\":{\"style\":\"light\"}}},\"geo\":{\"domain\":{\"x\":[0.0,1.0],\"y\":[0.0,1.0]},\"center\":{},\"bgcolor\":\"beige\",\"showframe\":true,\"showcoastlines\":true,\"coastlinecolor\":\"black\"},\"coloraxis\":{\"colorbar\":{\"title\":{\"text\":\"total_funding\"}},\"colorscale\":[[0.0,\"rgb(237, 229, 207)\"],[0.16666666666666666,\"rgb(224, 194, 162)\"],[0.3333333333333333,\"rgb(211, 156, 131)\"],[0.5,\"rgb(193, 118, 111)\"],[0.6666666666666666,\"rgb(166, 84, 97)\"],[0.8333333333333334,\"rgb(129, 55, 83)\"],[1.0,\"rgb(84, 31, 63)\"]]},\"legend\":{\"tracegroupgap\":0},\"title\":{\"text\":\"Total Foreign Aid Received by Country\"},\"height\":600,\"width\":1000,\"font\":{\"color\":\"black\"},\"paper_bgcolor\":\"beige\"},                        {\"responsive\": true}                    ).then(function(){\n",
       "                            \n",
       "var gd = document.getElementById('6ec8d96f-8b53-4376-a708-6ffa06017908');\n",
       "var x = new MutationObserver(function (mutations, observer) {{\n",
       "        var display = window.getComputedStyle(gd).display;\n",
       "        if (!display || display === 'none') {{\n",
       "            console.log([gd, 'removed!']);\n",
       "            Plotly.purge(gd);\n",
       "            observer.disconnect();\n",
       "        }}\n",
       "}});\n",
       "\n",
       "// Listen for the removal of the full notebook cells\n",
       "var notebookContainer = gd.closest('#notebook-container');\n",
       "if (notebookContainer) {{\n",
       "    x.observe(notebookContainer, {childList: true});\n",
       "}}\n",
       "\n",
       "// Listen for the clearing of the current output cell\n",
       "var outputEl = gd.closest('.output');\n",
       "if (outputEl) {{\n",
       "    x.observe(outputEl, {childList: true});\n",
       "}}\n",
       "\n",
       "                        })                };                });            </script>        </div>"
      ]
     },
     "metadata": {},
     "output_type": "display_data"
    }
   ],
   "source": [
    "# Aggregate total funding per country and find top aid purpose\n",
    "aid_map_data = aid2.groupby(['Country Name', 'Country Code'], as_index=False).agg(\n",
    "    total_funding=('Current Dollar Amount', 'sum'),\n",
    "    top_purpose=('International Purpose Name', lambda x: x.value_counts().idxmax())\n",
    ")\n",
    "\n",
    "# Create a larger choropleth map using Plotly Express with enhanced color sensitivity\n",
    "fig = px.choropleth(\n",
    "    aid_map_data,\n",
    "    locations='Country Code',\n",
    "    locationmode='ISO-3',\n",
    "    color='total_funding',\n",
    "    hover_name='Country Name',\n",
    "    hover_data={'top_purpose': True, 'total_funding': True},\n",
    "    color_continuous_scale='brwnyl',\n",
    "    title=\"Total Foreign Aid Received by Country\",\n",
    "    width=1000,\n",
    "    height=600\n",
    ")\n",
    "\n",
    "# Set beige background and customize layout\n",
    "fig.update_layout(\n",
    "    paper_bgcolor=\"beige\",  # Beige background\n",
    "    geo=dict(\n",
    "        bgcolor=\"beige\",  # Beige map background\n",
    "        showframe=True,  # Hide map border\n",
    "        showcoastlines=True,  # Keep coastlines\n",
    "        coastlinecolor=\"black\"\n",
    "    ),\n",
    "    font=dict(color=\"black\")  # Ensure text is readable\n",
    ")\n",
    "\n",
    "# Export the interactive chart as an HTML file\n",
    "fig.write_html(\"interactive_map.html\")\n",
    "\n",
    "fig.show()"
   ]
  },
  {
   "cell_type": "code",
   "execution_count": null,
   "id": "5c7af302-28eb-46ac-b9d6-6b8ea8c64b2e",
   "metadata": {},
   "outputs": [],
   "source": [
    "# Load and prepare the data\n",
    "df = pd.read_csv('us_foreign_aid_country.csv')\n",
    "\n",
    "# Filter for European and Asian countries\n",
    "europe_asia_df = df[df['Region Name'].isin(['Europe and Eurasia', 'South and Central Asia', 'East Asia and Oceania'])]\n",
    "\n",
    "# Clean and convert Fiscal Year to integer\n",
    "def clean_year(year_str):\n",
    "    try:\n",
    "        # Extract first 4 digits (removes any suffixes like 'tq')\n",
    "        return int(str(year_str)[:4])\n",
    "    except:\n",
    "        return np.nan\n",
    "\n",
    "europe_asia_df['Fiscal Year'] = europe_asia_df['Fiscal Year'].apply(clean_year)\n",
    "europe_asia_df = europe_asia_df.dropna(subset=['Fiscal Year'])  # Remove rows with invalid years\n",
    "\n",
    "# Aggregate by region and year\n",
    "aid_by_region = europe_asia_df.groupby(['Region Name', 'Fiscal Year'])['current_amount'].sum().reset_index()\n",
    "\n",
    "# Create radio button input for region selection\n",
    "inputs = alt.binding_radio(options=aid_by_region['Region Name'].unique(), name='Region: ')\n",
    "selection = alt.selection_point(fields=['Region Name'], bind=inputs, empty=False)\n",
    "\n",
    "# Get min and max years for axis ticks\n",
    "min_year = int(aid_by_region['Fiscal Year'].min())\n",
    "max_year = int(aid_by_region['Fiscal Year'].max())\n",
    "year_ticks = list(range(min_year, max_year + 1, 10))\n",
    "\n",
    "# Create scatter plot of aid over time\n",
    "scatter_plot = alt.Chart(aid_by_region).mark_circle(size=60).encode(\n",
    "    x=alt.X('Fiscal Year:O', title='Year', axis=alt.Axis(values=year_ticks)),\n",
    "    y=alt.Y('current_amount:Q', title='Aid Amount (USD)', scale=alt.Scale(type='log')),\n",
    "    color=alt.condition(selection, \n",
    "                       alt.Color('Region Name:N', legend=None),\n",
    "                       alt.value('lightgray')),\n",
    "    opacity=alt.condition(selection, alt.value(1), alt.value(0.1)),\n",
    "    tooltip=['Region Name', 'Fiscal Year', 'current_amount']\n",
    ").add_params(\n",
    "    selection\n",
    ").properties(\n",
    "    width=800,\n",
    "    height=400,\n",
    "    title='US Foreign Aid Over Time by Region (Select Region Below)'\n",
    ")\n",
    "\n",
    "# Configure the chart\n",
    "scatter_plot.configure_axis(\n",
    "    labelAngle=45\n",
    ").configure_view(\n",
    "    strokeWidth=0\n",
    ").configure_axisX(\n",
    "    grid=False\n",
    ").configure_axisY(\n",
    "    grid=False\n",
    ")"
   ]
  },
  {
   "cell_type": "code",
   "execution_count": null,
   "id": "33848bce-f6e6-4738-a747-b2598326fb88",
   "metadata": {},
   "outputs": [],
   "source": [
    "from dash import Dash, dcc, html\n",
    "from dash.dependencies import Input, Output\n",
    "\n",
    "# Load the data\n",
    "df = pd.read_csv('us_foreign_aid_funding.csv')\n",
    "\n",
    "# Data cleaning and preparation\n",
    "df = df[['Country Name', 'Funding Account Name', 'Transaction Type Name', 'Fiscal Year', 'current_amount']]\n",
    "df = df[df['current_amount'] > 0]  # Remove negative values\n",
    "\n",
    "# Categorize countries into the three specified regions\n",
    "def assign_region(country):\n",
    "    europe_eurasia = ['Albania', 'Armenia', 'Azerbaijan', 'Belarus', 'Bosnia and Herzegovina',\n",
    "                     'Bulgaria', 'Croatia', 'Czechia', 'Estonia', 'Georgia', 'Hungary',\n",
    "                     'Kazakhstan', 'Kosovo', 'Moldova', 'Montenegro', 'North Macedonia',\n",
    "                     'Russia', 'Serbia', 'Ukraine']\n",
    "    \n",
    "    east_asia_oceania = ['China', 'Indonesia', 'Cambodia', 'Timor-Leste']\n",
    "    \n",
    "    south_central_asia = ['Afghanistan', 'Bangladesh', 'India', 'Pakistan']\n",
    "    \n",
    "    if country in europe_eurasia:\n",
    "        return 'Europe & Eurasia'\n",
    "    elif country in east_asia_oceania:\n",
    "        return 'East Asia & Oceania'\n",
    "    elif country in south_central_asia:\n",
    "        return 'South & Central Asia'\n",
    "    else:\n",
    "        return None  # Will be filtered out\n",
    "\n",
    "df['Region'] = df['Country Name'].apply(assign_region)\n",
    "df = df[df['Region'].notna()]  # Keep only the three specified regions\n",
    "\n",
    "# Categorize funding by sector\n",
    "def assign_sector(account_name):\n",
    "    account_name = str(account_name).lower()\n",
    "    if 'capital' in account_name or 'investment' in account_name:\n",
    "        return 'Infrastructure'\n",
    "    elif 'stabilization' in account_name or 'security' in account_name:\n",
    "        return 'Security'\n",
    "    elif 'health' in account_name or 'medical' in account_name:\n",
    "        return 'Health'\n",
    "    elif 'education' in account_name or 'school' in account_name:\n",
    "        return 'Education'\n",
    "    elif 'aeeca' in account_name or 'democracy' in account_name or 'governance' in account_name:\n",
    "        return 'Democracy & Governance'\n",
    "    else:\n",
    "        return 'Other'\n",
    "\n",
    "df['Sector'] = df['Funding Account Name'].apply(assign_sector)\n",
    "\n",
    "# Aggregate data\n",
    "agg_df = df.groupby(['Region', 'Sector', 'Fiscal Year'])['current_amount'].sum().reset_index()\n",
    "\n",
    "# Create Dash app\n",
    "app = Dash(__name__)\n",
    "\n",
    "app.layout = html.Div([\n",
    "    html.H1(\"U.S. Foreign Aid to Key Regions (2004-2025)\"),\n",
    "    html.Div([\n",
    "        dcc.Dropdown(\n",
    "            id='year-range',\n",
    "            options=[{'label': str(year), 'value': year} \n",
    "                    for year in sorted(df['Fiscal Year'].unique())],\n",
    "            value=2023,\n",
    "            multi=False,\n",
    "            style={'width': '50%'}\n",
    "        ),\n",
    "        dcc.RadioItems(\n",
    "            id='view-type',\n",
    "            options=[\n",
    "                {'label': 'Absolute Values (USD)', 'value': 'absolute'},\n",
    "                {'label': 'Percentage Composition', 'value': 'percentage'}\n",
    "            ],\n",
    "            value='absolute',\n",
    "            labelStyle={'display': 'inline-block', 'margin-right': '10px'}\n",
    "        )\n",
    "    ]),\n",
    "    dcc.Graph(id='aid-chart'),\n",
    "    html.Div([\n",
    "        html.P(\"Explore U.S. foreign aid distribution across three key regions:\"),\n",
    "        html.Ul([\n",
    "            html.Li(\"Europe & Eurasia\"),\n",
    "            html.Li(\"East Asia & Oceania\"),\n",
    "            html.Li(\"South & Central Asia\")\n",
    "        ]),\n",
    "        html.P(\"Hover over bars to see detailed information about sector allocations.\")\n",
    "    ], style={'margin-top': '20px'})\n",
    "])\n",
    "\n",
    "@app.callback(\n",
    "    Output('aid-chart', 'figure'),\n",
    "    [Input('year-range', 'value'),\n",
    "     Input('view-type', 'value')]\n",
    ")\n",
    "def update_chart(selected_year, view_type):\n",
    "    filtered_df = agg_df[agg_df['Fiscal Year'] == selected_year]\n",
    "    \n",
    "    if view_type == 'percentage':\n",
    "        # Calculate percentages\n",
    "        total_by_region = filtered_df.groupby('Region')['current_amount'].transform('sum')\n",
    "        filtered_df['percentage'] = (filtered_df['current_amount'] / total_by_region) * 100\n",
    "        y_value = 'percentage'\n",
    "        title = f'U.S. Foreign Aid by Sector ({selected_year}) - Percentage Composition'\n",
    "        y_title = 'Percentage (%)'\n",
    "    else:\n",
    "        y_value = 'current_amount'\n",
    "        title = f'U.S. Foreign Aid by Sector ({selected_year}) - USD Amounts'\n",
    "        y_title = 'Amount (USD)'\n",
    "    \n",
    "    fig = px.bar(\n",
    "        filtered_df,\n",
    "        x='Region',\n",
    "        y=y_value,\n",
    "        color='Sector',\n",
    "        title=title,\n",
    "        labels={'current_amount': 'Amount (USD)', 'percentage': 'Percentage (%)'},\n",
    "        hover_data=['current_amount'],\n",
    "        color_discrete_sequence=px.colors.qualitative.Pastel\n",
    "    )\n",
    "    \n",
    "    fig.update_layout(\n",
    "        barmode='stack',\n",
    "        xaxis={'categoryorder': 'total descending'},\n",
    "        hovermode='x unified',\n",
    "        height=600,\n",
    "        yaxis_title=y_title,\n",
    "        xaxis_title='Region'\n",
    "    )\n",
    "    \n",
    "    if view_type == 'percentage':\n",
    "        fig.update_yaxes(range=[0, 100])\n",
    "    \n",
    "    return fig\n",
    "\n",
    "if __name__ == '__main__':\n",
    "    app.run(debug=True)"
   ]
  },
  {
   "cell_type": "code",
   "execution_count": null,
   "id": "ba568d47-d680-4099-ac22-02910103728f",
   "metadata": {},
   "outputs": [],
   "source": []
  }
 ],
 "metadata": {
  "kernelspec": {
   "display_name": "Python 3 (ipykernel)",
   "language": "python",
   "name": "python3"
  },
  "language_info": {
   "codemirror_mode": {
    "name": "ipython",
    "version": 3
   },
   "file_extension": ".py",
   "mimetype": "text/x-python",
   "name": "python",
   "nbconvert_exporter": "python",
   "pygments_lexer": "ipython3",
   "version": "3.13.1"
  }
 },
 "nbformat": 4,
 "nbformat_minor": 5
}
